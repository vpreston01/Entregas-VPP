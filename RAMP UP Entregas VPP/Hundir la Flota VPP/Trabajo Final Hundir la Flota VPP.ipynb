{
 "cells": [
  {
   "cell_type": "code",
   "execution_count": 5,
   "metadata": {},
   "outputs": [],
   "source": [
    "import numpy as np\n",
    "from colorama import Fore,Back\n",
    "import time"
   ]
  },
  {
   "cell_type": "code",
   "execution_count": 6,
   "metadata": {},
   "outputs": [],
   "source": [
    "def crear_tablero():\n",
    "    tablero = np.full((10,10),\" \")\n",
    "    return tablero"
   ]
  },
  {
   "cell_type": "code",
   "execution_count": 7,
   "metadata": {},
   "outputs": [],
   "source": [
    "def crear_barcos():\n",
    "    barcos = {1:4,2:3,3:2,4:1} # Eslora,número de barcos\n",
    "    return barcos\n"
   ]
  },
  {
   "cell_type": "code",
   "execution_count": 5,
   "metadata": {},
   "outputs": [],
   "source": [
    "def definir_orientacion():\n",
    "    \n",
    "    if np.random.randint(0,2,1):\n",
    "        orientacion = \"horizontal\"\n",
    "        return orientacion\n",
    "    else:\n",
    "        orientacion = \"vertical\"\n",
    "        return orientacion"
   ]
  },
  {
   "cell_type": "code",
   "execution_count": 8,
   "metadata": {},
   "outputs": [],
   "source": [
    "def vidas():\n",
    "    barcos = crear_barcos()\n",
    "    vidas = []\n",
    "\n",
    "    for barco,size in barcos.items():\n",
    "         vidas.append(barco*size)\n",
    "\n",
    "    vidas = sum(vidas)\n",
    "    return vidas"
   ]
  },
  {
   "cell_type": "code",
   "execution_count": 142,
   "metadata": {},
   "outputs": [],
   "source": [
    "def verificar_vidas(tablero):\n",
    "    np.count_nonzero(tablero == \"B\")"
   ]
  },
  {
   "cell_type": "code",
   "execution_count": 9,
   "metadata": {},
   "outputs": [],
   "source": [
    "def posicionar_barcos():\n",
    "\n",
    "    barcos =crear_barcos()\n",
    "    tablero = crear_tablero()\n",
    "\n",
    "    for barco,size in barcos.items():\n",
    "        while barco>0:\n",
    "            if np.random.randint(0,2,1):\n",
    "                orientacion = \"horizontal\"\n",
    "                coordenada_1 = np.random.randint(0,10)\n",
    "                coordenada_2 = np.random.randint(0,10-size + 1)\n",
    "                if \"B\" in tablero[max(0, coordenada_1 - 1):min(10, coordenada_1 + size + 1), max(0, coordenada_2 - 1):min(10, coordenada_2 + size + 1)]:\n",
    "                    pass\n",
    "                else:\n",
    "                    tablero[coordenada_1,coordenada_2:coordenada_2 + size] = \"B\"\n",
    "                    barco = barco -1\n",
    "            else:\n",
    "                orientacion = \"vertical\"\n",
    "                coordenada_2 = np.random.randint(0,10)\n",
    "                coordenada_1 = np.random.randint(0,10-size + 1) # Dependiendo del tamaño del barco\n",
    "                if \"B\" in tablero[max(0, coordenada_1 - 1):min(10, coordenada_1 + size + 1), max(0, coordenada_2 - 1):min(10, coordenada_2 + size + 1)]:\n",
    "                    pass\n",
    "                else:\n",
    "                    tablero[coordenada_1:coordenada_1 + size,coordenada_2] = \"B\"\n",
    "                    barco = barco -1\n",
    "    return tablero\n",
    "\n",
    "                    "
   ]
  },
  {
   "cell_type": "code",
   "execution_count": 128,
   "metadata": {},
   "outputs": [],
   "source": [
    "def verificar(tablero):\n",
    "    contar = 0\n",
    "    for fila in tablero:\n",
    "        for columna in fila:\n",
    "            if columna == \"B\":\n",
    "                contar = contar - 1\n",
    "                if contar == 0:\n",
    "                    print(\"Has Ganado\")\n",
    "                    break\n",
    "        return contar"
   ]
  },
  {
   "cell_type": "code",
   "execution_count": 90,
   "metadata": {},
   "outputs": [],
   "source": [
    "def disparo_jugador (tablero): \n",
    "    contar = 0\n",
    "    while True:\n",
    "        print()\n",
    "        print(Fore.RESET + \"Ahora debe elegir las coordenadas a disparar\")\n",
    "        fila = int(input(\"Ingrese Fila donde quiere apuntar (0 - 9)\"))\n",
    "        columna = int(input(\"Ingrese columna donde quiere apuntar (0 - 9)\"))\n",
    "        if (0 <= fila <= 9) and (0 <= columna <= 9):\n",
    "            disparo = fila,columna\n",
    "            print(Fore.YELLOW + f\"Has disparado al punto ({disparo})\")\n",
    "            \n",
    "            if tablero[disparo] == \"B\":\n",
    "                    tablero[disparo] = \"X\"\n",
    "                    print(\"Has dado a un barco\")\n",
    "                    print()\n",
    "                    # Verificar si ha ganado el jugador\n",
    "\n",
    "                    contar = contar + 1\n",
    "                    if contar == 0:\n",
    "                        print(\"Has Ganado\")\n",
    "                        break\n",
    "\n",
    "            else:\n",
    "                    tablero[disparo] = \"X\"\n",
    "                    print(Fore.YELLOW+ \"Has fallado\")\n",
    "                    print()\n",
    "                    break\n",
    "            \n",
    "        else:\n",
    "              print(\"Ingrese de nuevo las coordenadas entre 0 - 9\")\n",
    "    return tablero, contar\n",
    "                  \n",
    "        "
   ]
  },
  {
   "cell_type": "code",
   "execution_count": 105,
   "metadata": {},
   "outputs": [],
   "source": [
    "def disparo_maquina(tablero):\n",
    "    disparos_fallados = []\n",
    "    disparo_acertados = []\n",
    "    contar = 20\n",
    "    while True:\n",
    "        coordenada_1 = np.random.randint(0,10)\n",
    "        coordenada_2 = np.random.randint(0,10)\n",
    "        disparo = coordenada_1,coordenada_2\n",
    "\n",
    "\n",
    "        if tablero[disparo] == \"B\":\n",
    "            print(Fore.RED + f\"Te han dado {disparo}\")\n",
    "            disparo_acertados.append(disparo)\n",
    "            tablero[disparo] = \"X\"\n",
    "\n",
    "            contar = contar - 1\n",
    "            if contar == 0:\n",
    "                    print(\"Has perdido\")\n",
    "                    break\n",
    "            \n",
    "        else:\n",
    "            tablero[disparo] = \"X\"\n",
    "            disparos_fallados.append(disparo)\n",
    "            print(Fore.RED +\"Ha fallado la máquina\")\n",
    "            print()\n",
    "            break\n",
    "    print()\n",
    "    print(Fore.RED + Back.RESET +f\"Disparos fallados: {disparos_fallados}\")\n",
    "    print(Fore.RED +f\"Disparos acertados: {disparo_acertados}\")\n",
    "    print()\n",
    "    return tablero,contar"
   ]
  },
  {
   "cell_type": "code",
   "execution_count": 121,
   "metadata": {},
   "outputs": [],
   "source": [
    "tablero_jugador = crear_tablero()\n",
    "tablero_maquina = crear_tablero()\n",
    "\n",
    "barcos_jugador = crear_barcos()\n",
    "barcos_maquina = crear_barcos()\n",
    "\n",
    "vidas_jugador = vidas()\n",
    "vidas_maquina = vidas()\n",
    "\n",
    "posicion_jugador = posicionar_barcos()\n",
    "posicion_maquina = posicionar_barcos()\n",
    "\n"
   ]
  },
  {
   "cell_type": "code",
   "execution_count": 122,
   "metadata": {},
   "outputs": [
    {
     "name": "stdout",
     "output_type": "stream",
     "text": [
      "\u001b[33mFlota Jugador\n",
      "{1: 4, 2: 3, 3: 2, 4: 1}\n",
      "Vidas:20\n",
      "[[' ' ' ' ' ' 'B' 'B' ' ' ' ' ' ' 'B' ' ']\n",
      " [' ' 'B' ' ' ' ' ' ' ' ' ' ' ' ' ' ' ' ']\n",
      " [' ' ' ' ' ' ' ' ' ' ' ' ' ' ' ' ' ' ' ']\n",
      " ['B' 'B' 'B' ' ' ' ' 'B' ' ' ' ' ' ' ' ']\n",
      " [' ' ' ' ' ' ' ' ' ' 'B' ' ' ' ' ' ' 'B']\n",
      " [' ' ' ' ' ' ' ' ' ' 'B' ' ' 'B' ' ' 'B']\n",
      " ['B' ' ' ' ' ' ' ' ' 'B' ' ' ' ' ' ' 'B']\n",
      " ['B' ' ' ' ' ' ' ' ' ' ' ' ' ' ' ' ' ' ']\n",
      " [' ' ' ' ' ' ' ' ' ' ' ' ' ' ' ' ' ' ' ']\n",
      " [' ' 'B' ' ' ' ' 'B' 'B' ' ' ' ' ' ' ' ']]\n",
      "\n",
      "\u001b[31mFlota Máquina\n",
      "{1: 4, 2: 3, 3: 2, 4: 1}\n",
      "Vidas:20\n",
      "[['B' ' ' 'B' ' ' ' ' ' ' ' ' ' ' ' ' ' ']\n",
      " [' ' ' ' 'B' ' ' ' ' ' ' ' ' ' ' ' ' 'B']\n",
      " [' ' ' ' ' ' ' ' ' ' ' ' 'B' ' ' ' ' 'B']\n",
      " [' ' ' ' ' ' ' ' ' ' ' ' 'B' ' ' ' ' ' ']\n",
      " [' ' 'B' ' ' 'B' ' ' ' ' 'B' ' ' ' ' ' ']\n",
      " [' ' ' ' ' ' ' ' ' ' ' ' ' ' ' ' ' ' 'B']\n",
      " [' ' ' ' ' ' 'B' 'B' 'B' 'B' ' ' ' ' 'B']\n",
      " ['B' ' ' ' ' ' ' ' ' ' ' ' ' ' ' ' ' ' ']\n",
      " [' ' ' ' ' ' ' ' ' ' ' ' ' ' ' ' ' ' ' ']\n",
      " [' ' ' ' ' ' 'B' 'B' 'B' ' ' ' ' ' ' ' ']]\n",
      "\n",
      "\u001b[39mAhora debe elegir las coordenadas a disparar\n",
      "\u001b[33mHas disparado al punto ((0, 0))\n",
      "Has dado a un barco\n",
      "\n",
      "\n",
      "\u001b[39mAhora debe elegir las coordenadas a disparar\n",
      "\u001b[33mHas disparado al punto ((0, 3))\n",
      "\u001b[33mHas fallado\n",
      "\n",
      "\u001b[31mVidas Máquina 1\n",
      "\u001b[31mHa fallado la máquina\n",
      "\n",
      "\n",
      "\u001b[31m\u001b[49mDisparos fallados: [(6, 7)]\n",
      "\u001b[31mDisparos acertados: []\n",
      "\n",
      "\u001b[33mVidas Jugador 20\n",
      "\n",
      "\u001b[39mAhora debe elegir las coordenadas a disparar\n"
     ]
    },
    {
     "ename": "ValueError",
     "evalue": "invalid literal for int() with base 10: ''",
     "output_type": "error",
     "traceback": [
      "\u001b[1;31m---------------------------------------------------------------------------\u001b[0m",
      "\u001b[1;31mValueError\u001b[0m                                Traceback (most recent call last)",
      "Cell \u001b[1;32mIn[122], line 10\u001b[0m\n\u001b[0;32m      8\u001b[0m restantes_maquina \u001b[38;5;241m=\u001b[39m \u001b[38;5;241m20\u001b[39m\n\u001b[0;32m      9\u001b[0m \u001b[38;5;28;01mwhile\u001b[39;00m \u001b[38;5;28;01mTrue\u001b[39;00m:\n\u001b[1;32m---> 10\u001b[0m     tablero,contador \u001b[38;5;241m=\u001b[39m \u001b[43mdisparo_jugador\u001b[49m\u001b[43m(\u001b[49m\u001b[43mposicion_maquina\u001b[49m\u001b[43m)\u001b[49m\n\u001b[0;32m     11\u001b[0m     restantes_maquina \u001b[38;5;241m=\u001b[39m restantes_maquina \u001b[38;5;241m-\u001b[39m contador\n\u001b[0;32m     12\u001b[0m     \u001b[38;5;28mprint\u001b[39m(Fore\u001b[38;5;241m.\u001b[39mRED \u001b[38;5;241m+\u001b[39m \u001b[38;5;124m\"\u001b[39m\u001b[38;5;124mVidas Máquina\u001b[39m\u001b[38;5;124m\"\u001b[39m,restantes_maquina )\n",
      "Cell \u001b[1;32mIn[90], line 6\u001b[0m, in \u001b[0;36mdisparo_jugador\u001b[1;34m(tablero)\u001b[0m\n\u001b[0;32m      4\u001b[0m \u001b[38;5;28mprint\u001b[39m()\n\u001b[0;32m      5\u001b[0m \u001b[38;5;28mprint\u001b[39m(Fore\u001b[38;5;241m.\u001b[39mRESET \u001b[38;5;241m+\u001b[39m \u001b[38;5;124m\"\u001b[39m\u001b[38;5;124mAhora debe elegir las coordenadas a disparar\u001b[39m\u001b[38;5;124m\"\u001b[39m)\n\u001b[1;32m----> 6\u001b[0m fila \u001b[38;5;241m=\u001b[39m \u001b[38;5;28;43mint\u001b[39;49m\u001b[43m(\u001b[49m\u001b[38;5;28;43minput\u001b[39;49m\u001b[43m(\u001b[49m\u001b[38;5;124;43m\"\u001b[39;49m\u001b[38;5;124;43mIngrese Fila donde quiere apuntar (0 - 9)\u001b[39;49m\u001b[38;5;124;43m\"\u001b[39;49m\u001b[43m)\u001b[49m\u001b[43m)\u001b[49m\n\u001b[0;32m      7\u001b[0m columna \u001b[38;5;241m=\u001b[39m \u001b[38;5;28mint\u001b[39m(\u001b[38;5;28minput\u001b[39m(\u001b[38;5;124m\"\u001b[39m\u001b[38;5;124mIngrese columna donde quiere apuntar (0 - 9)\u001b[39m\u001b[38;5;124m\"\u001b[39m))\n\u001b[0;32m      8\u001b[0m \u001b[38;5;28;01mif\u001b[39;00m (\u001b[38;5;241m0\u001b[39m \u001b[38;5;241m<\u001b[39m\u001b[38;5;241m=\u001b[39m fila \u001b[38;5;241m<\u001b[39m\u001b[38;5;241m=\u001b[39m \u001b[38;5;241m9\u001b[39m) \u001b[38;5;129;01mand\u001b[39;00m (\u001b[38;5;241m0\u001b[39m \u001b[38;5;241m<\u001b[39m\u001b[38;5;241m=\u001b[39m columna \u001b[38;5;241m<\u001b[39m\u001b[38;5;241m=\u001b[39m \u001b[38;5;241m9\u001b[39m):\n",
      "\u001b[1;31mValueError\u001b[0m: invalid literal for int() with base 10: ''"
     ]
    }
   ],
   "source": [
    "jugando = True\n",
    "\n",
    "print(Fore.YELLOW + \"Flota Jugador\\n\",barcos_jugador,\"\\nVidas:\",vidas_jugador,sep=\"\")\n",
    "print(posicion_jugador)\n",
    "print()\n",
    "print(Fore.RED + \"Flota Máquina\\n\",barcos_maquina,\"\\nVidas:\",vidas_maquina,sep=\"\")\n",
    "print(posicion_maquina)\n",
    "restantes_maquina = 20\n",
    "while True:\n",
    "    tablero,contador = disparo_jugador(posicion_maquina)\n",
    "    restantes_maquina = restantes_maquina - contador\n",
    "    print(Fore.RED + \"Vidas Máquina\",restantes_maquina )\n",
    "    time.sleep(3)\n",
    "    tablero,contador = disparo_maquina(posicion_jugador)\n",
    "    print(Fore.YELLOW + \"Vidas Jugador\", contador)\n",
    "    time.sleep(3)\n",
    "\n",
    "\n"
   ]
  }
 ],
 "metadata": {
  "kernelspec": {
   "display_name": "EDA_ENV",
   "language": "python",
   "name": "python3"
  },
  "language_info": {
   "codemirror_mode": {
    "name": "ipython",
    "version": 3
   },
   "file_extension": ".py",
   "mimetype": "text/x-python",
   "name": "python",
   "nbconvert_exporter": "python",
   "pygments_lexer": "ipython3",
   "version": "3.10.14"
  }
 },
 "nbformat": 4,
 "nbformat_minor": 2
}
