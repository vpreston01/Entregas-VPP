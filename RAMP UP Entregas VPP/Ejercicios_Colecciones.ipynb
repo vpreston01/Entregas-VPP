{
 "cells": [
  {
   "cell_type": "markdown",
   "metadata": {},
   "source": [
    "![imagen](./img/ejercicios.png)"
   ]
  },
  {
   "cell_type": "markdown",
   "metadata": {},
   "source": [
    "## Ejercicio 1\n",
    "Dada la siguiente lista:\n",
    "> ```ejer_1 = [1,2,3,4,5]```\n",
    "\n",
    "Inviértela para que quede de la siguiente manera\n",
    "> ```ejer_1 = [5,4,3,2,1]```"
   ]
  },
  {
   "cell_type": "code",
   "execution_count": 6,
   "metadata": {},
   "outputs": [
    {
     "data": {
      "text/plain": [
       "[5, 4, 3, 2, 1]"
      ]
     },
     "execution_count": 6,
     "metadata": {},
     "output_type": "execute_result"
    }
   ],
   "source": [
    "ejer_1 = [1,2,3,4,5]\n",
    "ejer_1.sort(reverse=True)\n",
    "ejer_1"
   ]
  },
  {
   "cell_type": "code",
   "execution_count": 7,
   "metadata": {},
   "outputs": [
    {
     "data": {
      "text/plain": [
       "[5, 4, 3, 2, 1]"
      ]
     },
     "execution_count": 7,
     "metadata": {},
     "output_type": "execute_result"
    }
   ],
   "source": [
    "ejer_1 = [1,2,3,4,5]\n",
    "sorted_ejer_1 = sorted(ejer_1, reverse=True)\n",
    "sorted_ejer_1"
   ]
  },
  {
   "cell_type": "code",
   "execution_count": 2,
   "metadata": {},
   "outputs": [
    {
     "data": {
      "text/plain": [
       "[5, 4, 3, 2, 1]"
      ]
     },
     "execution_count": 2,
     "metadata": {},
     "output_type": "execute_result"
    }
   ],
   "source": [
    "ejer_1 = [1,2,3,4,5]\n",
    "ejer_1 [::-1]"
   ]
  },
  {
   "cell_type": "markdown",
   "metadata": {},
   "source": [
    "## Ejercicio 2\n",
    "Eleva todos los elementos de la lista al cuadrado\n",
    "> ```ejer_2 = [1,2,3,4,5]```"
   ]
  },
  {
   "cell_type": "code",
   "execution_count": 14,
   "metadata": {},
   "outputs": [
    {
     "name": "stdout",
     "output_type": "stream",
     "text": [
      "[1, 4, 9, 16, 25]\n"
     ]
    }
   ],
   "source": [
    "ejer_2 = [1,2,3,4,5]\n",
    "lista = []\n",
    "\n",
    "for elemento in ejer_2:\n",
    "        elemento = elemento**2\n",
    "        lista.append(elemento) \n",
    "print(lista)"
   ]
  },
  {
   "cell_type": "markdown",
   "metadata": {},
   "source": [
    "## Ejercicio 3\n",
    "Crea una lista nueva con todas las combinaciones de las siguientes dos listas:\n",
    "> ```ejer_3_1 = [\"Hola\", \"amigo\"]```\n",
    ">\n",
    "> ```ejer_3_2 = [\"Que\", \"tal\"]```\n",
    "\n",
    "Obten el siguiente output:\n",
    "\n",
    "```['Hola Que', 'Hola tal', 'amigo Que', 'amigo tal']```"
   ]
  },
  {
   "cell_type": "code",
   "execution_count": 21,
   "metadata": {},
   "outputs": [
    {
     "data": {
      "text/plain": [
       "['Hola Que', 'Hola tal', 'amigo Que', 'amigo tal']"
      ]
     },
     "execution_count": 21,
     "metadata": {},
     "output_type": "execute_result"
    }
   ],
   "source": [
    "ejer_3_1 = [\"Hola\", \"amigo\"]\n",
    "ejer_3_2 = [\"Que\", \"tal\"]\n",
    "lista_a_b = []\n",
    "\n",
    "for lista_a in ejer_3_1:\n",
    "    for lista_b in ejer_3_2:\n",
    "        lista_a_b.append(lista_a +' '+ lista_b)\n",
    "lista_a_b"
   ]
  },
  {
   "attachments": {},
   "cell_type": "markdown",
   "metadata": {},
   "source": [
    "## Ejercicio 4\n",
    "Dada la siguiente lista, encuentra por el índice el valor 45 y sustitúyelo por el 0\n",
    "> ```ejer_4 = [20, 47, 19, 29, 45, 67, 78, 90]```"
   ]
  },
  {
   "cell_type": "code",
   "execution_count": 19,
   "metadata": {},
   "outputs": [
    {
     "name": "stdout",
     "output_type": "stream",
     "text": [
      " El 45 estaba en la posición 4\n"
     ]
    },
    {
     "data": {
      "text/plain": [
       "[20, 47, 19, 29, 0, 67, 78, 90]"
      ]
     },
     "execution_count": 19,
     "metadata": {},
     "output_type": "execute_result"
    }
   ],
   "source": [
    "# ejercicio resuelto usando solo indice\n",
    "\n",
    "ejer_4 = [20, 47, 19, 29, 45, 67, 78, 90]\n",
    "\n",
    "for indice in range (len(ejer_4)):\n",
    "    if ejer_4[indice] == 45:\n",
    "        print(f\" El 45 estaba en la posición {indice}\")\n",
    "        ejer_4[indice] = 0\n",
    "\n",
    "ejer_4\n",
    "\n"
   ]
  },
  {
   "cell_type": "code",
   "execution_count": 22,
   "metadata": {},
   "outputs": [
    {
     "name": "stdout",
     "output_type": "stream",
     "text": [
      "El indice del 45 es:  4\n"
     ]
    },
    {
     "data": {
      "text/plain": [
       "[20, 47, 19, 29, 0, 67, 78, 90]"
      ]
     },
     "execution_count": 22,
     "metadata": {},
     "output_type": "execute_result"
    }
   ],
   "source": [
    "# ejercicio resuelto con función enumerate\n",
    "\n",
    "ejer_4 = [20, 47, 19, 29, 45, 67, 78, 90]\n",
    "\n",
    "\n",
    "for indice, elemento in enumerate(ejer_4):\n",
    "    if elemento == 45:\n",
    "        print(\"El indice del 45 es: \", indice)\n",
    "        ejer_4[indice] = 0\n",
    "ejer_4"
   ]
  },
  {
   "cell_type": "markdown",
   "metadata": {},
   "source": [
    "## Ejercicio 5\n",
    "Dada la siguiente lista, elimina todos los valores iguales a 3\n",
    "> ```ejer_5 = [3, 20, 3, 47, 19, 3, 29, 45, 67, 78, 90, 3, 3]```\n",
    "\n",
    "TIP: No intentes eliminar elementos sobre la lista que estás iterando. Haz una copia con `ejer_5.copy()`."
   ]
  },
  {
   "cell_type": "code",
   "execution_count": 23,
   "metadata": {},
   "outputs": [
    {
     "data": {
      "text/plain": [
       "[20, 47, 19, 29, 45, 67, 78, 90]"
      ]
     },
     "execution_count": 23,
     "metadata": {},
     "output_type": "execute_result"
    }
   ],
   "source": [
    "# Alternativa A: con método copy\n",
    "\n",
    "ejer_5 = [3, 20, 3, 47, 19, 3, 29, 45, 67, 78, 90, 3, 3]\n",
    "copia = ejer_5.copy()\n",
    "\n",
    "for elemento in ejer_5:\n",
    "    if elemento == 3:\n",
    "        copia.remove(elemento)\n",
    "copia\n"
   ]
  },
  {
   "cell_type": "code",
   "execution_count": 43,
   "metadata": {},
   "outputs": [
    {
     "data": {
      "text/plain": [
       "[20, 47, 19, 29, 45, 67, 78, 90]"
      ]
     },
     "execution_count": 43,
     "metadata": {},
     "output_type": "execute_result"
    }
   ],
   "source": [
    "# Alternativa B: Creando una lista y agregando elementos diferente a 3\n",
    "\n",
    "ejer_5 = [3, 20, 3, 47, 19, 3, 29, 45, 67, 78, 90, 3, 3]\n",
    "lista_nueva = []\n",
    "\n",
    "for elemento in ejer_5:\n",
    "    if elemento != 3:\n",
    "        lista_nueva.append(elemento)\n",
    "\n",
    "lista_nueva"
   ]
  },
  {
   "attachments": {},
   "cell_type": "markdown",
   "metadata": {},
   "source": [
    "## Ejercicio 6\n",
    "1. Crea una tupla con 3 elementos\n",
    "2. Crea otra tupla con un elemento y comprueba su tipo\n",
    "3. Crea una tupla con elementos de diferentes tipos\n",
    "4. Imprime por pantalla el primer y último elemento de la tupla del apartado 3. Usa `len` para el último\n",
    "5. Añade un elemento a la tupla del apartado 3.\n",
    "6. Eliminar un elemento de la tupla del apartado 5, que se encuentre más o menos en la mitad.\n",
    "7. Convierte la tupla del apartado 5 en una lista"
   ]
  },
  {
   "cell_type": "code",
   "execution_count": 106,
   "metadata": {},
   "outputs": [
    {
     "name": "stdout",
     "output_type": "stream",
     "text": [
      "1. Tupla de 3 elementos: (1, 2, 3)\n",
      "2. Tupla de 1 elemento: (1,) y su tipo: <class 'tuple'>\n",
      "3. Tupla de diferentes tiplos de elementos: (1, 'cocodrilo', [1, 2, 3])\n",
      "4. Primer elemento (1,) y último elemento ([1, 2, 3],)\n",
      "5. Nuevo elemento añadido: (1, 'cocodrilo', [1, 2, 3], 3.1416)\n",
      "([1, 2, 3],)\n",
      "6. Tupla con elemento eliminado: (1, 'cocodrilo', 3.1416)\n",
      "7. Tupla a lista: [1, 'cocodrilo', 3.1416]\n"
     ]
    }
   ],
   "source": [
    "tupla_ej1 = (1,2,3)\n",
    "print(f\"1. Tupla de 3 elementos: {tupla_ej1}\")\n",
    "\n",
    "tupla_ej2 = (1,)\n",
    "print( f\"2. Tupla de 1 elemento: {tupla_ej2} y su tipo: {type(tupla_ej2)}\")\n",
    "\n",
    "tupla_ej3 = (1,\"cocodrilo\", [1,2,3])\n",
    "print(f\"3. Tupla de diferentes tiplos de elementos: {tupla_ej3}\")\n",
    "print(f\"4. Primer elemento {tupla_ej3[0:1]} y último elemento {tupla_ej3[len(tupla_ej3)-1:]}\")\n",
    "\n",
    "tupla_ej4 = tupla_ej3 + (3.1416,)\n",
    "print(f\"5. Nuevo elemento añadido: {tupla_ej4}\")\n",
    "\n",
    "mitad = tupla_ej4[len(tupla_ej4)//2:len(tupla_ej4)//2+1] \n",
    "print(mitad)\n",
    "\n",
    "tupla_ej5 =(tupla_ej4[0], tupla_ej4[1], tupla_ej4[3])\n",
    "print(f\"6. Tupla con elemento eliminado: {tupla_ej5}\")\n",
    "\n",
    "tupla_ej6 = list(tupla_ej5)\n",
    "print(f\"7. Tupla a lista: {tupla_ej6}\")\n",
    "\n",
    "# Fui creando nuevas tuplas en estos ejercicios, pero lo ideal es que se cree una tupla nueva con el mismo nombre para no tener tantas tuplas con diferentes nombres"
   ]
  },
  {
   "attachments": {},
   "cell_type": "markdown",
   "metadata": {},
   "source": [
    "## Ejercicio 7\n",
    "Concatena todos los elementos de la tupla en un único string. Para ello utiliza el metodo `.join()` de los Strings\n",
    "> ```ejer_7 = (\"cien\", \"cañones\", \"por\", \"banda\")```\n",
    "\n",
    "Resultado: `cien cañones por banda`"
   ]
  },
  {
   "cell_type": "code",
   "execution_count": 30,
   "metadata": {},
   "outputs": [
    {
     "name": "stdout",
     "output_type": "stream",
     "text": [
      "cien cañones por banda\n"
     ]
    }
   ],
   "source": [
    "ejer_7 = (\"cien\", \"cañones\", \"por\", \"banda\")\n",
    "print(\" \".join(ejer_7))"
   ]
  },
  {
   "cell_type": "markdown",
   "metadata": {},
   "source": [
    "## Ejercicio 8\n",
    "Obten el tercer elemento de la siguiente tupla, y el tercero empezando por la cola\n",
    "> ```ejer_8 = (3, 20, 3, 47, 19, 3, 29, 45, 67, 78, 90, 3, 3)```"
   ]
  },
  {
   "cell_type": "code",
   "execution_count": 34,
   "metadata": {},
   "outputs": [
    {
     "name": "stdout",
     "output_type": "stream",
     "text": [
      "(3, 90)\n"
     ]
    }
   ],
   "source": [
    "ejer_8 = (3, 20, 3, 47, 19, 3, 29, 45, 67, 78, 90, 3, 3)\n",
    "\n",
    "ejer_8 = (ejer_8[2], ejer_8[-3])\n",
    "print(ejer_8)"
   ]
  },
  {
   "cell_type": "code",
   "execution_count": 19,
   "metadata": {},
   "outputs": [
    {
     "name": "stdout",
     "output_type": "stream",
     "text": [
      "(3, 90)\n"
     ]
    }
   ],
   "source": [
    "ejer_8 = (3, 20, 3, 47, 19, 3, 29, 45, 67, 78, 90, 3, 3)\n",
    "\n",
    "for indice in range(len(ejer_8)):\n",
    "    print((ejer_8[2], ejer_8[-3]))\n",
    "    break"
   ]
  },
  {
   "attachments": {},
   "cell_type": "markdown",
   "metadata": {},
   "source": [
    "## Ejercicio 9\n",
    "1. ¿Cuántas veces se repite el 3 en la siguiente tupla?\n",
    "2. Crea una tupla nueva con los elementos desde la posición 5 a la 10.\n",
    "3. ¿Cuántos elementos tiene la tupla `ejer_9`?\n",
    "4. Comprueba si el numero 60 está en la tupla\n",
    "> ```ejer_9 = (3, 20, 3, 47, 19, 3, 29, 45, 67, 78, 90, 3, 3, 5, 2, 4, 7, 9, 4, 2, 4, 3, 3, 4, 6, 7)```"
   ]
  },
  {
   "cell_type": "code",
   "execution_count": 74,
   "metadata": {},
   "outputs": [
    {
     "name": "stdout",
     "output_type": "stream",
     "text": [
      "1. El (3) se repite: \n",
      " 7\n",
      "2. Tupla nueva: \n",
      " (19, 3, 29, 45, 67)\n",
      "3. Longitud contenidos en la tupla: \n",
      " 26\n",
      "4. No se encontró el elemento 60\n"
     ]
    }
   ],
   "source": [
    "\n",
    "ejer_9 = (3, 20, 3, 47, 19, 3, 29, 45, 67, 78, 90, 3, 3, 5, 2, 4, 7, 9, 4, 2, 4, 3, 3, 4, 6, 7)\n",
    "\n",
    "for elemento in ejer_9:\n",
    "    print(\"1. El (3) se repite: \\n\" , ejer_9.count(3))\n",
    "    break\n",
    "\n",
    "# Otra forma de hacerlo con un contador\n",
    "# veces = 0\n",
    "# for elemento in ejer_9:\n",
    "#     if elemento == 3:\n",
    "#         veces = veces + 1\n",
    "# print(veces) \n",
    "\n",
    "for indice in range(len(ejer_9)):\n",
    "    tupla_nueva = ejer_9[4:9]\n",
    "    print(\"2. Tupla nueva: \\n\",tupla_nueva)\n",
    "    break\n",
    "\n",
    "# Otra manera de hacerlo transformando una lista a tupla\n",
    "# tupla_nueva = []\n",
    "# for elemento in ejer_9[4:9]:\n",
    "#     tupla_nueva.append(elemento)\n",
    "# tupla_nueva = tuple(tupla_nueva)\n",
    "# print(tupla_nueva)\n",
    "\n",
    "print(\"3. Longitud contenidos en la tupla: \\n\", len(ejer_9))\n",
    "\n",
    "\n",
    "comprobacion = False # Usamos bandeja lógica\n",
    "for indice, elemento in enumerate(ejer_9):\n",
    "    if elemento == 60:\n",
    "        print(\"El elemento\", elemento, \"está en el índice: \", indice)\n",
    "        comprobacion = True\n",
    "        break\n",
    "\n",
    "if not comprobacion:\n",
    "    print(\"4. No se encontró el elemento 60\") \n",
    "\n",
    "\n",
    "# Otra forma de hacerlo.\n",
    "# if 60 in ejer_9:\n",
    "#     print(\" 60 se encuentra en la tupla\")\n",
    "# else:\n",
    "#     print(\"60 no se encuentra en la tupla\")\n",
    "    \n",
    "        \n",
    "\n",
    "\n",
    "\n",
    "     "
   ]
  },
  {
   "attachments": {},
   "cell_type": "markdown",
   "metadata": {},
   "source": [
    "## Ejercicio 10\n",
    "1. Convierte la tupla del ejercicio 9 en una lista\n",
    "2. Convierte la tupla del ejercicio 9 en un set\n",
    "3. Convierte la tupla del ejercicio 9 en un diccionario. Usa también los índices"
   ]
  },
  {
   "cell_type": "code",
   "execution_count": 53,
   "metadata": {},
   "outputs": [
    {
     "name": "stdout",
     "output_type": "stream",
     "text": [
      "[3, 20, 3, 47, 19, 3, 29, 45, 67, 78, 90, 3, 3, 5, 2, 4, 7, 9, 4, 2, 4, 3, 3, 4, 6, 7]\n",
      "{2, 3, 67, 5, 4, 7, 6, 9, 45, 78, 47, 19, 20, 90, 29}\n",
      "{'indice 0': 3, 'indice 1': 20, 'indice 2': 3, 'indice 3': 47, 'indice 4': 19, 'indice 5': 3, 'indice 6': 29, 'indice 7': 45, 'indice 8': 67, 'indice 9': 78, 'indice 10': 90, 'indice 11': 3, 'indice 12': 3, 'indice 13': 5, 'indice 14': 2, 'indice 15': 4, 'indice 16': 7, 'indice 17': 9, 'indice 18': 4, 'indice 19': 2, 'indice 20': 4, 'indice 21': 3, 'indice 22': 3, 'indice 23': 4, 'indice 24': 6, 'indice 25': 7}\n"
     ]
    }
   ],
   "source": [
    "ejer_9 = (3, 20, 3, 47, 19, 3, 29, 45, 67, 78, 90, 3, 3, 5, 2, 4, 7, 9, 4, 2, 4, 3, 3, 4, 6, 7)\n",
    "\n",
    "lista = []\n",
    "for indice, elemento in enumerate(ejer_9):\n",
    "    lista.append(elemento)\n",
    "print(lista)\n",
    "\n",
    "print(set(ejer_9))\n",
    "\n",
    "diccionario = {}\n",
    "for indice, elemento in enumerate(ejer_9):\n",
    "    clave = \"indice\" + \" \"+ str(indice)\n",
    "    diccionario [clave] = elemento\n",
    "\n",
    "print(diccionario , sep = None)\n",
    "\n",
    "# Alternativa B: Dividiendo la lista en dos y creando otro bucle for para agregarlos a un diccionario\n",
    "\n",
    "#indices = []\n",
    "#elementos = []\n",
    "#\n",
    "#for indice, elemento in enumerate(ejer_9):\n",
    "#    indices.append(indice)\n",
    "#    elementos.append(elemento)\n",
    "#\n",
    "#diccionario = {}\n",
    "#\n",
    "#for i in range(len(indices)):\n",
    "#    diccionario [indices[i]] = elementos[i]\n",
    "#print(diccionario)\n",
    "\n",
    "\n",
    "# Alternativa C: Dividiendo la lista en dos y usando método ZIP\n",
    "# indices = []\n",
    "# elementos = []\n",
    "# \n",
    "# for indice, elemento in enumerate(ejer_9):\n",
    "#     indices.append(indice)\n",
    "#     elementos.append(elemento)\n",
    "# \n",
    "# diccionario = dict(zip(indices,elementos))\n",
    "# print(diccionario)\n",
    "\n",
    "\n"
   ]
  },
  {
   "cell_type": "markdown",
   "metadata": {},
   "source": [
    "## Ejercicio 11\n",
    "Convierte la siguiente lista en un diccionario\n",
    "> ```ejer_11 = [(\"x\", 1), (\"x\", 2), (\"x\", 3), (\"y\", 1), (\"y\", 2), (\"z\", 1)]```\n",
    "\n",
    "TIP: Puedes usar dos variables de control en un bucle `for`. Una por cada valor de las tuplas."
   ]
  },
  {
   "cell_type": "code",
   "execution_count": 63,
   "metadata": {},
   "outputs": [
    {
     "name": "stdout",
     "output_type": "stream",
     "text": [
      "['clave0 x', 'clave1 x', 'clave2 x', 'clave3 y', 'clave4 y', 'clave5 z']\n",
      "[1, 2, 3, 1, 2, 1]\n",
      "{'clave0 x': 1, 'clave1 x': 2, 'clave2 x': 3, 'clave3 y': 1, 'clave4 y': 2, 'clave5 z': 1}\n"
     ]
    }
   ],
   "source": [
    "ejer_11 = [(\"x\", 1), (\"x\", 2), (\"x\", 3), (\"y\", 1), (\"y\", 2), (\"z\", 1)]\n",
    "\n",
    "claves = []\n",
    "valores = []\n",
    "for indice, tupla in enumerate(ejer_11):\n",
    "    for elemento in tupla:\n",
    "        if type(elemento) == str:\n",
    "            clave_str = \"clave\" + str(indice) + \" \" + str(elemento)  # tuve que crear un variable str para evitar que se repitan las claves y tenga una mejor manera\n",
    "            claves.append(clave_str)\n",
    "        else:\n",
    "            valores.append(elemento)\n",
    "print(claves)\n",
    "print(valores)\n",
    "\n",
    "diccionario = {}\n",
    "for i  in range (len(claves)):\n",
    "    diccionario [claves[i]] = valores[i]\n",
    "\n",
    "print(diccionario)\n",
    "\n",
    "# Como se repiten las claves no imprime bien el diccinario\n",
    "             "
   ]
  },
  {
   "attachments": {},
   "cell_type": "markdown",
   "metadata": {},
   "source": [
    "## Ejercicio 12\n",
    "1. Crea una lista ordenada ascendente con las claves del diccionario\n",
    "2. Crea otra lista ordenada descendente con los valores\n",
    "3. Añade una nueva clave/valor\n",
    "4. Busca la clave igual 2 dentro del diccionario\n",
    "5. Itera la clave y el valor del diccionario con un único for\n",
    "> ```ejer_12 = {4:78, 2:98, 8:234, 5:29}```"
   ]
  },
  {
   "cell_type": "code",
   "execution_count": 85,
   "metadata": {},
   "outputs": [
    {
     "name": "stdout",
     "output_type": "stream",
     "text": [
      "[2, 4, 5, 8]\n",
      "[234, 98, 78, 29]\n",
      "{4: 78, 2: 98, 8: 234, 5: 29, 9: 155}\n",
      "98\n",
      "4 78\n",
      "2 98\n",
      "8 234\n",
      "5 29\n",
      "9 155\n"
     ]
    }
   ],
   "source": [
    "ejer_12 = {4:78, 2:98, 8:234, 5:29}\n",
    "\n",
    "print(sorted(list(ejer_12.keys())))\n",
    "print(sorted(list(ejer_12.values()), reverse= True))\n",
    "ejer_12[9] = 155\n",
    "print(ejer_12)\n",
    "print(ejer_12[2])\n",
    "for clave, valor in ejer_12.items():\n",
    "    print(clave, valor)"
   ]
  },
  {
   "cell_type": "markdown",
   "metadata": {},
   "source": [
    "## Ejercicio 13\n",
    "Junta ambos diccionarios. Para ello, utiliza `update`\n",
    "> ```ejer_13_1 = {1: 11, 2: 22}```\n",
    ">\n",
    "> ```ejer_13_2 = {3: 33, 4: 44}```"
   ]
  },
  {
   "cell_type": "code",
   "execution_count": 88,
   "metadata": {},
   "outputs": [
    {
     "name": "stdout",
     "output_type": "stream",
     "text": [
      "{1: 11, 2: 22, 3: 33, 4: 44}\n"
     ]
    }
   ],
   "source": [
    "ejer_13_1 = {1: 11, 2: 22}\n",
    "ejer_13_2 = {3: 33, 4: 44}\n",
    "\n",
    "ejer_13_1.update(ejer_13_2)\n",
    "print(ejer_13_1)"
   ]
  },
  {
   "cell_type": "markdown",
   "metadata": {},
   "source": [
    "## Ejercicio 14\n",
    "Suma todos los valores del dicionario\n",
    "> ```ejer_14 = {1: 11, 2: 22, 3: 33, 4: 44, 5: 55}```"
   ]
  },
  {
   "cell_type": "code",
   "execution_count": 93,
   "metadata": {},
   "outputs": [
    {
     "name": "stdout",
     "output_type": "stream",
     "text": [
      "suma valores 165\n"
     ]
    }
   ],
   "source": [
    "ejer_14 = {1: 11, 2: 22, 3: 33, 4: 44, 5: 55}\n",
    "\n",
    "print(\"suma valores\", sum(list(ejer_14.values())))"
   ]
  },
  {
   "cell_type": "markdown",
   "metadata": {},
   "source": [
    "## Ejercicio 15\n",
    "Multiplica todos los valores del diccionario\n",
    "> ```ejer_15 = {1: 11, 2: 22, 3: 33, 4: 44, 5: 55}```"
   ]
  },
  {
   "cell_type": "code",
   "execution_count": 96,
   "metadata": {},
   "outputs": [
    {
     "name": "stdout",
     "output_type": "stream",
     "text": [
      "[11, 22, 33, 44, 55]\n",
      "19326120\n"
     ]
    }
   ],
   "source": [
    "ejer_15 = {1: 11, 2: 22, 3: 33, 4: 44, 5: 55}\n",
    "\n",
    "lista = list(ejer_15.values())\n",
    "print(lista)\n",
    "\n",
    "multiplicacion = 1\n",
    "for elemento in lista:\n",
    "    multiplicacion = multiplicacion * elemento\n",
    "print(multiplicacion)"
   ]
  },
  {
   "cell_type": "markdown",
   "metadata": {},
   "source": [
    "## Ejercicio 16\n",
    "1. Crea un set de tres elementos\n",
    "2. Añade un cuarto\n",
    "3. Elimina el último elemento añadido\n",
    "4. Elimina el elemento 10, si está presente. Usa `discard()`"
   ]
  },
  {
   "cell_type": "code",
   "execution_count": 112,
   "metadata": {},
   "outputs": [
    {
     "name": "stdout",
     "output_type": "stream",
     "text": [
      "{1, 2, 10}\n",
      "{1, 2, 10, 4}\n",
      "{1, 2, 10}\n",
      "{1, 2}\n"
     ]
    }
   ],
   "source": [
    "conjunto = {1,2,10}\n",
    "print(conjunto) \n",
    "\n",
    "conjunto.add(4)\n",
    "print(conjunto)\n",
    "\n",
    "conjunto.remove(4)\n",
    "print(conjunto)\n",
    "\n",
    "conjunto.discard(10)\n",
    "print(conjunto)\n"
   ]
  }
 ],
 "metadata": {
  "kernelspec": {
   "display_name": "Python 3.7.4 64-bit",
   "language": "python",
   "name": "python3"
  },
  "language_info": {
   "codemirror_mode": {
    "name": "ipython",
    "version": 3
   },
   "file_extension": ".py",
   "mimetype": "text/x-python",
   "name": "python",
   "nbconvert_exporter": "python",
   "pygments_lexer": "ipython3",
   "version": "3.10.9"
  },
  "vscode": {
   "interpreter": {
    "hash": "90139cb9a825bf3d63f6f6704e828dbd1ff7edbd4d0c6e906a71235d6efc74af"
   }
  }
 },
 "nbformat": 4,
 "nbformat_minor": 4
}
