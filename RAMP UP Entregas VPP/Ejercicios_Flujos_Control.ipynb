{
 "cells": [
  {
   "cell_type": "markdown",
   "metadata": {},
   "source": [
    "![imagen](./img/ejercicios.png)"
   ]
  },
  {
   "cell_type": "markdown",
   "metadata": {},
   "source": [
    "# Ejercicios Flujos de control"
   ]
  },
  {
   "cell_type": "markdown",
   "metadata": {},
   "source": [
    "## Ejercicio 1\n",
    "Declara una variable numérica que será una hora cualquiera del día. Implementa la siguiente casuística:\n",
    "\n",
    "* Si es entre las 0 y las 8, print \"Durmiendo\"\n",
    "* Si es entre las 9 y las 18, print \"Trabajando\"\n",
    "* Si es entre las 19 y las 21, print \"Clase\"\n",
    "* Si es entre las 22 y las 24, print \"Descanso\"\n",
    "* En cualquier otro caso, print \"Transporte o error\""
   ]
  },
  {
   "cell_type": "code",
   "execution_count": 13,
   "metadata": {},
   "outputs": [
    {
     "name": "stdout",
     "output_type": "stream",
     "text": [
      "Trabajando\n"
     ]
    }
   ],
   "source": [
    "var1= 10\n",
    "\n",
    "if (var1 >= 0) and (var1 <= 8):\n",
    "    print(\"Durmiendo\")\n",
    "elif (var1 >= 9) and (var1 <= 18):\n",
    "    print(\"Trabajando\")\n",
    "elif (var1 >= 19) and (var1 <= 21):\n",
    "    print(\"Clase\")\n",
    "elif (var1 >= 22) and (var1 <= 24):\n",
    "    print(\"Descanso\")\n",
    "else:\n",
    "    print(\" Transporte o error\")\n",
    "\n"
   ]
  },
  {
   "cell_type": "code",
   "execution_count": 10,
   "metadata": {},
   "outputs": [
    {
     "name": "stdout",
     "output_type": "stream",
     "text": [
      "Durmiendo\n"
     ]
    }
   ],
   "source": [
    "var1 = 5\n",
    "\n",
    "if 0 <= var1 <= 8:\n",
    "    print(\"Durmiendo\")\n",
    "elif 9 <= var1 <= 18:\n",
    "    print(\"Trabajando\")\n",
    "elif 19 <= var1 <= 21:\n",
    "    print(\"Clase\")\n",
    "elif 22 <= var1 <= 24:\n",
    "    print(\"Descanso\")\n",
    "else:\n",
    "    print(\"Transporte o error\")"
   ]
  },
  {
   "cell_type": "markdown",
   "metadata": {},
   "source": [
    "## Ejercicio 2\n",
    "En este ejercicio vamos a implementar un calculador de precios de casas muy sencillo. Tenemos las siguientes variables:\n",
    "\n",
    "> superficie\n",
    ">\n",
    "> distrito\n",
    "\n",
    "Implementa la siguiente casuística:\n",
    "\n",
    "1. Si el distrito es \"Moncloa\" o \"Centro\", y además la superficie es superior a 100 metros cuadrados, el precio de la casa es de 1000\n",
    "2. Si el distrito es \"Salamanca\", y además la superficie de la casa es al menos de 150 metros, el precio de la casa es de 1500\n",
    "3. Si el distrito no es \"Retiro\" y la superficie está entre 60 y 80 metros, el precio es de 600\n",
    "4. En cualquier otro caso, el precio será de 0"
   ]
  },
  {
   "cell_type": "code",
   "execution_count": 19,
   "metadata": {},
   "outputs": [
    {
     "name": "stdout",
     "output_type": "stream",
     "text": [
      "El Precio de la casa es: 1500 euros\n"
     ]
    }
   ],
   "source": [
    "\n",
    "distrito =  \"Salamanca\"\n",
    "superficie = 70\n",
    "\n",
    "if (distrito == \"Moncloa\" or \"Centro\") and (superficie > 100):\n",
    "    print(\"El precio de la casa es: 1000 euros\")\n",
    "elif (distrito == \"Salamanca\") and (superficie < 150):\n",
    "    print(\"El Precio de la casa es: 1500 euros\")\n",
    "elif (distrito !=  \"Retiro\") and (60<= superficie <=80):\n",
    "    print(\"El Precio es: 600 euros\")\n",
    "else: \n",
    "    print(\"El Precio es: 0 \")"
   ]
  },
  {
   "cell_type": "code",
   "execution_count": 23,
   "metadata": {},
   "outputs": [
    {
     "name": "stdout",
     "output_type": "stream",
     "text": [
      "El Precio es: 0 \n"
     ]
    }
   ],
   "source": [
    "distrito = input(\"Elija entre los siguientes distritos: Retiro, Salamanca, Moncloa, Centro\")\n",
    "superficie = int(input(\"Ingrese superficie que busca: \"))\n",
    "\n",
    "\n",
    "if (distrito == \"Moncloa\" or \"Centro\") and (superficie > 100):\n",
    "    print(\"El precio de la casa es: 1000 euros\")\n",
    "elif (distrito == \"Salamanca\") and (superficie < 150):\n",
    "    print(\"El Precio de la casa es: 1500 euros\")\n",
    "elif (distrito !=  \"Retiro\") and (60<= superficie <=80):\n",
    "    print(\"El Precio es: 600 euros\")\n",
    "else: \n",
    "    print(\"El Precio es: 0 \")"
   ]
  },
  {
   "cell_type": "markdown",
   "metadata": {},
   "source": [
    "## Ejercicio 3\n",
    "En este ejercicio vamos a realizar un programa muy parecido. Para este caso queremos que se cumplan las siguientes condiciones:\n",
    "\n",
    "1. Primero se compruebe si el distrito es \"Retiro\". Si es asá, que imprima \"Distrito Retiro\", y si no, \"Otro distrito\"\n",
    "2. Si el distrito es \"Retiro\", comprueba si la superficie es mayor de 100 metros cuadrados. En tal caso, que imprima un precio de 1000, y si no, de 500.\n",
    "\n",
    "Prueba a usar `ifs` anidados"
   ]
  },
  {
   "cell_type": "code",
   "execution_count": 26,
   "metadata": {},
   "outputs": [
    {
     "name": "stdout",
     "output_type": "stream",
     "text": [
      "Distrito Retiro\n",
      "Precio: 1000 euros\n"
     ]
    }
   ],
   "source": [
    "distrito = \"Retiro\"\n",
    "\n",
    "if distrito == \"Retiro\":\n",
    "    print(f\"Distrito Retiro\")\n",
    "    if int(input(\"Ingrese superficie: \")) > 100:\n",
    "        print(\"Precio: 1000 euros\")\n",
    "    else:\n",
    "        print(\"Precio: 500 euros\")\n",
    "else:\n",
    "    print(\"Otro distrito\")\n"
   ]
  },
  {
   "cell_type": "markdown",
   "metadata": {},
   "source": [
    "## Ejercicio 4\n",
    "Escribe un programa que tenga dos variables: un numero, y una lista numérica. El programa debe recorrer la lista e imprimir por pantalla cada elemento de la lista multiplicado por el número"
   ]
  },
  {
   "cell_type": "code",
   "execution_count": 41,
   "metadata": {},
   "outputs": [
    {
     "name": "stdout",
     "output_type": "stream",
     "text": [
      "3\n",
      "6\n",
      "9\n",
      "12\n",
      "15\n",
      "Fin del bucle, la lista es:  [1.0, 2.0, 3.0, 4.0, 5.0]\n"
     ]
    }
   ],
   "source": [
    "lista = [1,2,3,4,5]\n",
    "multiplicador = 3\n",
    "lista_float = []\n",
    "\n",
    "for multiplicando in lista:\n",
    "    print(multiplicando * multiplicador)\n",
    "    lista_float.append(float(multiplicando))\n",
    "\n",
    "print(\"Fin del bucle, la lista es: \", lista_float)"
   ]
  },
  {
   "cell_type": "markdown",
   "metadata": {},
   "source": [
    "## Ejercicio 5\n",
    "Imprime por pantalla cada número del -10 al -1. En ese orden. Consulta [la documentación](https://www.w3schools.com/python/ref_func_range.asp) de `range`"
   ]
  },
  {
   "cell_type": "code",
   "execution_count": 58,
   "metadata": {},
   "outputs": [
    {
     "name": "stdout",
     "output_type": "stream",
     "text": [
      "[-10, -9, -8, -7, -6, -5, -4, -3, -2, -1]\n"
     ]
    }
   ],
   "source": [
    "lista = []\n",
    "\n",
    "for num in range (-10, 0, 1):\n",
    "    lista.append(num)\n",
    "print(lista)"
   ]
  },
  {
   "cell_type": "code",
   "execution_count": 64,
   "metadata": {},
   "outputs": [
    {
     "name": "stdout",
     "output_type": "stream",
     "text": [
      "-10\n",
      "-9\n",
      "-8\n",
      "-7\n",
      "-6\n",
      "-5\n",
      "-4\n",
      "-3\n",
      "-2\n",
      "-1\n"
     ]
    }
   ],
   "source": [
    "for num in range (-10, 0, 1):\n",
    "    print(num)"
   ]
  },
  {
   "cell_type": "markdown",
   "metadata": {},
   "source": [
    "## Ejercicio 6\n",
    "Dada la siguiente lista:\n",
    "\n",
    "> list1 = [12, 15, 32, 42, 55, 75, 122, 132, 150, 180, 200]\n",
    "\n",
    "Implementa un programa que los recorra e imprima por pantalla todos los divisibles por 5. Si nos encontramos con alguno que sea mayor que 150, detener el bucle."
   ]
  },
  {
   "cell_type": "code",
   "execution_count": 62,
   "metadata": {},
   "outputs": [
    {
     "name": "stdout",
     "output_type": "stream",
     "text": [
      "15 es múltiplo de 5\n",
      "55 es múltiplo de 5\n",
      "75 es múltiplo de 5\n",
      "150 es múltiplo de 5\n"
     ]
    }
   ],
   "source": [
    "list1 = [12, 15, 32, 42, 55, 75, 122, 132, 150, 180, 200]\n",
    "\n",
    "for elementos in list1:\n",
    "    if elementos %5 == 0 and  elementos <= 150:\n",
    "        print(elementos, \"es múltiplo de 5\")"
   ]
  },
  {
   "cell_type": "code",
   "execution_count": 65,
   "metadata": {},
   "outputs": [
    {
     "name": "stdout",
     "output_type": "stream",
     "text": [
      "15 es múltiplo de 5\n",
      "55 es múltiplo de 5\n",
      "75 es múltiplo de 5\n",
      "150 es múltiplo de 5\n"
     ]
    }
   ],
   "source": [
    "list1 = [12, 15, 32, 42, 55, 75, 122, 132, 150, 180, 200]\n",
    "\n",
    "for elementos in list1:\n",
    "    if elementos %5 == 0:\n",
    "        print(elementos, \"es múltiplo de 5\")\n",
    "        if elementos >= 150:\n",
    "            break"
   ]
  },
  {
   "cell_type": "code",
   "execution_count": 67,
   "metadata": {},
   "outputs": [
    {
     "name": "stdout",
     "output_type": "stream",
     "text": [
      "15 es múltiplo de 5\n",
      "55 es múltiplo de 5\n",
      "75 es múltiplo de 5\n",
      "150 es múltiplo de 5\n"
     ]
    }
   ],
   "source": [
    "list1 = [12, 15, 32, 42, 55, 75, 122, 132, 150, 180, 200]\n",
    "\n",
    "for elementos in list1:\n",
    "    if elementos %5 == 0:\n",
    "        if elementos > 150:\n",
    "            break\n",
    "        print(elementos, \"es múltiplo de 5\")"
   ]
  },
  {
   "attachments": {},
   "cell_type": "markdown",
   "metadata": {},
   "source": [
    "## Ejercicio 7\n",
    "Escribe un programa en Python que imprima por pantalla todos los números que cumplan que sean divisibles por 5 y divisibles por 7, dentro del rango de valores (150, 350)."
   ]
  },
  {
   "cell_type": "code",
   "execution_count": 69,
   "metadata": {},
   "outputs": [
    {
     "name": "stdout",
     "output_type": "stream",
     "text": [
      "175\n",
      "210\n",
      "245\n",
      "280\n",
      "315\n",
      "350\n"
     ]
    }
   ],
   "source": [
    "for num in range (150, 350+1):\n",
    "    if (num % 5 == 0) and (num % 7 == 0):\n",
    "        print(num)"
   ]
  },
  {
   "cell_type": "markdown",
   "metadata": {},
   "source": [
    "## Ejercicio 8\n",
    "Implementa un programa que imprima por pantalla el siguiente patrón\n",
    "\n",
    "5 4 3 2 1 \n",
    "\n",
    "4 3 2 1 \n",
    "\n",
    "3 2 1 \n",
    "\n",
    "2 1 \n",
    "\n",
    "1\n",
    "\n",
    "NOTA: NO hay lineas en blanco entre una línea y otra."
   ]
  },
  {
   "cell_type": "code",
   "execution_count": 14,
   "metadata": {},
   "outputs": [
    {
     "name": "stdout",
     "output_type": "stream",
     "text": [
      "5 4 3 2 1\n",
      "4 3 2 1\n",
      "3 2 1\n",
      "2 1\n",
      "1\n",
      "Fin del bucle\n"
     ]
    }
   ],
   "source": [
    "lista = [5,4,3,2,1]\n",
    "\n",
    "for num in range(len(lista)):\n",
    "    print(*lista)\n",
    "    lista.pop(0)\n",
    "print(\"Fin del bucle\")\n"
   ]
  },
  {
   "cell_type": "markdown",
   "metadata": {},
   "source": [
    "## Ejercicio 9\n",
    "En este ejercicio vamos a crear un pequeño juego. Se trata de intentar adivinar un numero del 1 al 5. Tenemos dos intentos para acertar. Pasos a seguir:\n",
    "\n",
    "1. Ya viene implementado con la librería `random` cómo obtener un número aleatorio del 1 al 5\n",
    "2. Tendrás que declarar en una variable el numero de vidas, y mediante un bucle while, comprobar que todavia quedan vidas.\n",
    "3. Dentro del bucle, obtener el valor del usuario y comprobar si es ese el numero a adivinar. Si no, actualizar las vidas.\n",
    "4. Si acertamos, salimos del bucle e imprimimos por pantalla \"You win\". Y si perdemos también salimos del bucle, pero en este caso imprimimos por pantalla \"You lose\".\n",
    "\n",
    "TIP: te puede resultar útil usar la sentencia `else` cuando acabe el bucle `while`. Lo que haya dentro de ese `else` se ejecutará una vez acabe la ejecución del `while`. Lo podrás usar para cuando pierdas."
   ]
  },
  {
   "cell_type": "code",
   "execution_count": 11,
   "metadata": {},
   "outputs": [
    {
     "name": "stdout",
     "output_type": "stream",
     "text": [
      "Tienes 1 vida\n",
      "Tienes 0 vida\n",
      "Fin del juego\n"
     ]
    }
   ],
   "source": [
    "import random\n",
    "num_a_encontrar = random.randint(1,15)\n",
    "\n",
    "vidas = 2\n",
    "\n",
    "while vidas > 0:\n",
    "    intento = int(input(\"Ingrese un número :\")) \n",
    "    if 0 < intento <=15:\n",
    "        if intento == num_a_encontrar:\n",
    "            print(\"¡You win!\")\n",
    "            break\n",
    "        else:\n",
    "            vidas = vidas-1\n",
    "            print(f\"Tienes {vidas} vida\")\n",
    "    else: \n",
    "        print(\"Ingrese dentro del rango \")\n",
    "print(\"Fin del juego\")"
   ]
  }
 ],
 "metadata": {
  "kernelspec": {
   "display_name": "Python 3.7.4 64-bit",
   "language": "python",
   "name": "python3"
  },
  "language_info": {
   "codemirror_mode": {
    "name": "ipython",
    "version": 3
   },
   "file_extension": ".py",
   "mimetype": "text/x-python",
   "name": "python",
   "nbconvert_exporter": "python",
   "pygments_lexer": "ipython3",
   "version": "3.10.9"
  },
  "vscode": {
   "interpreter": {
    "hash": "90139cb9a825bf3d63f6f6704e828dbd1ff7edbd4d0c6e906a71235d6efc74af"
   }
  }
 },
 "nbformat": 4,
 "nbformat_minor": 4
}
