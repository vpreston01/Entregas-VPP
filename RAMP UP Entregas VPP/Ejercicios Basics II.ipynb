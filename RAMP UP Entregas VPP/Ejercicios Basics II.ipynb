{
 "cells": [
  {
   "cell_type": "markdown",
   "metadata": {},
   "source": [
    "![imagen](./img/ejercicios.png)"
   ]
  },
  {
   "cell_type": "markdown",
   "metadata": {},
   "source": [
    "# Ejercicios Python Basics II"
   ]
  },
  {
   "cell_type": "markdown",
   "metadata": {},
   "source": [
    "## Ejercicio 1\n",
    "* Crea dos variables numericas: un `int` y un `float`\n",
    "* Comprueba sus tipos\n",
    "* Sumalas en otra nueva\n",
    "* ¿De qué tipo es la nueva variable?\n",
    "* Elimina las dos primeras variables creadas"
   ]
  },
  {
   "cell_type": "code",
   "execution_count": 2,
   "metadata": {},
   "outputs": [
    {
     "name": "stdout",
     "output_type": "stream",
     "text": [
      "<class 'int'>\n",
      "<class 'float'>\n",
      "<class 'float'>\n"
     ]
    }
   ],
   "source": [
    "var_1 = 5\n",
    "print(type(var_1))\n",
    "var_2 = 10.5\n",
    "print(type(var_2))\n",
    "suma = var_1 + var_2\n",
    "print(type(suma))\n"
   ]
  },
  {
   "cell_type": "code",
   "execution_count": null,
   "metadata": {},
   "outputs": [],
   "source": []
  },
  {
   "cell_type": "markdown",
   "metadata": {},
   "source": [
    "## Ejercicio 2\n",
    "Escribe un programa para pasar de grados a radianes. Hay que usar `input`. Recuerda que la conversión se realiza mediante\n",
    "\n",
    "radianes = grados*(pi/180)"
   ]
  },
  {
   "cell_type": "code",
   "execution_count": 8,
   "metadata": {},
   "outputs": [
    {
     "name": "stdout",
     "output_type": "stream",
     "text": [
      "90.0 ° Grados equivale a  1.57\n"
     ]
    }
   ],
   "source": [
    "from math import pi\n",
    "\n",
    "grados  = float(input(\"Ingresa grados para trasnsformarlos a radianes: \"))\n",
    "radianes = round(grados*(pi/180), 2)\n",
    "print(grados, \"° Grados equivale a \", radianes )"
   ]
  },
  {
   "cell_type": "markdown",
   "metadata": {},
   "source": [
    "## Ejercicio 3\n",
    "Escribe un programa que calcule el area de un paralelogramo (base x altura). También con `input`"
   ]
  },
  {
   "cell_type": "code",
   "execution_count": 10,
   "metadata": {},
   "outputs": [
    {
     "name": "stdout",
     "output_type": "stream",
     "text": [
      " El Área es:  150.0\n"
     ]
    }
   ],
   "source": [
    "base_p  = float(input(\"Ingrese el valor de la base del palelogramo: \"))\n",
    "altura_p  = float(input(\"Ingrese el valor de la altura del palelogramo: \"))\n",
    "\n",
    "area_p = base_p * altura_p\n",
    "\n",
    "print(\" El Área es: \", area_p)"
   ]
  },
  {
   "cell_type": "markdown",
   "metadata": {},
   "source": [
    "## Ejercicio 4\n",
    "Tenemos las siguientes variables:\n",
    "\n",
    "```Python\n",
    "A = 4\n",
    "B = \"Text\"\n",
    "C = 4.1\n",
    "```\n",
    "\n",
    "Comprueba:\n",
    "1. Si A y B son equivalentes\n",
    "2. Si A y C NO son equivalentes\n",
    "3. Si A es mayor que C \n",
    "4. Si C es menor o igual que A\n",
    "5. Si B NO es equivalente a C"
   ]
  },
  {
   "cell_type": "code",
   "execution_count": 13,
   "metadata": {},
   "outputs": [
    {
     "name": "stdout",
     "output_type": "stream",
     "text": [
      "False\n",
      "True\n",
      "False\n",
      "False\n",
      "True\n"
     ]
    }
   ],
   "source": [
    "varA = 4\n",
    "varB = \"Text\"\n",
    "varC = 4.1\n",
    "\n",
    "print(varA == varB)\n",
    "print(varA != varC)\n",
    "print(varA > varC)\n",
    "print(varC <= varA)\n",
    "print(varB != varC)\n",
    "\n"
   ]
  },
  {
   "cell_type": "markdown",
   "metadata": {},
   "source": [
    "## Ejercicio 5\n",
    "Crea un programa donde se recojan dos inputs del usuario, y el output del programa sea si esos inputs son iguales o no"
   ]
  },
  {
   "cell_type": "code",
   "execution_count": 20,
   "metadata": {},
   "outputs": [
    {
     "name": "stdout",
     "output_type": "stream",
     "text": [
      "False\n"
     ]
    }
   ],
   "source": [
    "valor1  = int(input(\"Ingrese el valor 1: \"))\n",
    "valor2  = int(input(\"Ingrese el valor 2: \"))\n",
    "\n",
    "comparativa = valor1 == valor2\n",
    "print(comparativa)\n"
   ]
  },
  {
   "cell_type": "markdown",
   "metadata": {},
   "source": [
    "## Ejercicio 6\n",
    "Mismo programa que en 5, pero en esta ocasión tienen que ser tres inputs y dos salidas. Una de las salidas que nos indique si todos son iguales, y la otra si al menos dos inputs sí que lo son"
   ]
  },
  {
   "cell_type": "code",
   "execution_count": 28,
   "metadata": {},
   "outputs": [
    {
     "name": "stdout",
     "output_type": "stream",
     "text": [
      "¿Son todos iguales? False\n",
      "Son algunos de ellos iguales? True\n"
     ]
    }
   ],
   "source": [
    "valor1  = int(input(\"Ingrese el valor 1: \"))\n",
    "valor2  = int(input(\"Ingrese el valor 2: \"))\n",
    "valor3  = int(input(\"Ingrese el valor 3: \"))\n",
    "\n",
    "\n",
    "expresion_a =  valor1 == valor2 == valor3\n",
    "print(\"¿Son todos iguales?\", expresion_a)\n",
    "\n",
    "expresion_b = (valor1 == valor2) or (valor1 == valor3) or (valor2 == valor3)\n",
    "print(\"Son algunos de ellos iguales?\", expresion_b )\n",
    "\n"
   ]
  },
  {
   "cell_type": "markdown",
   "metadata": {},
   "source": [
    "## Ejercicio 7\n",
    "Crea un programa que recoja dos inputs. Tiene que comprobar si su suma es igual, superior o inferior a 10"
   ]
  },
  {
   "cell_type": "code",
   "execution_count": 39,
   "metadata": {},
   "outputs": [
    {
     "name": "stdout",
     "output_type": "stream",
     "text": [
      " Valor a:  5\n",
      " Valor b:  7\n",
      "¿Es mayor que 10? True\n",
      "¿Es menor que 10?  False\n",
      "¿Es igual a 10?  False\n",
      "¿Es igual, superior o inferior que 10?  True\n"
     ]
    }
   ],
   "source": [
    "valor_a  = int(input(\"Ingrese el valor a: \"))\n",
    "valor_b  = int(input(\"Ingrese el valor b: \"))\n",
    "\n",
    "print(\" Valor a: \", valor_a)\n",
    "print(\" Valor b: \", valor_b)\n",
    "\n",
    "suma = valor_a + valor_b\n",
    "\n",
    "print(\"¿Es mayor que 10?\", suma>10)\n",
    "print(\"¿Es menor que 10? \", suma<10)\n",
    "print(\"¿Es igual a 10? \", suma==10) \n",
    "print(\"¿Es igual, superior o inferior que 10? \", (suma > 10) or (suma == 10) or (suma < 10))"
   ]
  },
  {
   "cell_type": "code",
   "execution_count": null,
   "metadata": {},
   "outputs": [],
   "source": []
  },
  {
   "cell_type": "markdown",
   "metadata": {},
   "source": [
    "## Ejercicio 8\n",
    "Razona sin ejecutar código el output que obtendremos de las siguientes sentencias\n",
    "1. True and True and False\n",
    "2. not ((True or False) and (True or False))\n",
    "3. (False or False or False or True) and False\n",
    "4. not False and True and not True"
   ]
  },
  {
   "cell_type": "markdown",
   "metadata": {},
   "source": [
    "1. True and True and False\n",
    ">   (True) and False\n",
    ">> False\n",
    "\n",
    "2. not ((True or False) and (True or False))\n",
    ">  not (True and True)\n",
    ">> not (True)\n",
    ">>> False\n",
    "3. (False or False or False or True) and False\n",
    "> (True) and False\n",
    ">> False\n",
    "4. not False and True and not True\n",
    ">((not False) and True) and (not True)\n",
    ">> (True and True) and (False)\n",
    ">>> True and False\n",
    ">>>> False"
   ]
  },
  {
   "cell_type": "code",
   "execution_count": null,
   "metadata": {},
   "outputs": [
    {
     "name": "stdout",
     "output_type": "stream",
     "text": [
      "False\n",
      "False\n",
      "False\n",
      "False\n"
     ]
    }
   ],
   "source": []
  },
  {
   "cell_type": "markdown",
   "metadata": {},
   "source": [
    "## Ejercicio 9\n",
    "Para este ejercicio vamos a poner en práctica [las funciones built in](https://docs.python.org/3/library/functions.html).\n",
    "\n",
    "1. Calcula el máximo de la lista: [4, 6, 8, -1]\n",
    "2. Suma todos los elementos de la lista anterior\n",
    "3. Redondea este float a 3 dígitos decimales: 63.451256965\n",
    "4. Valor absoluto de: -74"
   ]
  },
  {
   "cell_type": "code",
   "execution_count": 43,
   "metadata": {},
   "outputs": [
    {
     "name": "stdout",
     "output_type": "stream",
     "text": [
      "8\n",
      "17\n",
      "63.451\n",
      "74\n"
     ]
    }
   ],
   "source": [
    "lista = [4, 6, 8, -1]\n",
    "\n",
    "print(max(lista))\n",
    "print(sum(lista))\n",
    "print(round(63.451256965, 3))\n",
    "print(abs(-74))"
   ]
  },
  {
   "cell_type": "code",
   "execution_count": 37,
   "metadata": {},
   "outputs": [
    {
     "name": "stdout",
     "output_type": "stream",
     "text": [
      "8\n",
      "17\n",
      "63.451\n",
      "74\n"
     ]
    }
   ],
   "source": []
  },
  {
   "cell_type": "markdown",
   "metadata": {},
   "source": [
    "## Ejercicio 10\n",
    "Para el siguiente string se pide imprimir por pantalla los siguientes casos\n",
    "\n",
    "    \"A quien madruga, dios le ayuda\"\n",
    "\n",
    "1. Pasarlo todo a mayusculas\n",
    "2. Pasarlo todo a minusculas\n",
    "3. Pasar a mayusculas solo las iniciales de las palabras\n",
    "4. Crea una lista dividiendolo por sus espacios\n",
    "5. Sustituye las comas `,` por puntos y comas `;`\n",
    "6. Elimina las `a` minusculas"
   ]
  },
  {
   "cell_type": "code",
   "execution_count": 59,
   "metadata": {},
   "outputs": [
    {
     "name": "stdout",
     "output_type": "stream",
     "text": [
      "A QUIEN MADRUGA, DIOS LE AYUDA\n",
      "a quien madruga, dios le ayuda\n",
      "A Quien Madruga, Dios Le Ayuda\n",
      "['A', 'quien', 'madruga,', 'dios', 'le', 'ayuda']\n",
      "A quien madruga; dios le ayuda\n",
      "A quien m drug , dios le  yud \n"
     ]
    }
   ],
   "source": [
    "cadena = \"A quien madruga, dios le ayuda\"\n",
    "\n",
    "print(cadena.upper())\n",
    "print(cadena.lower())\n",
    "print(cadena.title())\n",
    "print(cadena.split(' '))\n",
    "print(cadena.replace(',', ';'))\n",
    "print(cadena.replace('a', ' '))"
   ]
  },
  {
   "cell_type": "code",
   "execution_count": 47,
   "metadata": {},
   "outputs": [
    {
     "name": "stdout",
     "output_type": "stream",
     "text": [
      "A QUIEN MADRUGA, DIOS LE AYUDA\n",
      "a quien madruga, dios le ayuda\n",
      "A Quien Madruga, Dios Le Ayuda\n",
      "['A', 'quien', 'madruga,', 'dios', 'le', 'ayuda']\n",
      "A quien madruga; dios le ayuda\n",
      "A quien mdrug, dios le yud\n"
     ]
    }
   ],
   "source": []
  },
  {
   "cell_type": "markdown",
   "metadata": {},
   "source": [
    "## Ejercicio 11\n",
    "1. Crea una lista con 3 elementos numéricos\n",
    "2. Añade un cuarto elemento\n",
    "3. Calcula la suma de todos\n",
    "4. Elimina el segundo elemento de la lista\n",
    "5. Añade otro elemento en la posicion 3 de la lista\n",
    "6. Crea otra lista con 4 elementos y concaténala a la que ya tenías."
   ]
  },
  {
   "cell_type": "code",
   "execution_count": 80,
   "metadata": {},
   "outputs": [
    {
     "name": "stdout",
     "output_type": "stream",
     "text": [
      "[1, 2, 3]\n",
      "[1, 2, 3, 4]\n",
      "10\n",
      "[1, 3, 4]\n",
      "[1, 3, 4, 5]\n",
      "[1, 3, 4, 5, 6, 7, 8, 9, 10, 11, 12]\n"
     ]
    }
   ],
   "source": [
    "lista = [1, 2, 3]\n",
    "print(lista)\n",
    "lista.append(4)\n",
    "print(lista)\n",
    "print(sum(lista))\n",
    "lista.remove(2)\n",
    "print(lista)\n",
    "lista.insert(3,5)\n",
    "print(lista)\n",
    "lista_b = [6,7,8,9,10,11,12]\n",
    "print(lista+lista_b)"
   ]
  }
 ],
 "metadata": {
  "kernelspec": {
   "display_name": "Python 3.9.7 ('base')",
   "language": "python",
   "name": "python3"
  },
  "language_info": {
   "codemirror_mode": {
    "name": "ipython",
    "version": 3
   },
   "file_extension": ".py",
   "mimetype": "text/x-python",
   "name": "python",
   "nbconvert_exporter": "python",
   "pygments_lexer": "ipython3",
   "version": "3.10.9"
  },
  "nbTranslate": {
   "displayLangs": [
    "*"
   ],
   "hotkey": "alt-t",
   "langInMainMenu": true,
   "sourceLang": "en",
   "targetLang": "fr",
   "useGoogleTranslate": true
  },
  "varInspector": {
   "cols": {
    "lenName": 16,
    "lenType": 16,
    "lenVar": 40
   },
   "kernels_config": {
    "python": {
     "delete_cmd_postfix": "",
     "delete_cmd_prefix": "del ",
     "library": "var_list.py",
     "varRefreshCmd": "print(var_dic_list())"
    },
    "r": {
     "delete_cmd_postfix": ") ",
     "delete_cmd_prefix": "rm(",
     "library": "var_list.r",
     "varRefreshCmd": "cat(var_dic_list()) "
    }
   },
   "types_to_exclude": [
    "module",
    "function",
    "builtin_function_or_method",
    "instance",
    "_Feature"
   ],
   "window_display": false
  },
  "vscode": {
   "interpreter": {
    "hash": "a62940825390c4fb6d0fa98e018eb2e1591e483b4bca278484486fb09668db57"
   }
  }
 },
 "nbformat": 4,
 "nbformat_minor": 4
}
