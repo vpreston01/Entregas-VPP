{
 "cells": [
  {
   "cell_type": "markdown",
   "metadata": {},
   "source": [
    "![imagen](./img/ejercicios.png)\n",
    "# Markdown\n",
    "\n",
    "## Ejercicio 1\n",
    "Vamos a aplicar los conocimientos adquiridos en este notebook, intentando reproducir la siguiente imagen en markdown. En el link va la página: https://www.kaggle.com/\n",
    "\n",
    "**TIP**: en [este enlace](https://www.markdownguide.org/basic-syntax/) tienes más ejemplos, por si te atascas con algo :)\n"
   ]
  },
  {
   "cell_type": "markdown",
   "metadata": {},
   "source": [
    "![imagen](./img/md_ejercicio1.png)"
   ]
  },
  {
   "cell_type": "markdown",
   "metadata": {},
   "source": [
    "-> Haz tu código aqui"
   ]
  },
  {
   "cell_type": "markdown",
   "metadata": {},
   "source": [
    "\n",
    "#### Aptitudes de Data Scientist\n",
    "\n",
    "> ##### Lo más importante\n",
    ">* Matemáticas\n",
    ">* Programación\n",
    ">* SQL\n",
    ">* Python\n",
    ">\n",
    "> ![logoPython](https://upload.wikimedia.org/wikipedia/commons/c/c3/Python-logo-notext.svg)\n",
    ">\n",
    "> Otro tema importante es el *Business Intelligence.*\n",
    ">\n",
    "> Si tienes dudas, puedes escribirme a: daniel@thebridgeschool.es\n",
    ">\n",
    "> En esta página se aprende mucho de machine learning: **pagina con ML** \n"
   ]
  },
  {
   "cell_type": "markdown",
   "metadata": {},
   "source": [
    "<h4>Aptitudes de Data Scientist\n",
    "    <h5><blockquote><strong> Lo más importante </strong>\n",
    "      <ul>  \n",
    "        <li> Matemáticas\n",
    "        <li> Programación\n",
    "        <li> SQL\n",
    "        <li> Python\n",
    "        <br>\n",
    "        <br>\n",
    "        |<img src =\"https://upload.wikimedia.org/wikipedia/commons/c/c3/Python-logo-notext.svg\" > \n",
    "\n",
    "<p> Otro tema importante es el <i>Business Intelligence</i>.\n",
    "\n",
    "Si tienes dudas, puedes escribirme a: daniel@thebridgeschool.es\n",
    "\n",
    "En esta página se aprende mucho de machine learning: <strong>pagina con ML</strong> </p>"
   ]
  },
  {
   "cell_type": "markdown",
   "metadata": {},
   "source": [
    "## Ejercicio 2\n",
    "Para este ejercicio vas a crear dos nuevos elementos que no hemos visto en la teoría: una tabla y una fórmula. Busca en la web la sintaxis y replica ambos elementos. Ojo con los espacios en blanco entre la tabla y la fórmula"
   ]
  },
  {
   "cell_type": "markdown",
   "metadata": {},
   "source": [
    "<div style=\"text-align:center\"><img src=\"./img/md_ejercicio2.png\" /></div>"
   ]
  },
  {
   "cell_type": "markdown",
   "metadata": {},
   "source": [
    "-> Haz tu código aqui\n"
   ]
  },
  {
   "cell_type": "markdown",
   "metadata": {},
   "source": [
    "<center>\n",
    "\n",
    "Ramp Up | Data Analysis | Machine Learning | Data & Business \n",
    "--------|---------------|------------------|----------------\n",
    "Python  |EDA            |Supervised        |Productivización \n",
    "Estadística|R           |Non supervised    |Storytelling\n",
    "SQL  |Feat. Eng.        |Deep Learning     |API\n",
    "\n",
    "<br>\n",
    "<br> \n",
    "\n",
    "$$ \\sqrt[]{3x-1} + (1+x)^{2} $$\n",
    "\n",
    "</center>"
   ]
  }
 ],
 "metadata": {
  "kernelspec": {
   "display_name": "Python 3.9.7 ('base')",
   "language": "python",
   "name": "python3"
  },
  "language_info": {
   "codemirror_mode": {
    "name": "ipython",
    "version": 3
   },
   "file_extension": ".py",
   "mimetype": "text/x-python",
   "name": "python",
   "nbconvert_exporter": "python",
   "pygments_lexer": "ipython3",
   "version": "3.10.9"
  },
  "vscode": {
   "interpreter": {
    "hash": "a62940825390c4fb6d0fa98e018eb2e1591e483b4bca278484486fb09668db57"
   }
  }
 },
 "nbformat": 4,
 "nbformat_minor": 4
}
