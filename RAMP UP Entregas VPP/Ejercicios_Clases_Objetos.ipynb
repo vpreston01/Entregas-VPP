{
 "cells": [
  {
   "cell_type": "markdown",
   "metadata": {},
   "source": [
    "![imagen](./img/ejercicios.png)\n",
    "\n",
    "# Ejercicios Clases y Objetos"
   ]
  },
  {
   "attachments": {},
   "cell_type": "markdown",
   "metadata": {},
   "source": [
    "## Ejercicio 1\n",
    "Somos una empresa que tiene varias tiendas de electrodomésticos. Necesitamos un programa para manejar las tiendas, ver las ventas que han tenido, cuántos empleados hay, etc... Para ello vamos a modelizar la tienda en una clase, que tendrá las siguientes características:\n",
    "* Nombre clase: \"Tienda\"\n",
    "* Atributos comunes:\n",
    "    * Tipo: \"Electrodomésticos\"\n",
    "    * Abierta: True\n",
    "* Atributos propios de cada tienda:\n",
    "    * Nombre - String\n",
    "    * Dirección - String\n",
    "    * Número de empleados - int\n",
    "    * Ventas últimos 3 meses - Lista de 3 numeros\n",
    "* Método para calcular las ventas de todos los meses, que devuelva un número con todas las ventas.\n",
    "* Método que calcula la media de ventas de los últimos meses, por empleado\n",
    "* Método que devuelve en un string el nombre de la tienda, junto con su dirección.\n",
    "* Método que obtiene las ventas del último mes.\n",
    "* Método para dar una proyección de las ventas en caso de haber invertido X dinero en marketing en esa tienda. Siendo X el parámetro de entrada. Si X es menor de 1000, las ventas de los ultimos 3 meses hubiesen sido de (1.2 x ventas), si es mayor o igual de 1000, las ventas hubiesen sido de (1.5 x venta). El método reescribe el atributo de ventas en los últimos 3 meses, y además devuelve las ventas con el aumento.\n",
    "\n",
    "Se pide:\n",
    "1. Implementar la clase \"Tienda\"\n",
    "2. Crear tres tiendas con datos inventados\n",
    "3. Comprueba en al menos una de ellas, todo lo implementado en la clase tienda (sus atributos, media de ventas, ventas/empleado...)\n",
    "3. Calcular las ventas del último mes de todas las tiendas. Para ello usa el bucle `for`\n",
    "4. Imprime por pantalla los nombres de las tiendas cuya dirección lleve el string \"Avenida\"\n",
    "5. Seguro que ya has hecho este apartado... Documenta la clase :)"
   ]
  },
  {
   "cell_type": "code",
   "execution_count": 139,
   "metadata": {},
   "outputs": [],
   "source": [
    "class Tienda:\n",
    "\n",
    "    \"\"\"\n",
    "\n",
    "    Docstring para la clase Tienda\n",
    "    Descripción:\n",
    "\n",
    "    La clase Tienda define un modelo para representar una tienda con sus características y funcionalidades.\n",
    "\n",
    "    Atributos:\n",
    "\n",
    "    tipo (str): Indica el tipo de tienda, por defecto \"electrodomésticos\".\n",
    "    abierta (bool): Indica si la tienda está abierta (True) o cerrada (False).\n",
    "    nombre (str): Nombre de la tienda.\n",
    "    direccion (str): Dirección de la tienda.\n",
    "    numero_empleados (int): Número de empleados que trabajan en la tienda.\n",
    "    ventas_tres_meses (list[int]): Lista con las ventas de los últimos tres meses.\n",
    "    Métodos:\n",
    "\n",
    "    suma_ventas() -> int: Calcula la suma total de las ventas de los últimos tres meses.\n",
    "    media_empleado() -> float: Calcula la media de ventas por empleado.\n",
    "    nombre_direccion() -> dict[str, str]: Devuelve un diccionario con el nombre y la dirección de la tienda.\n",
    "    ventas_ultimo_mes() -> int: Devuelve las ventas del último mes.\n",
    "    proyeccion_ventas(inversion: int) -> float: Estima las ventas para el próximo mes, con un aumento del 20% \n",
    "    si la inversión es menor a 1000€ o del 50% si la inversión es superior.\n",
    "    \"\"\"\n",
    "\n",
    "    tipo = \"electrodomésticos\"\n",
    "    abierta = True\n",
    "\n",
    "    def __init__(self, nombre:str, direccion:str, numero_empleados:int, ventas_tres_meses:list):\n",
    "        self.nombre = nombre\n",
    "        self.direccion = direccion\n",
    "        self.numero_empleados = numero_empleados\n",
    "        self.ventas_tres_meses = ventas_tres_meses\n",
    "    \n",
    "    def suma_ventas (self):\n",
    "        return sum(self.ventas_tres_meses)\n",
    "    def media_empleado(self):\n",
    "        return self.suma_ventas()/self.numero_empleados\n",
    "    def nombre_direccion (self):\n",
    "        diccionario = {self.nombre:self.direccion}\n",
    "        return diccionario\n",
    "    def ventas_ultimo_mes(self):\n",
    "        return self.ventas_tres_meses[-1]\n",
    "    def proyeccion_ventas (self):\n",
    "        inversion = 900\n",
    "        if inversion < 1000:\n",
    "            return self.suma_ventas()*1.2\n",
    "        else:\n",
    "            return self.suma_ventas()*1.5\n",
    "\n",
    "          \n",
    "    \n",
    "\n",
    "\n"
   ]
  },
  {
   "cell_type": "code",
   "execution_count": 121,
   "metadata": {},
   "outputs": [],
   "source": [
    "tienda1 = Tienda(\"tienda_A\",\"calle10\",3,[10000,11000,12000])\n",
    "tienda2 = Tienda(\"tienda_B\", \" avenida_cid\", 2,[7000,8000,9000])\n",
    "tienda3 = Tienda(\"tienda_C\", \"carrera55\",5,[13000,15000,14000] )"
   ]
  },
  {
   "cell_type": "code",
   "execution_count": 84,
   "metadata": {},
   "outputs": [
    {
     "name": "stdout",
     "output_type": "stream",
     "text": [
      "Las ventas totales de la tienda_A son:33000\n",
      "La media por empleado de la tienda_A es 11000.0\n",
      "El nombre y la dirección es : {'tienda_A': 'calle10'}\n",
      "Las ventas del último mes son:  12000\n",
      "Con inversión en marketing hubiese dado un total en ventas de: 39600.0\n"
     ]
    }
   ],
   "source": [
    "\n",
    "print(f\"Las ventas totales de la {tienda1.nombre} son:{tienda1.suma_ventas()}\")\n",
    "print(f\"La media por empleado de la {tienda1.nombre} es {tienda1.media_empleado()}\")\n",
    "print(\"El nombre y la dirección es :\", tienda1.nombre_direccion())\n",
    "print(\"Las ventas del último mes son: \",tienda1.ventas_ultimo_mes())\n",
    "print(f\"Con inversión en marketing hubiese dado un total en ventas de: {tienda1.proyeccion_ventas()}\")"
   ]
  },
  {
   "cell_type": "code",
   "execution_count": 126,
   "metadata": {},
   "outputs": [
    {
     "name": "stdout",
     "output_type": "stream",
     "text": [
      "venta último mes tienda 1: 12000\n",
      "venta último mes tienda 2: 9000\n",
      "venta último mes tienda 3: 14000\n",
      "Total de las ventas último mes: 35000\n"
     ]
    }
   ],
   "source": [
    "total_tiendas_ultimo_mes =[tienda1.ventas_ultimo_mes(),tienda2.ventas_ultimo_mes(),tienda3.ventas_ultimo_mes()]\n",
    "suma = 0\n",
    "for tienda, venta in enumerate (total_tiendas_ultimo_mes):\n",
    "    print(f\"venta último mes tienda {tienda+1}: {venta}\")\n",
    "    suma = suma + venta\n",
    "print(\"Total de las ventas último mes:\", suma)"
   ]
  },
  {
   "cell_type": "code",
   "execution_count": 134,
   "metadata": {},
   "outputs": [
    {
     "data": {
      "text/plain": [
       "True"
      ]
     },
     "execution_count": 134,
     "metadata": {},
     "output_type": "execute_result"
    }
   ],
   "source": [
    "lista_direccion_tiendas =[tienda1.direccion,tienda2.direccion,tienda3.direccion]\n",
    "cadena = str(lista_direccion_tiendas)\n",
    "\n",
    "\"avenida\" in cadena\n",
    "\n"
   ]
  },
  {
   "cell_type": "code",
   "execution_count": 140,
   "metadata": {},
   "outputs": [
    {
     "name": "stdout",
     "output_type": "stream",
     "text": [
      "\n",
      "\n",
      "    Docstring para la clase Tienda\n",
      "    Descripción:\n",
      "\n",
      "    La clase Tienda define un modelo para representar una tienda con sus características y funcionalidades.\n",
      "\n",
      "    Atributos:\n",
      "\n",
      "    tipo (str): Indica el tipo de tienda, por defecto \"electrodomésticos\".\n",
      "    abierta (bool): Indica si la tienda está abierta (True) o cerrada (False).\n",
      "    nombre (str): Nombre de la tienda.\n",
      "    direccion (str): Dirección de la tienda.\n",
      "    numero_empleados (int): Número de empleados que trabajan en la tienda.\n",
      "    ventas_tres_meses (list[int]): Lista con las ventas de los últimos tres meses.\n",
      "    Métodos:\n",
      "\n",
      "    suma_ventas() -> int: Calcula la suma total de las ventas de los últimos tres meses.\n",
      "    media_empleado() -> float: Calcula la media de ventas por empleado.\n",
      "    nombre_direccion() -> dict[str, str]: Devuelve un diccionario con el nombre y la dirección de la tienda.\n",
      "    ventas_ultimo_mes() -> int: Devuelve las ventas del último mes.\n",
      "    proyeccion_ventas(inversion: int) -> float: Estima las ventas para el próximo mes, con un aumento del 20% \n",
      "    si la inversión es menor a 1000€ o del 50% si la inversión es superior.\n",
      "    \n",
      "None\n"
     ]
    }
   ],
   "source": [
    "print(Tienda.__doc__)\n",
    "print(Tienda.__init__.__doc__)"
   ]
  },
  {
   "cell_type": "markdown",
   "metadata": {},
   "source": [
    "## Ejercicio 2\n",
    "En este ejercicio vamos a implementar una clase *Perro* en Python. La clase tiene las siguientes características:\n",
    "* Cosas que sabemos seguro que tiene un perro\n",
    "    * Tiene 4 patas\n",
    "    * 2 orejas\n",
    "    * 2 ojos\n",
    "    * Una velocidad de 0. Por defecto, el perro está parado\n",
    "* Cuando se inicialice:\n",
    "    * El perro será de una determinada raza\n",
    "    * Por defecto tendrá pelo \"Marrón\", a no ser que se diga lo contrario.\n",
    "    * Por defecto no tendrá dueño, a no ser que se diga lo contrario.\n",
    "    \n",
    "* Dispondrá también de un método llamado andar, que tiene un argumento de entrada (aumento_velocidad). Este valor se le sumará a la velocidad que ya llevaba el perro.\n",
    "* Necesita otro método (parar), donde pondremos la velocidad a 0.\n",
    "* Otro método llamado \"ladrar\", que tendrá un argumento de entrada, y la salida será el siguiente string: \"GUAU!\" + el argumento de entrada.\n",
    "\n",
    "\n",
    "Se pide:\n",
    "* Implementa la clase *Perro*\n",
    "* Crea un objeto de tipo *Perro*, sin dueño\n",
    "* Comprueba que están bien todos sus atributos\n",
    "* Prueba que ande, y comprueba su velocidad\n",
    "* Páralo\n",
    "* Documenta la clase *Perro*"
   ]
  },
  {
   "cell_type": "code",
   "execution_count": 200,
   "metadata": {},
   "outputs": [],
   "source": [
    "class Perro():\n",
    "    \"\"\"\n",
    "    Descripción:\n",
    "\n",
    "    La clase Perro define un modelo para representar un perro con sus características y funcionalidades.\n",
    "    \n",
    "    Atributos:\n",
    "    \n",
    "    patas (int): Número de patas del perro, por defecto 4.\n",
    "    orejas (int): Número de orejas del perro, por defecto 2.\n",
    "    ojos (int): Número de ojos del perro, por defecto 2.\n",
    "    velocidad (int): Velocidad actual del perro, por defecto 0.\n",
    "    raza (str): Raza del perro.\n",
    "    color (str): Color del pelaje del perro, por defecto \"marrón\".\n",
    "    owner (bool): Indica si el perro tiene dueño (True) o no (False).\n",
    "    Métodos:\n",
    "    \n",
    "    andar(aumento_velocidad: int) -> int: Aumenta la velocidad actual del perro en la cantidad indicada.\n",
    "    parar() -> int: Detiene al perro, poniendo su velocidad a 0.\n",
    "    ladrar(*args: str) -> str: Hace que el perro ladre, con la posibilidad de añadir un mensaje al ladrido.\n",
    "    \n",
    "\n",
    "    \"\"\"\n",
    "\n",
    "    patas = 4\n",
    "    orejas = 2\n",
    "    ojos = 2\n",
    "    velocidad = 0\n",
    "\n",
    "    def __init__(self, raza:str, color=\"marron\", owner = True):\n",
    "        self.raza = raza\n",
    "        self.color = color\n",
    "        self.owner = owner\n",
    "\n",
    "    def andar (self, aumento_velocidad):\n",
    "             self.velocidad = aumento_velocidad + self.velocidad\n",
    "             return self.velocidad\n",
    "    def parar (self):\n",
    "        if self.velocidad > 0:\n",
    "            self.velocidad = 0\n",
    "            return self.velocidad\n",
    "    def ladrar (self, *args):\n",
    "         cadena = \"\".join(args)\n",
    "         return \"GUAU!\" + cadena\n",
    "\n",
    "\n",
    "\n",
    "\n",
    "    "
   ]
  },
  {
   "cell_type": "code",
   "execution_count": 205,
   "metadata": {},
   "outputs": [
    {
     "name": "stdout",
     "output_type": "stream",
     "text": [
      "El doberman tiene dueño ? False\n",
      "El perro está andando\n",
      "Velocidad del doberman es 11\n",
      "El perro doberman se detuvo, ahora su velocidad es 0\n",
      "GUAU! corre que te muerdo\n"
     ]
    }
   ],
   "source": [
    "perro1 = Perro(\"doberman\",\"negro\",False)\n",
    "\n",
    "print(f\"El {perro1.raza} tiene dueño ? {perro1.owner}\")\n",
    "perro1.velocidad = 6\n",
    "if perro1.velocidad > 0:\n",
    "    print(\"El perro está andando\")\n",
    "print(f\"Velocidad del {perro1.raza} es {perro1.andar(5)}\")\n",
    "\n",
    "print(f\"El perro {perro1.raza} se detuvo, ahora su velocidad es {perro1.parar()}\")\n",
    "print(perro1.ladrar(\" corre que te muerdo\"))"
   ]
  },
  {
   "cell_type": "code",
   "execution_count": 202,
   "metadata": {},
   "outputs": [
    {
     "name": "stdout",
     "output_type": "stream",
     "text": [
      "\n",
      "    Descripción:\n",
      "\n",
      "    La clase Perro define un modelo para representar un perro con sus características y funcionalidades.\n",
      "    \n",
      "    Atributos:\n",
      "    \n",
      "    patas (int): Número de patas del perro, por defecto 4.\n",
      "    orejas (int): Número de orejas del perro, por defecto 2.\n",
      "    ojos (int): Número de ojos del perro, por defecto 2.\n",
      "    velocidad (int): Velocidad actual del perro, por defecto 0.\n",
      "    raza (str): Raza del perro.\n",
      "    color (str): Color del pelaje del perro, por defecto \"marrón\".\n",
      "    owner (bool): Indica si el perro tiene dueño (True) o no (False).\n",
      "    Métodos:\n",
      "    \n",
      "    andar(aumento_velocidad: int) -> int: Aumenta la velocidad actual del perro en la cantidad indicada.\n",
      "    parar() -> int: Detiene al perro, poniendo su velocidad a 0.\n",
      "    ladrar(*args: str) -> str: Hace que el perro ladre, con la posibilidad de añadir un mensaje al ladrido.\n",
      "    \n",
      "\n",
      "    \n",
      "None\n"
     ]
    }
   ],
   "source": [
    "print(Perro.__doc__)\n",
    "print(Perro.__init__.__doc__)"
   ]
  }
 ],
 "metadata": {
  "kernelspec": {
   "display_name": "Python 3.7.4 64-bit",
   "language": "python",
   "name": "python3"
  },
  "language_info": {
   "codemirror_mode": {
    "name": "ipython",
    "version": 3
   },
   "file_extension": ".py",
   "mimetype": "text/x-python",
   "name": "python",
   "nbconvert_exporter": "python",
   "pygments_lexer": "ipython3",
   "version": "3.10.9"
  },
  "vscode": {
   "interpreter": {
    "hash": "90139cb9a825bf3d63f6f6704e828dbd1ff7edbd4d0c6e906a71235d6efc74af"
   }
  }
 },
 "nbformat": 4,
 "nbformat_minor": 4
}
