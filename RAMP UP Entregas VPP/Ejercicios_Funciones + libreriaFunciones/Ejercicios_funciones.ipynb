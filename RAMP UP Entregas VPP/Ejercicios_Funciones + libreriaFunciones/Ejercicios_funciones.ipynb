{
 "cells": [
  {
   "cell_type": "markdown",
   "metadata": {},
   "source": [
    "![imagen](./img/ejercicios.png)"
   ]
  },
  {
   "cell_type": "markdown",
   "metadata": {},
   "source": [
    "# Ejercicios funciones\n",
    "## Ejercicio 1\n",
    "Escribe una función que convierta números del 1 al 7 en nombres de los dias de la semana. La función constará de un único argumento numérico y una salida de tipo string"
   ]
  },
  {
   "cell_type": "code",
   "execution_count": 41,
   "metadata": {},
   "outputs": [
    {
     "data": {
      "text/plain": [
       "'miércoles'"
      ]
     },
     "execution_count": 41,
     "metadata": {},
     "output_type": "execute_result"
    }
   ],
   "source": [
    "def dia (num):\n",
    "    semana = {\"lunes\": 1,\"martes\":2,\"miércoles\":3,\"jueves\":4,\"viernes\":5,\"sábado\":6,\"domingo\":7}\n",
    "    for clave,valor in semana.items():\n",
    "       if valor == num:\n",
    "        return clave \n",
    "\n",
    "dia(3)"
   ]
  },
  {
   "cell_type": "markdown",
   "metadata": {},
   "source": [
    "## Ejercicio 2\n",
    "En el ejercicio 8 de flujos de control, creábamos una pirámide invertida de números desde el 5. Crea una función que replique el comportamiento de la pirámide, y utiliza un único parámetro de entrada de la función para determinar el número de filas de la pirámide."
   ]
  },
  {
   "cell_type": "code",
   "execution_count": 64,
   "metadata": {},
   "outputs": [
    {
     "name": "stdout",
     "output_type": "stream",
     "text": [
      "[7, 6, 5, 4, 3, 2, 1]\n",
      "[6, 5, 4, 3, 2, 1]\n",
      "[5, 4, 3, 2, 1]\n",
      "[4, 3, 2, 1]\n",
      "[3, 2, 1]\n",
      "[2, 1]\n",
      "[1]\n"
     ]
    }
   ],
   "source": [
    "def piramide (num):\n",
    "    lista = []\n",
    "    for elemento in range(num,0,-1):\n",
    "        lista.append(elemento)\n",
    "    lista\n",
    "    copia = lista.copy()\n",
    "    for elemento in lista:\n",
    "        print(copia)\n",
    "        copia.pop(0)\n",
    "\n",
    "piramide(7)\n"
   ]
  },
  {
   "cell_type": "code",
   "execution_count": 40,
   "metadata": {},
   "outputs": [
    {
     "name": "stdout",
     "output_type": "stream",
     "text": [
      "7  6  5  4  3  2  1\n",
      "6  5  4  3  2  1\n",
      "5  4  3  2  1\n",
      "4  3  2  1\n",
      "3  2  1\n",
      "2  1\n",
      "1\n"
     ]
    }
   ],
   "source": [
    "# Quitándole los separadores de la lista\n",
    "\n",
    "def piramide (num):\n",
    "    lista = []\n",
    "    for elemento in range(num,0,-1):\n",
    "        lista.append(elemento)\n",
    "    lista\n",
    "    copia = lista.copy()\n",
    "    for elemento in lista:\n",
    "        print(str(copia).replace(\"[\",\"\").replace(\"]\", \"\").replace(\",\",\" \"))\n",
    "        copia.pop(0)\n",
    "\n",
    "piramide(7)\n"
   ]
  },
  {
   "cell_type": "markdown",
   "metadata": {},
   "source": [
    "## Ejercicio 3\n",
    "Escribe una función que compare dos números. La función tiene dos argumentos y hay tres salidas posibles: que sean iguales, que el primero sea  mayor que el segundo, o que el segundo sea mayor que el primero"
   ]
  },
  {
   "cell_type": "code",
   "execution_count": 71,
   "metadata": {},
   "outputs": [
    {
     "name": "stdout",
     "output_type": "stream",
     "text": [
      "El número 8 es mayor que 5\n"
     ]
    }
   ],
   "source": [
    "def comparativa (a,b):\n",
    "    if a == b:\n",
    "        return print (f\"Los números {a} y {b} son iguales\")\n",
    "    elif a > b:\n",
    "        return print(f\" El número {a} es mayor que {b}\")\n",
    "    elif a<b:\n",
    "        return print(f\"El número {b} es mayor que {a}\")\n",
    "\n",
    "comparativa(5,8)\n"
   ]
  },
  {
   "attachments": {},
   "cell_type": "markdown",
   "metadata": {},
   "source": [
    "## Ejercicio 4\n",
    "Escribe una función que sea un contador de letras. En el primer argumento tienes que introducir un texto, y el segundo que sea una letra que contar. La función tiene que devolver un entero con el número de veces que aparece esa letra, tanto mayúscula, como minúscula"
   ]
  },
  {
   "cell_type": "code",
   "execution_count": 103,
   "metadata": {},
   "outputs": [
    {
     "data": {
      "text/plain": [
       "2"
      ]
     },
     "execution_count": 103,
     "metadata": {},
     "output_type": "execute_result"
    }
   ],
   "source": [
    "\n",
    "def contador_letra(palabra:str, letra:str):\n",
    "    contador = 0\n",
    "    for i in palabra:\n",
    "        if (i == letra) or (i == letra.upper()) or (i == letra.lower()):\n",
    "            contador = contador + 1\n",
    "            \n",
    "    return contador\n",
    "\n",
    "contador_letra (\"Rinoceronte\", \"r\")"
   ]
  },
  {
   "cell_type": "code",
   "execution_count": 11,
   "metadata": {},
   "outputs": [],
   "source": [
    "# hecho por el profesor\n",
    "\n",
    "def contador_letra(palabra:str, letra:str):\n",
    "    palabra = palabra.lower()\n",
    "    letra = letra.lower()\n",
    "    return letra, palabra.count(letra)"
   ]
  },
  {
   "cell_type": "code",
   "execution_count": null,
   "metadata": {},
   "outputs": [],
   "source": [
    "# hecho por el profesor, alternativa B con parametro case sensitive\n",
    "\n",
    "def contador_letra(text, letra, case_sensitive=False):\n",
    "    if not case_sensitive:\n",
    "        text = text.lower()\n",
    "        letra = letra.lower()\n",
    "    count = 0\n",
    "    for char in text:\n",
    "        if char == letra:\n",
    "            count +=1\n",
    "    return letra, count"
   ]
  },
  {
   "cell_type": "markdown",
   "metadata": {},
   "source": [
    "## Ejercicio 5\n",
    "Escribe una función que tenga un único argumento, un string. La salida de la función tiene que ser un diccionario con el conteo de todas las letras de ese string, siendo la clave la letra y el valor el conteo."
   ]
  },
  {
   "cell_type": "code",
   "execution_count": 116,
   "metadata": {},
   "outputs": [
    {
     "data": {
      "text/plain": [
       "{'C': 0, 'u': 1, 'a': 5, 'd': 6, 'r': 4, 'o': 7}"
      ]
     },
     "execution_count": 116,
     "metadata": {},
     "output_type": "execute_result"
    }
   ],
   "source": [
    "def diccionario_palabra (palabra:str):\n",
    "    diccionario = {}\n",
    "\n",
    "    for clave, valor in enumerate(palabra):\n",
    "            diccionario[valor] = clave\n",
    "    return diccionario\n",
    "\n",
    "diccionario_palabra (\"Cuadrado\")\n"
   ]
  },
  {
   "cell_type": "code",
   "execution_count": 119,
   "metadata": {},
   "outputs": [
    {
     "data": {
      "text/plain": [
       "{'m': 1, ' ': 1, 'l': 1, 'a': 2, 'r': 1, 'i': 1, 'o': 1, 'p': 1, 'h': 1}"
      ]
     },
     "execution_count": 119,
     "metadata": {},
     "output_type": "execute_result"
    }
   ],
   "source": [
    "# Hecho por el profesor\n",
    "\n",
    "def contador_letras(text):\n",
    "    output = {}\n",
    "    text = text.lower()\n",
    "    for char in set(text):\n",
    "        # print(char, text.count(char))\n",
    "        output[char] = text.count(char)\n",
    "    return output\n",
    "        \n",
    "\n",
    "contador_letras(\"hola prima\")"
   ]
  },
  {
   "cell_type": "markdown",
   "metadata": {},
   "source": [
    "## Ejercicio 6\n",
    "Escribir una función que añada o elimine elementos en una lista. La función necesita los siguientes argumentos:\n",
    "* lista: la lista donde se añadirán o eliminarán los elementos\n",
    "* comando: \"add\" o \"remove\"\n",
    "* elemento: Por defecto es None.\n",
    "\n",
    "Tendrá como salida la lista"
   ]
  },
  {
   "cell_type": "code",
   "execution_count": 10,
   "metadata": {},
   "outputs": [
    {
     "data": {
      "text/plain": [
       "[1, 2, 3, 4, 5, 6]"
      ]
     },
     "execution_count": 10,
     "metadata": {},
     "output_type": "execute_result"
    }
   ],
   "source": [
    "def listarara (lista,comando, elemento = None):\n",
    "    lista =lista \n",
    "    if comando == \"add\":\n",
    "        lista.append(elemento)\n",
    "    elif comando == \"remove\":\n",
    "        lista.remove(elemento)\n",
    "    else:\n",
    "        print('Escriba el argumento\"add\" o \"remove\"')\n",
    "        return None\n",
    "    return lista\n",
    "\n",
    "listarara([1,2,3,4,5],\"add\", 6)"
   ]
  },
  {
   "cell_type": "markdown",
   "metadata": {},
   "source": [
    "## Ejercicio 7\n",
    "Crea una función que reciba un número arbitrario de palabras, y devuelva una frase completa, separando las palabras con espacios."
   ]
  },
  {
   "cell_type": "code",
   "execution_count": 37,
   "metadata": {},
   "outputs": [
    {
     "data": {
      "text/plain": [
       "'¿Hola cómo estas?'"
      ]
     },
     "execution_count": 37,
     "metadata": {},
     "output_type": "execute_result"
    }
   ],
   "source": [
    "def frase(*args):\n",
    "        palabras = \" \".join(args)\n",
    "        return palabras\n",
    "\n",
    "frase(\"¿Hola\",\"cómo\", \"estas?\")"
   ]
  },
  {
   "cell_type": "markdown",
   "metadata": {},
   "source": [
    "## Ejercicio 8\n",
    "Escribe un programa que obtenga el enésimo número de la [serie de Fibonacci](https://es.wikipedia.org/wiki/Sucesi%C3%B3n_de_Fibonacci). Tienes que crear una función recursiva con un único argumento.\n",
    "\n",
    "```Python\n",
    "fibonacci(2) = 1\n",
    "fibonacci(4) = 3\n",
    "fibonacci(5) = 5\n",
    "fibonacci(8) = 21\n",
    "```"
   ]
  },
  {
   "attachments": {},
   "cell_type": "markdown",
   "metadata": {},
   "source": [
    "fibonacci(n) = fibonacci(n-1) + fibonacci(n-2)"
   ]
  },
  {
   "cell_type": "code",
   "execution_count": 45,
   "metadata": {},
   "outputs": [
    {
     "data": {
      "text/plain": [
       "7"
      ]
     },
     "execution_count": 45,
     "metadata": {},
     "output_type": "execute_result"
    }
   ],
   "source": [
    "\n",
    "def serie_fibonacci(n):\n",
    "    if n <= 0:\n",
    "        print(\"Número debe ser mayor que cero\")\n",
    "        return None\n",
    "    else:\n",
    "        serie = (n) = (n-1) + (n-2)\n",
    "        return serie\n",
    "\n",
    "serie_fibonacci(5)"
   ]
  },
  {
   "attachments": {},
   "cell_type": "markdown",
   "metadata": {},
   "source": [
    "## Ejercicio 9\n",
    "Define en una única celda las siguientes funciones:\n",
    "* Función que calcule el área de un cuadrado\n",
    "* Función que calcule el área de un triángulo\n",
    "* Función que calcule el área de un círculo\n",
    "\n",
    "En otra celda, calcular el area de:\n",
    "* Dos círculos de radio 10 + un triángulo de base 3 y altura 7\n",
    "* Un cuadrado de lado = 10 + 3 círculos (uno de radio = 4 y los otros dos de radio = 6) + 5 triángulos de base = 2 + altura = 4"
   ]
  },
  {
   "cell_type": "code",
   "execution_count": 60,
   "metadata": {},
   "outputs": [
    {
     "name": "stdout",
     "output_type": "stream",
     "text": [
      "214.0\n",
      "396.46015351590177\n"
     ]
    }
   ],
   "source": [
    "def a_cuadrado(lado):\n",
    "    return lado*lado\n",
    "\n",
    "def a_triangulo (base,altura):\n",
    "    return (base*altura)/2\n",
    "\n",
    "def a_circulo(radio):\n",
    "    import math\n",
    "    return math.pi*radio**2\n",
    "\n",
    "print(2*a_cuadrado(10) + a_triangulo(4,7))\n",
    "print(a_cuadrado(10)+a_circulo(4)+ 2*a_circulo(6)+5*a_triangulo(2,4))\n"
   ]
  },
  {
   "cell_type": "markdown",
   "metadata": {},
   "source": [
    "# Importar funciones"
   ]
  },
  {
   "cell_type": "code",
   "execution_count": 69,
   "metadata": {},
   "outputs": [
    {
     "data": {
      "text/plain": [
       "28.274333882308138"
      ]
     },
     "execution_count": 69,
     "metadata": {},
     "output_type": "execute_result"
    }
   ],
   "source": [
    "import funcionesEjerc10 as fclase\n",
    "\n",
    "fclase.a_circulo(3)\n",
    "\n",
    "\n",
    "\n"
   ]
  },
  {
   "cell_type": "code",
   "execution_count": 71,
   "metadata": {},
   "outputs": [
    {
     "data": {
      "text/plain": [
       "25.0"
      ]
     },
     "execution_count": 71,
     "metadata": {},
     "output_type": "execute_result"
    }
   ],
   "source": [
    "from funcionesEjerc10 import *\n",
    "\n",
    "a_triangulo(5,10)"
   ]
  }
 ],
 "metadata": {
  "kernelspec": {
   "display_name": "Python 3.7.4 64-bit",
   "language": "python",
   "name": "python3"
  },
  "language_info": {
   "codemirror_mode": {
    "name": "ipython",
    "version": 3
   },
   "file_extension": ".py",
   "mimetype": "text/x-python",
   "name": "python",
   "nbconvert_exporter": "python",
   "pygments_lexer": "ipython3",
   "version": "3.10.9"
  },
  "vscode": {
   "interpreter": {
    "hash": "90139cb9a825bf3d63f6f6704e828dbd1ff7edbd4d0c6e906a71235d6efc74af"
   }
  }
 },
 "nbformat": 4,
 "nbformat_minor": 4
}
