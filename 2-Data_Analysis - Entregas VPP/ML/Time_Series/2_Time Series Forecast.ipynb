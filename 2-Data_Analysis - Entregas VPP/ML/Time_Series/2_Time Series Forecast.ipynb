{
 "cells": [
  {
   "cell_type": "markdown",
   "metadata": {},
   "source": [
    "## Ejercicio Time Series Forecast\n",
    "Para este ejercicio vamos a predecir cuál será la demanda de pasajeros de una aerolinea, para poder anticiparse a las contrataciones de personal, mantenimiento de las aeronaves y gestión de inventario y comidas.\n",
    "\n",
    "Para ello, se pide:\n",
    "1. Carga datos (AirPassengers.csv) y representa la serie. ¿Hay seasonality? ¿Cada cuanto?\n",
    "2. Crea en una gráfica la variable original + su media obtenida mediante una rolling window con el valor de seasonality obtenido en el apartado anterior. Tienes que usar la función rolling() del DataFrame.\n",
    "3. Comprueba de manera estadística si la serie es o no stationary.\n",
    "4. Aplica una transformación logarítmica sobre los datos para mejorar el proceso de transformación de tu time series a stationary. Acuérdate después del forecast de invertir la transformación.\n",
    "5. Divide en train y test. Guarda 20 muestras para test.\n",
    "6. Crea tu primer modelo ARIMA. Habrá varias combinaciones en función de sus hiperparámetros... Mide el MAE y RMSE del modelo en predicción. Ten en cuenta el parámetro \"m\" de la función ARIMA, mediante el cual se establece el seasonality.\n",
    "7. Representa en una gráfica los datos de test y tus predicciones.\n",
    "8. Prueba un decission tree y un random forest, a ver qué performance presentan."
   ]
  },
  {
   "cell_type": "code",
   "execution_count": 1,
   "metadata": {},
   "outputs": [],
   "source": [
    "from dateutil.parser import parse \n",
    "import pandas as pd\n",
    "import numpy as np\n",
    "import matplotlib.pyplot as plt\n",
    "import warnings \n",
    "# warnings.filterwarnings(\"ignore\")"
   ]
  },
  {
   "cell_type": "markdown",
   "metadata": {},
   "source": [
    "## 1. Carga datos (AirPassengers.csv) y representa la serie. ¿Hay seasonality? ¿Cada cuanto?\n"
   ]
  },
  {
   "cell_type": "code",
   "execution_count": 2,
   "metadata": {},
   "outputs": [
    {
     "name": "stderr",
     "output_type": "stream",
     "text": [
      "<>:1: SyntaxWarning: invalid escape sequence '\\d'\n",
      "<>:1: SyntaxWarning: invalid escape sequence '\\d'\n",
      "C:\\Users\\vipre\\AppData\\Local\\Temp\\ipykernel_2256\\918319083.py:1: SyntaxWarning: invalid escape sequence '\\d'\n",
      "  df = pd.read_csv(\".\\data\\AirPassengers.csv\", parse_dates=[\"date\"])\n"
     ]
    },
    {
     "data": {
      "text/html": [
       "<div>\n",
       "<style scoped>\n",
       "    .dataframe tbody tr th:only-of-type {\n",
       "        vertical-align: middle;\n",
       "    }\n",
       "\n",
       "    .dataframe tbody tr th {\n",
       "        vertical-align: top;\n",
       "    }\n",
       "\n",
       "    .dataframe thead th {\n",
       "        text-align: right;\n",
       "    }\n",
       "</style>\n",
       "<table border=\"1\" class=\"dataframe\">\n",
       "  <thead>\n",
       "    <tr style=\"text-align: right;\">\n",
       "      <th></th>\n",
       "      <th>date</th>\n",
       "      <th>value</th>\n",
       "    </tr>\n",
       "  </thead>\n",
       "  <tbody>\n",
       "    <tr>\n",
       "      <th>0</th>\n",
       "      <td>1949-01-01</td>\n",
       "      <td>112</td>\n",
       "    </tr>\n",
       "    <tr>\n",
       "      <th>1</th>\n",
       "      <td>1949-02-01</td>\n",
       "      <td>118</td>\n",
       "    </tr>\n",
       "    <tr>\n",
       "      <th>2</th>\n",
       "      <td>1949-03-01</td>\n",
       "      <td>132</td>\n",
       "    </tr>\n",
       "    <tr>\n",
       "      <th>3</th>\n",
       "      <td>1949-04-01</td>\n",
       "      <td>129</td>\n",
       "    </tr>\n",
       "    <tr>\n",
       "      <th>4</th>\n",
       "      <td>1949-05-01</td>\n",
       "      <td>121</td>\n",
       "    </tr>\n",
       "    <tr>\n",
       "      <th>...</th>\n",
       "      <td>...</td>\n",
       "      <td>...</td>\n",
       "    </tr>\n",
       "    <tr>\n",
       "      <th>139</th>\n",
       "      <td>1960-08-01</td>\n",
       "      <td>606</td>\n",
       "    </tr>\n",
       "    <tr>\n",
       "      <th>140</th>\n",
       "      <td>1960-09-01</td>\n",
       "      <td>508</td>\n",
       "    </tr>\n",
       "    <tr>\n",
       "      <th>141</th>\n",
       "      <td>1960-10-01</td>\n",
       "      <td>461</td>\n",
       "    </tr>\n",
       "    <tr>\n",
       "      <th>142</th>\n",
       "      <td>1960-11-01</td>\n",
       "      <td>390</td>\n",
       "    </tr>\n",
       "    <tr>\n",
       "      <th>143</th>\n",
       "      <td>1960-12-01</td>\n",
       "      <td>432</td>\n",
       "    </tr>\n",
       "  </tbody>\n",
       "</table>\n",
       "<p>144 rows × 2 columns</p>\n",
       "</div>"
      ],
      "text/plain": [
       "          date  value\n",
       "0   1949-01-01    112\n",
       "1   1949-02-01    118\n",
       "2   1949-03-01    132\n",
       "3   1949-04-01    129\n",
       "4   1949-05-01    121\n",
       "..         ...    ...\n",
       "139 1960-08-01    606\n",
       "140 1960-09-01    508\n",
       "141 1960-10-01    461\n",
       "142 1960-11-01    390\n",
       "143 1960-12-01    432\n",
       "\n",
       "[144 rows x 2 columns]"
      ]
     },
     "execution_count": 2,
     "metadata": {},
     "output_type": "execute_result"
    }
   ],
   "source": [
    "df = pd.read_csv(\".\\data\\AirPassengers.csv\", parse_dates=[\"date\"])\n",
    "df"
   ]
  },
  {
   "cell_type": "code",
   "execution_count": 3,
   "metadata": {},
   "outputs": [
    {
     "name": "stdout",
     "output_type": "stream",
     "text": [
      "<class 'pandas.core.frame.DataFrame'>\n",
      "RangeIndex: 144 entries, 0 to 143\n",
      "Data columns (total 2 columns):\n",
      " #   Column  Non-Null Count  Dtype         \n",
      "---  ------  --------------  -----         \n",
      " 0   date    144 non-null    datetime64[ns]\n",
      " 1   value   144 non-null    int64         \n",
      "dtypes: datetime64[ns](1), int64(1)\n",
      "memory usage: 2.4 KB\n"
     ]
    }
   ],
   "source": [
    "df.info()"
   ]
  },
  {
   "cell_type": "code",
   "execution_count": 4,
   "metadata": {},
   "outputs": [
    {
     "data": {
      "text/plain": [
       "<matplotlib.legend.Legend at 0x2b0f6ce6180>"
      ]
     },
     "execution_count": 4,
     "metadata": {},
     "output_type": "execute_result"
    },
    {
     "data": {
      "image/png": "[encoded data removed]",
      "text/plain": [
       "<Figure size 640x480 with 1 Axes>"
      ]
     },
     "metadata": {},
     "output_type": "display_data"
    }
   ],
   "source": [
    "plt.plot(df[\"date\"], df[\"value\"], label= \"value\")\n",
    "plt.xlabel('date')\n",
    "plt.legend()"
   ]
  },
  {
   "cell_type": "code",
   "execution_count": null,
   "metadata": {},
   "outputs": [],
   "source": []
  },
  {
   "cell_type": "code",
   "execution_count": null,
   "metadata": {},
   "outputs": [],
   "source": []
  },
  {
   "cell_type": "markdown",
   "metadata": {},
   "source": [
    "## 2. Crea en una gráfica la variable original + su media obtenida mediante una rolling window con el valor de seasonality obtenido en el apartado anterior. Tienes que usar la función rolling() del DataFrame."
   ]
  },
  {
   "cell_type": "code",
   "execution_count": 5,
   "metadata": {},
   "outputs": [
    {
     "data": {
      "text/html": [
       "<div>\n",
       "<style scoped>\n",
       "    .dataframe tbody tr th:only-of-type {\n",
       "        vertical-align: middle;\n",
       "    }\n",
       "\n",
       "    .dataframe tbody tr th {\n",
       "        vertical-align: top;\n",
       "    }\n",
       "\n",
       "    .dataframe thead th {\n",
       "        text-align: right;\n",
       "    }\n",
       "</style>\n",
       "<table border=\"1\" class=\"dataframe\">\n",
       "  <thead>\n",
       "    <tr style=\"text-align: right;\">\n",
       "      <th></th>\n",
       "      <th>value</th>\n",
       "    </tr>\n",
       "    <tr>\n",
       "      <th>date</th>\n",
       "      <th></th>\n",
       "    </tr>\n",
       "  </thead>\n",
       "  <tbody>\n",
       "    <tr>\n",
       "      <th>1949-01-01</th>\n",
       "      <td>112</td>\n",
       "    </tr>\n",
       "    <tr>\n",
       "      <th>1949-02-01</th>\n",
       "      <td>118</td>\n",
       "    </tr>\n",
       "    <tr>\n",
       "      <th>1949-03-01</th>\n",
       "      <td>132</td>\n",
       "    </tr>\n",
       "    <tr>\n",
       "      <th>1949-04-01</th>\n",
       "      <td>129</td>\n",
       "    </tr>\n",
       "    <tr>\n",
       "      <th>1949-05-01</th>\n",
       "      <td>121</td>\n",
       "    </tr>\n",
       "    <tr>\n",
       "      <th>...</th>\n",
       "      <td>...</td>\n",
       "    </tr>\n",
       "    <tr>\n",
       "      <th>1960-08-01</th>\n",
       "      <td>606</td>\n",
       "    </tr>\n",
       "    <tr>\n",
       "      <th>1960-09-01</th>\n",
       "      <td>508</td>\n",
       "    </tr>\n",
       "    <tr>\n",
       "      <th>1960-10-01</th>\n",
       "      <td>461</td>\n",
       "    </tr>\n",
       "    <tr>\n",
       "      <th>1960-11-01</th>\n",
       "      <td>390</td>\n",
       "    </tr>\n",
       "    <tr>\n",
       "      <th>1960-12-01</th>\n",
       "      <td>432</td>\n",
       "    </tr>\n",
       "  </tbody>\n",
       "</table>\n",
       "<p>144 rows × 1 columns</p>\n",
       "</div>"
      ],
      "text/plain": [
       "            value\n",
       "date             \n",
       "1949-01-01    112\n",
       "1949-02-01    118\n",
       "1949-03-01    132\n",
       "1949-04-01    129\n",
       "1949-05-01    121\n",
       "...           ...\n",
       "1960-08-01    606\n",
       "1960-09-01    508\n",
       "1960-10-01    461\n",
       "1960-11-01    390\n",
       "1960-12-01    432\n",
       "\n",
       "[144 rows x 1 columns]"
      ]
     },
     "execution_count": 5,
     "metadata": {},
     "output_type": "execute_result"
    }
   ],
   "source": [
    "df.set_index('date', inplace=True)\n",
    "df"
   ]
  },
  {
   "cell_type": "code",
   "execution_count": 6,
   "metadata": {},
   "outputs": [],
   "source": [
    "df_ma = df[\"value\"].rolling(window=12).mean()"
   ]
  },
  {
   "cell_type": "code",
   "execution_count": 7,
   "metadata": {},
   "outputs": [
    {
     "data": {
      "text/plain": [
       "<matplotlib.legend.Legend at 0x2b0f6ecbd70>"
      ]
     },
     "execution_count": 7,
     "metadata": {},
     "output_type": "execute_result"
    },
    {
     "data": {
      "image/png": "[encoded data removed]",
      "text/plain": [
       "<Figure size 1000x600 with 1 Axes>"
      ]
     },
     "metadata": {},
     "output_type": "display_data"
    }
   ],
   "source": [
    "plt.figure(figsize=(10,6))\n",
    "plt.plot(df['value'], color='blue', label='Original')\n",
    "plt.plot(df_ma, color='red', label='Rolling Mean 12')\n",
    "plt.legend(loc='best')\n",
    "\n",
    "# plt.plot(df[\"date\"], df[\"value\"], label= \"value\")\n",
    "# plt.plot\n",
    "# plt.xlabel('date')\n",
    "# plt.legend()"
   ]
  },
  {
   "cell_type": "code",
   "execution_count": null,
   "metadata": {},
   "outputs": [],
   "source": []
  },
  {
   "cell_type": "markdown",
   "metadata": {},
   "source": [
    "## 3. Comprueba de manera estadística si la serie es o no stationary."
   ]
  },
  {
   "cell_type": "code",
   "execution_count": 8,
   "metadata": {},
   "outputs": [],
   "source": [
    "from statsmodels.tsa.stattools import adfuller"
   ]
  },
  {
   "cell_type": "code",
   "execution_count": 9,
   "metadata": {},
   "outputs": [
    {
     "data": {
      "text/plain": [
       "(0.8153688792060463,\n",
       " 0.991880243437641,\n",
       " 13,\n",
       " 130,\n",
       " {'1%': -3.4816817173418295,\n",
       "  '5%': -2.8840418343195267,\n",
       "  '10%': -2.578770059171598},\n",
       " 996.692930839019)"
      ]
     },
     "execution_count": 9,
     "metadata": {},
     "output_type": "execute_result"
    }
   ],
   "source": [
    "adfuller(df[\"value\"])"
   ]
  },
  {
   "cell_type": "code",
   "execution_count": 10,
   "metadata": {},
   "outputs": [
    {
     "name": "stdout",
     "output_type": "stream",
     "text": [
      " 0.991880243437641, la serie no es estacionaria, el adfuller (p_value) dio menor 0,05\n"
     ]
    }
   ],
   "source": [
    "print( \" 0.991880243437641, la serie no es estacionaria, el adfuller (p_value) dio menor 0,05\")"
   ]
  },
  {
   "cell_type": "markdown",
   "metadata": {},
   "source": [
    "## 4. Aplica una transformación logarítmica"
   ]
  },
  {
   "cell_type": "code",
   "execution_count": 11,
   "metadata": {},
   "outputs": [
    {
     "data": {
      "text/html": [
       "<div>\n",
       "<style scoped>\n",
       "    .dataframe tbody tr th:only-of-type {\n",
       "        vertical-align: middle;\n",
       "    }\n",
       "\n",
       "    .dataframe tbody tr th {\n",
       "        vertical-align: top;\n",
       "    }\n",
       "\n",
       "    .dataframe thead th {\n",
       "        text-align: right;\n",
       "    }\n",
       "</style>\n",
       "<table border=\"1\" class=\"dataframe\">\n",
       "  <thead>\n",
       "    <tr style=\"text-align: right;\">\n",
       "      <th></th>\n",
       "      <th>value</th>\n",
       "    </tr>\n",
       "    <tr>\n",
       "      <th>date</th>\n",
       "      <th></th>\n",
       "    </tr>\n",
       "  </thead>\n",
       "  <tbody>\n",
       "    <tr>\n",
       "      <th>1949-01-01</th>\n",
       "      <td>112</td>\n",
       "    </tr>\n",
       "    <tr>\n",
       "      <th>1949-02-01</th>\n",
       "      <td>118</td>\n",
       "    </tr>\n",
       "    <tr>\n",
       "      <th>1949-03-01</th>\n",
       "      <td>132</td>\n",
       "    </tr>\n",
       "    <tr>\n",
       "      <th>1949-04-01</th>\n",
       "      <td>129</td>\n",
       "    </tr>\n",
       "    <tr>\n",
       "      <th>1949-05-01</th>\n",
       "      <td>121</td>\n",
       "    </tr>\n",
       "    <tr>\n",
       "      <th>...</th>\n",
       "      <td>...</td>\n",
       "    </tr>\n",
       "    <tr>\n",
       "      <th>1960-08-01</th>\n",
       "      <td>606</td>\n",
       "    </tr>\n",
       "    <tr>\n",
       "      <th>1960-09-01</th>\n",
       "      <td>508</td>\n",
       "    </tr>\n",
       "    <tr>\n",
       "      <th>1960-10-01</th>\n",
       "      <td>461</td>\n",
       "    </tr>\n",
       "    <tr>\n",
       "      <th>1960-11-01</th>\n",
       "      <td>390</td>\n",
       "    </tr>\n",
       "    <tr>\n",
       "      <th>1960-12-01</th>\n",
       "      <td>432</td>\n",
       "    </tr>\n",
       "  </tbody>\n",
       "</table>\n",
       "<p>144 rows × 1 columns</p>\n",
       "</div>"
      ],
      "text/plain": [
       "            value\n",
       "date             \n",
       "1949-01-01    112\n",
       "1949-02-01    118\n",
       "1949-03-01    132\n",
       "1949-04-01    129\n",
       "1949-05-01    121\n",
       "...           ...\n",
       "1960-08-01    606\n",
       "1960-09-01    508\n",
       "1960-10-01    461\n",
       "1960-11-01    390\n",
       "1960-12-01    432\n",
       "\n",
       "[144 rows x 1 columns]"
      ]
     },
     "execution_count": 11,
     "metadata": {},
     "output_type": "execute_result"
    }
   ],
   "source": [
    "df_1 = df.copy()\n",
    "df"
   ]
  },
  {
   "cell_type": "code",
   "execution_count": 12,
   "metadata": {},
   "outputs": [
    {
     "data": {
      "image/png": "[encoded data removed]",
      "text/plain": [
       "<Figure size 640x480 with 1 Axes>"
      ]
     },
     "metadata": {},
     "output_type": "display_data"
    }
   ],
   "source": [
    "import numpy as np\n",
    "\n",
    "df['log_value'] = np.log(df_1['value'])\n",
    "\n",
    "\n",
    "\n",
    "plt.plot(df['log_value'])\n",
    "\n",
    "plt.show()\n"
   ]
  },
  {
   "cell_type": "code",
   "execution_count": null,
   "metadata": {},
   "outputs": [],
   "source": []
  },
  {
   "cell_type": "markdown",
   "metadata": {},
   "source": [
    "## 5. Divide en train y test. Guarda 20 muestras para test."
   ]
  },
  {
   "cell_type": "code",
   "execution_count": 32,
   "metadata": {},
   "outputs": [
    {
     "name": "stdout",
     "output_type": "stream",
     "text": [
      "<class 'pandas.core.frame.DataFrame'>\n",
      "DatetimeIndex: 144 entries, 1949-01-01 to 1960-12-01\n",
      "Data columns (total 2 columns):\n",
      " #   Column     Non-Null Count  Dtype  \n",
      "---  ------     --------------  -----  \n",
      " 0   value      144 non-null    int64  \n",
      " 1   log_value  144 non-null    float64\n",
      "dtypes: float64(1), int64(1)\n",
      "memory usage: 3.4 KB\n"
     ]
    }
   ],
   "source": [
    "df.info()"
   ]
  },
  {
   "cell_type": "code",
   "execution_count": 53,
   "metadata": {},
   "outputs": [
    {
     "data": {
      "text/html": [
       "<div>\n",
       "<style scoped>\n",
       "    .dataframe tbody tr th:only-of-type {\n",
       "        vertical-align: middle;\n",
       "    }\n",
       "\n",
       "    .dataframe tbody tr th {\n",
       "        vertical-align: top;\n",
       "    }\n",
       "\n",
       "    .dataframe thead th {\n",
       "        text-align: right;\n",
       "    }\n",
       "</style>\n",
       "<table border=\"1\" class=\"dataframe\">\n",
       "  <thead>\n",
       "    <tr style=\"text-align: right;\">\n",
       "      <th></th>\n",
       "      <th>value</th>\n",
       "      <th>log_value</th>\n",
       "    </tr>\n",
       "    <tr>\n",
       "      <th>date</th>\n",
       "      <th></th>\n",
       "      <th></th>\n",
       "    </tr>\n",
       "  </thead>\n",
       "  <tbody>\n",
       "    <tr>\n",
       "      <th>1949-01-01</th>\n",
       "      <td>112</td>\n",
       "      <td>4.718499</td>\n",
       "    </tr>\n",
       "    <tr>\n",
       "      <th>1949-02-01</th>\n",
       "      <td>118</td>\n",
       "      <td>4.770685</td>\n",
       "    </tr>\n",
       "    <tr>\n",
       "      <th>1949-03-01</th>\n",
       "      <td>132</td>\n",
       "      <td>4.882802</td>\n",
       "    </tr>\n",
       "    <tr>\n",
       "      <th>1949-04-01</th>\n",
       "      <td>129</td>\n",
       "      <td>4.859812</td>\n",
       "    </tr>\n",
       "    <tr>\n",
       "      <th>1949-05-01</th>\n",
       "      <td>121</td>\n",
       "      <td>4.795791</td>\n",
       "    </tr>\n",
       "    <tr>\n",
       "      <th>...</th>\n",
       "      <td>...</td>\n",
       "      <td>...</td>\n",
       "    </tr>\n",
       "    <tr>\n",
       "      <th>1960-08-01</th>\n",
       "      <td>606</td>\n",
       "      <td>6.406880</td>\n",
       "    </tr>\n",
       "    <tr>\n",
       "      <th>1960-09-01</th>\n",
       "      <td>508</td>\n",
       "      <td>6.230481</td>\n",
       "    </tr>\n",
       "    <tr>\n",
       "      <th>1960-10-01</th>\n",
       "      <td>461</td>\n",
       "      <td>6.133398</td>\n",
       "    </tr>\n",
       "    <tr>\n",
       "      <th>1960-11-01</th>\n",
       "      <td>390</td>\n",
       "      <td>5.966147</td>\n",
       "    </tr>\n",
       "    <tr>\n",
       "      <th>1960-12-01</th>\n",
       "      <td>432</td>\n",
       "      <td>6.068426</td>\n",
       "    </tr>\n",
       "  </tbody>\n",
       "</table>\n",
       "<p>144 rows × 2 columns</p>\n",
       "</div>"
      ],
      "text/plain": [
       "            value  log_value\n",
       "date                        \n",
       "1949-01-01    112   4.718499\n",
       "1949-02-01    118   4.770685\n",
       "1949-03-01    132   4.882802\n",
       "1949-04-01    129   4.859812\n",
       "1949-05-01    121   4.795791\n",
       "...           ...        ...\n",
       "1960-08-01    606   6.406880\n",
       "1960-09-01    508   6.230481\n",
       "1960-10-01    461   6.133398\n",
       "1960-11-01    390   5.966147\n",
       "1960-12-01    432   6.068426\n",
       "\n",
       "[144 rows x 2 columns]"
      ]
     },
     "execution_count": 53,
     "metadata": {},
     "output_type": "execute_result"
    }
   ],
   "source": [
    "df"
   ]
  },
  {
   "cell_type": "code",
   "execution_count": 76,
   "metadata": {},
   "outputs": [],
   "source": [
    "X = df['log_value']\n",
    "train = X[:-20]\n",
    "test = X[-20:]"
   ]
  },
  {
   "cell_type": "code",
   "execution_count": 77,
   "metadata": {},
   "outputs": [
    {
     "name": "stdout",
     "output_type": "stream",
     "text": [
      "(124,)\n",
      "(20,)\n"
     ]
    }
   ],
   "source": [
    "print(train.shape)\n",
    "print(test.shape)"
   ]
  },
  {
   "cell_type": "code",
   "execution_count": 16,
   "metadata": {},
   "outputs": [],
   "source": [
    "# shapes de train y test"
   ]
  },
  {
   "cell_type": "markdown",
   "metadata": {},
   "source": [
    "## 6. Crea tu primer modelo ARIMA"
   ]
  },
  {
   "cell_type": "code",
   "execution_count": 78,
   "metadata": {},
   "outputs": [],
   "source": [
    "from pmdarima.arima import auto_arima\n",
    "from sklearn.metrics import mean_absolute_error,mean_squared_error, mean_absolute_percentage_error"
   ]
  },
  {
   "cell_type": "code",
   "execution_count": 79,
   "metadata": {},
   "outputs": [
    {
     "name": "stdout",
     "output_type": "stream",
     "text": [
      "Performing stepwise search to minimize aic\n",
      " ARIMA(1,1,1)(0,0,0)[0] intercept   : AIC=-241.608, Time=0.29 sec\n",
      " ARIMA(0,1,0)(0,0,0)[0] intercept   : AIC=-231.565, Time=0.03 sec\n",
      " ARIMA(1,1,0)(0,0,0)[0] intercept   : AIC=-235.386, Time=0.03 sec\n",
      " ARIMA(0,1,1)(0,0,0)[0] intercept   : AIC=-237.507, Time=0.05 sec\n",
      " ARIMA(0,1,0)(0,0,0)[0]             : AIC=-232.439, Time=0.03 sec\n",
      " ARIMA(2,1,1)(0,0,0)[0] intercept   : AIC=-269.651, Time=0.25 sec\n",
      " ARIMA(2,1,0)(0,0,0)[0] intercept   : AIC=-237.605, Time=0.05 sec\n",
      " ARIMA(3,1,1)(0,0,0)[0] intercept   : AIC=-269.697, Time=0.26 sec\n",
      " ARIMA(3,1,0)(0,0,0)[0] intercept   : AIC=-236.952, Time=0.20 sec\n",
      " ARIMA(4,1,1)(0,0,0)[0] intercept   : AIC=-248.753, Time=0.19 sec\n",
      " ARIMA(3,1,2)(0,0,0)[0] intercept   : AIC=-269.821, Time=0.56 sec\n",
      " ARIMA(2,1,2)(0,0,0)[0] intercept   : AIC=-262.543, Time=0.55 sec\n",
      " ARIMA(4,1,2)(0,0,0)[0] intercept   : AIC=-275.310, Time=0.33 sec\n",
      " ARIMA(5,1,2)(0,0,0)[0] intercept   : AIC=-274.635, Time=0.36 sec\n",
      " ARIMA(4,1,3)(0,0,0)[0] intercept   : AIC=-286.544, Time=0.38 sec\n",
      " ARIMA(3,1,3)(0,0,0)[0] intercept   : AIC=-283.757, Time=0.35 sec\n",
      " ARIMA(5,1,3)(0,0,0)[0] intercept   : AIC=inf, Time=0.45 sec\n",
      " ARIMA(4,1,4)(0,0,0)[0] intercept   : AIC=inf, Time=0.44 sec\n",
      " ARIMA(3,1,4)(0,0,0)[0] intercept   : AIC=inf, Time=0.44 sec\n",
      " ARIMA(5,1,4)(0,0,0)[0] intercept   : AIC=inf, Time=0.47 sec\n",
      " ARIMA(4,1,3)(0,0,0)[0]             : AIC=-282.936, Time=0.48 sec\n",
      "\n",
      "Best model:  ARIMA(4,1,3)(0,0,0)[0] intercept\n",
      "Total fit time: 6.212 seconds\n"
     ]
    }
   ],
   "source": [
    "from pmdarima.arima import ARIMA\n",
    "\n",
    "model = auto_arima(df['log_value'], start_p=1, start_q=1,\n",
    "                   max_d=3, max_p=5, max_q=5,\n",
    "                   seasonal=False, stationary=False, trace=True)"
   ]
  },
  {
   "cell_type": "code",
   "execution_count": 64,
   "metadata": {},
   "outputs": [
    {
     "data": {
      "text/plain": [
       "ARIMA(order=(4, 1, 2), scoring_args={}, suppress_warnings=True)"
      ]
     },
     "execution_count": 64,
     "metadata": {},
     "output_type": "execute_result"
    }
   ],
   "source": [
    "# módelo con art_p=1, start_q=1, max_d=3, max_p=5, max_q=5 y stationary=False"
   ]
  },
  {
   "cell_type": "code",
   "execution_count": 80,
   "metadata": {},
   "outputs": [
    {
     "data": {
      "text/plain": [
       "array([6.22159879, 6.29574115, 6.39678975, 6.42428448, 6.34552026,\n",
       "       6.3199549 , 6.30384445, 6.26570549, 6.30756162, 6.3580192 ,\n",
       "       6.36354668, 6.40124054, 6.42231003, 6.3980284 , 6.40740599,\n",
       "       6.41880996, 6.40652414, 6.42924576, 6.45380481, 6.45267519])"
      ]
     },
     "execution_count": 80,
     "metadata": {},
     "output_type": "execute_result"
    }
   ],
   "source": [
    "# Está en loratítmicos, hay que pasar a los valores del ejercicio\n",
    "\n",
    "predictions = model.predict(20)\n",
    "np.array (predictions)"
   ]
  },
  {
   "cell_type": "code",
   "execution_count": 81,
   "metadata": {},
   "outputs": [
    {
     "data": {
      "text/plain": [
       "array([503.50759309, 542.25759035, 599.91606035, 616.63944486,\n",
       "       569.93382414, 555.547938  , 546.66951804, 526.21269513,\n",
       "       548.7053629 , 577.10209894, 580.3008527 , 602.59211379,\n",
       "       615.42311898, 600.65961169, 606.3188404 , 613.27286026,\n",
       "       605.7843982 , 619.70636302, 635.11418969, 634.39715462])"
      ]
     },
     "execution_count": 81,
     "metadata": {},
     "output_type": "execute_result"
    }
   ],
   "source": [
    "# predice 20 valores\n",
    "\n",
    "# Escala original\n",
    "\n",
    "predictions_sc_original = np.exp(predictions)\n",
    "np.array (predictions_sc_original)"
   ]
  },
  {
   "cell_type": "code",
   "execution_count": 84,
   "metadata": {},
   "outputs": [
    {
     "data": {
      "text/plain": [
       "array([396.80138345, 395.79112516, 369.52313598, 387.27007933,\n",
       "       364.88245741, 381.961082  , 378.29898929, 376.23006892,\n",
       "       389.42713079, 372.28691084, 389.13738288, 375.00996104,\n",
       "       381.30256629, 382.37160442, 374.22919603, 387.11052311,\n",
       "       373.41134741, 385.05707763, 378.37808096, 378.93797036])"
      ]
     },
     "execution_count": 84,
     "metadata": {},
     "output_type": "execute_result"
    }
   ],
   "source": [
    "# predice 20 valores"
   ]
  },
  {
   "cell_type": "code",
   "execution_count": 82,
   "metadata": {},
   "outputs": [
    {
     "data": {
      "text/plain": [
       "array([6.04025471, 6.15697899, 6.30627529, 6.32614947, 6.13772705,\n",
       "       6.00881319, 5.89164421, 6.00388707, 6.03308622, 5.96870756,\n",
       "       6.03787092, 6.13339804, 6.15697899, 6.28226675, 6.43294009,\n",
       "       6.40687999, 6.23048145, 6.13339804, 5.96614674, 6.06842559])"
      ]
     },
     "execution_count": 82,
     "metadata": {},
     "output_type": "execute_result"
    }
   ],
   "source": [
    "test.values"
   ]
  },
  {
   "cell_type": "code",
   "execution_count": 31,
   "metadata": {},
   "outputs": [
    {
     "data": {
      "text/plain": [
       "array([6.04025471, 6.15697899, 6.30627529, 6.32614947, 6.13772705,\n",
       "       6.00881319, 5.89164421, 6.00388707, 6.03308622, 5.96870756,\n",
       "       6.03787092, 6.13339804, 6.15697899, 6.28226675, 6.43294009,\n",
       "       6.40687999, 6.23048145, 6.13339804, 5.96614674, 6.06842559])"
      ]
     },
     "execution_count": 31,
     "metadata": {},
     "output_type": "execute_result"
    }
   ],
   "source": [
    "# test.values"
   ]
  },
  {
   "cell_type": "code",
   "execution_count": 66,
   "metadata": {},
   "outputs": [
    {
     "name": "stdout",
     "output_type": "stream",
     "text": [
      "MAE 0.12657252410066783\n",
      "MAPE 0.020640169700076615\n"
     ]
    }
   ],
   "source": [
    "# MAE test\n",
    "# MAPE test"
   ]
  },
  {
   "cell_type": "code",
   "execution_count": 83,
   "metadata": {},
   "outputs": [
    {
     "name": "stdout",
     "output_type": "stream",
     "text": [
      "MAE: 0.23606847238218248\n",
      "MAPE: 0.03894310782241218\n"
     ]
    }
   ],
   "source": [
    "print(\"MAE:\", mean_absolute_error(test, predictions))\n",
    "print(\"MAPE:\", mean_absolute_percentage_error(test, predictions))\n"
   ]
  },
  {
   "cell_type": "code",
   "execution_count": 84,
   "metadata": {},
   "outputs": [
    {
     "data": {
      "text/html": [
       "<style>#sk-container-id-2 {\n",
       "  /* Definition of color scheme common for light and dark mode */\n",
       "  --sklearn-color-text: black;\n",
       "  --sklearn-color-line: gray;\n",
       "  /* Definition of color scheme for unfitted estimators */\n",
       "  --sklearn-color-unfitted-level-0: #fff5e6;\n",
       "  --sklearn-color-unfitted-level-1: #f6e4d2;\n",
       "  --sklearn-color-unfitted-level-2: #ffe0b3;\n",
       "  --sklearn-color-unfitted-level-3: chocolate;\n",
       "  /* Definition of color scheme for fitted estimators */\n",
       "  --sklearn-color-fitted-level-0: #f0f8ff;\n",
       "  --sklearn-color-fitted-level-1: #d4ebff;\n",
       "  --sklearn-color-fitted-level-2: #b3dbfd;\n",
       "  --sklearn-color-fitted-level-3: cornflowerblue;\n",
       "\n",
       "  /* Specific color for light theme */\n",
       "  --sklearn-color-text-on-default-background: var(--sg-text-color, var(--theme-code-foreground, var(--jp-content-font-color1, black)));\n",
       "  --sklearn-color-background: var(--sg-background-color, var(--theme-background, var(--jp-layout-color0, white)));\n",
       "  --sklearn-color-border-box: var(--sg-text-color, var(--theme-code-foreground, var(--jp-content-font-color1, black)));\n",
       "  --sklearn-color-icon: #696969;\n",
       "\n",
       "  @media (prefers-color-scheme: dark) {\n",
       "    /* Redefinition of color scheme for dark theme */\n",
       "    --sklearn-color-text-on-default-background: var(--sg-text-color, var(--theme-code-foreground, var(--jp-content-font-color1, white)));\n",
       "    --sklearn-color-background: var(--sg-background-color, var(--theme-background, var(--jp-layout-color0, #111)));\n",
       "    --sklearn-color-border-box: var(--sg-text-color, var(--theme-code-foreground, var(--jp-content-font-color1, white)));\n",
       "    --sklearn-color-icon: #878787;\n",
       "  }\n",
       "}\n",
       "\n",
       "#sk-container-id-2 {\n",
       "  color: var(--sklearn-color-text);\n",
       "}\n",
       "\n",
       "#sk-container-id-2 pre {\n",
       "  padding: 0;\n",
       "}\n",
       "\n",
       "#sk-container-id-2 input.sk-hidden--visually {\n",
       "  border: 0;\n",
       "  clip: rect(1px 1px 1px 1px);\n",
       "  clip: rect(1px, 1px, 1px, 1px);\n",
       "  height: 1px;\n",
       "  margin: -1px;\n",
       "  overflow: hidden;\n",
       "  padding: 0;\n",
       "  position: absolute;\n",
       "  width: 1px;\n",
       "}\n",
       "\n",
       "#sk-container-id-2 div.sk-dashed-wrapped {\n",
       "  border: 1px dashed var(--sklearn-color-line);\n",
       "  margin: 0 0.4em 0.5em 0.4em;\n",
       "  box-sizing: border-box;\n",
       "  padding-bottom: 0.4em;\n",
       "  background-color: var(--sklearn-color-background);\n",
       "}\n",
       "\n",
       "#sk-container-id-2 div.sk-container {\n",
       "  /* jupyter's `normalize.less` sets `[hidden] { display: none; }`\n",
       "     but bootstrap.min.css set `[hidden] { display: none !important; }`\n",
       "     so we also need the `!important` here to be able to override the\n",
       "     default hidden behavior on the sphinx rendered scikit-learn.org.\n",
       "     See: https://github.com/scikit-learn/scikit-learn/issues/21755 */\n",
       "  display: inline-block !important;\n",
       "  position: relative;\n",
       "}\n",
       "\n",
       "#sk-container-id-2 div.sk-text-repr-fallback {\n",
       "  display: none;\n",
       "}\n",
       "\n",
       "div.sk-parallel-item,\n",
       "div.sk-serial,\n",
       "div.sk-item {\n",
       "  /* draw centered vertical line to link estimators */\n",
       "  background-image: linear-gradient(var(--sklearn-color-text-on-default-background), var(--sklearn-color-text-on-default-background));\n",
       "  background-size: 2px 100%;\n",
       "  background-repeat: no-repeat;\n",
       "  background-position: center center;\n",
       "}\n",
       "\n",
       "/* Parallel-specific style estimator block */\n",
       "\n",
       "#sk-container-id-2 div.sk-parallel-item::after {\n",
       "  content: \"\";\n",
       "  width: 100%;\n",
       "  border-bottom: 2px solid var(--sklearn-color-text-on-default-background);\n",
       "  flex-grow: 1;\n",
       "}\n",
       "\n",
       "#sk-container-id-2 div.sk-parallel {\n",
       "  display: flex;\n",
       "  align-items: stretch;\n",
       "  justify-content: center;\n",
       "  background-color: var(--sklearn-color-background);\n",
       "  position: relative;\n",
       "}\n",
       "\n",
       "#sk-container-id-2 div.sk-parallel-item {\n",
       "  display: flex;\n",
       "  flex-direction: column;\n",
       "}\n",
       "\n",
       "#sk-container-id-2 div.sk-parallel-item:first-child::after {\n",
       "  align-self: flex-end;\n",
       "  width: 50%;\n",
       "}\n",
       "\n",
       "#sk-container-id-2 div.sk-parallel-item:last-child::after {\n",
       "  align-self: flex-start;\n",
       "  width: 50%;\n",
       "}\n",
       "\n",
       "#sk-container-id-2 div.sk-parallel-item:only-child::after {\n",
       "  width: 0;\n",
       "}\n",
       "\n",
       "/* Serial-specific style estimator block */\n",
       "\n",
       "#sk-container-id-2 div.sk-serial {\n",
       "  display: flex;\n",
       "  flex-direction: column;\n",
       "  align-items: center;\n",
       "  background-color: var(--sklearn-color-background);\n",
       "  padding-right: 1em;\n",
       "  padding-left: 1em;\n",
       "}\n",
       "\n",
       "\n",
       "/* Toggleable style: style used for estimator/Pipeline/ColumnTransformer box that is\n",
       "clickable and can be expanded/collapsed.\n",
       "- Pipeline and ColumnTransformer use this feature and define the default style\n",
       "- Estimators will overwrite some part of the style using the `sk-estimator` class\n",
       "*/\n",
       "\n",
       "/* Pipeline and ColumnTransformer style (default) */\n",
       "\n",
       "#sk-container-id-2 div.sk-toggleable {\n",
       "  /* Default theme specific background. It is overwritten whether we have a\n",
       "  specific estimator or a Pipeline/ColumnTransformer */\n",
       "  background-color: var(--sklearn-color-background);\n",
       "}\n",
       "\n",
       "/* Toggleable label */\n",
       "#sk-container-id-2 label.sk-toggleable__label {\n",
       "  cursor: pointer;\n",
       "  display: block;\n",
       "  width: 100%;\n",
       "  margin-bottom: 0;\n",
       "  padding: 0.5em;\n",
       "  box-sizing: border-box;\n",
       "  text-align: center;\n",
       "}\n",
       "\n",
       "#sk-container-id-2 label.sk-toggleable__label-arrow:before {\n",
       "  /* Arrow on the left of the label */\n",
       "  content: \"▸\";\n",
       "  float: left;\n",
       "  margin-right: 0.25em;\n",
       "  color: var(--sklearn-color-icon);\n",
       "}\n",
       "\n",
       "#sk-container-id-2 label.sk-toggleable__label-arrow:hover:before {\n",
       "  color: var(--sklearn-color-text);\n",
       "}\n",
       "\n",
       "/* Toggleable content - dropdown */\n",
       "\n",
       "#sk-container-id-2 div.sk-toggleable__content {\n",
       "  max-height: 0;\n",
       "  max-width: 0;\n",
       "  overflow: hidden;\n",
       "  text-align: left;\n",
       "  /* unfitted */\n",
       "  background-color: var(--sklearn-color-unfitted-level-0);\n",
       "}\n",
       "\n",
       "#sk-container-id-2 div.sk-toggleable__content.fitted {\n",
       "  /* fitted */\n",
       "  background-color: var(--sklearn-color-fitted-level-0);\n",
       "}\n",
       "\n",
       "#sk-container-id-2 div.sk-toggleable__content pre {\n",
       "  margin: 0.2em;\n",
       "  border-radius: 0.25em;\n",
       "  color: var(--sklearn-color-text);\n",
       "  /* unfitted */\n",
       "  background-color: var(--sklearn-color-unfitted-level-0);\n",
       "}\n",
       "\n",
       "#sk-container-id-2 div.sk-toggleable__content.fitted pre {\n",
       "  /* unfitted */\n",
       "  background-color: var(--sklearn-color-fitted-level-0);\n",
       "}\n",
       "\n",
       "#sk-container-id-2 input.sk-toggleable__control:checked~div.sk-toggleable__content {\n",
       "  /* Expand drop-down */\n",
       "  max-height: 200px;\n",
       "  max-width: 100%;\n",
       "  overflow: auto;\n",
       "}\n",
       "\n",
       "#sk-container-id-2 input.sk-toggleable__control:checked~label.sk-toggleable__label-arrow:before {\n",
       "  content: \"▾\";\n",
       "}\n",
       "\n",
       "/* Pipeline/ColumnTransformer-specific style */\n",
       "\n",
       "#sk-container-id-2 div.sk-label input.sk-toggleable__control:checked~label.sk-toggleable__label {\n",
       "  color: var(--sklearn-color-text);\n",
       "  background-color: var(--sklearn-color-unfitted-level-2);\n",
       "}\n",
       "\n",
       "#sk-container-id-2 div.sk-label.fitted input.sk-toggleable__control:checked~label.sk-toggleable__label {\n",
       "  background-color: var(--sklearn-color-fitted-level-2);\n",
       "}\n",
       "\n",
       "/* Estimator-specific style */\n",
       "\n",
       "/* Colorize estimator box */\n",
       "#sk-container-id-2 div.sk-estimator input.sk-toggleable__control:checked~label.sk-toggleable__label {\n",
       "  /* unfitted */\n",
       "  background-color: var(--sklearn-color-unfitted-level-2);\n",
       "}\n",
       "\n",
       "#sk-container-id-2 div.sk-estimator.fitted input.sk-toggleable__control:checked~label.sk-toggleable__label {\n",
       "  /* fitted */\n",
       "  background-color: var(--sklearn-color-fitted-level-2);\n",
       "}\n",
       "\n",
       "#sk-container-id-2 div.sk-label label.sk-toggleable__label,\n",
       "#sk-container-id-2 div.sk-label label {\n",
       "  /* The background is the default theme color */\n",
       "  color: var(--sklearn-color-text-on-default-background);\n",
       "}\n",
       "\n",
       "/* On hover, darken the color of the background */\n",
       "#sk-container-id-2 div.sk-label:hover label.sk-toggleable__label {\n",
       "  color: var(--sklearn-color-text);\n",
       "  background-color: var(--sklearn-color-unfitted-level-2);\n",
       "}\n",
       "\n",
       "/* Label box, darken color on hover, fitted */\n",
       "#sk-container-id-2 div.sk-label.fitted:hover label.sk-toggleable__label.fitted {\n",
       "  color: var(--sklearn-color-text);\n",
       "  background-color: var(--sklearn-color-fitted-level-2);\n",
       "}\n",
       "\n",
       "/* Estimator label */\n",
       "\n",
       "#sk-container-id-2 div.sk-label label {\n",
       "  font-family: monospace;\n",
       "  font-weight: bold;\n",
       "  display: inline-block;\n",
       "  line-height: 1.2em;\n",
       "}\n",
       "\n",
       "#sk-container-id-2 div.sk-label-container {\n",
       "  text-align: center;\n",
       "}\n",
       "\n",
       "/* Estimator-specific */\n",
       "#sk-container-id-2 div.sk-estimator {\n",
       "  font-family: monospace;\n",
       "  border: 1px dotted var(--sklearn-color-border-box);\n",
       "  border-radius: 0.25em;\n",
       "  box-sizing: border-box;\n",
       "  margin-bottom: 0.5em;\n",
       "  /* unfitted */\n",
       "  background-color: var(--sklearn-color-unfitted-level-0);\n",
       "}\n",
       "\n",
       "#sk-container-id-2 div.sk-estimator.fitted {\n",
       "  /* fitted */\n",
       "  background-color: var(--sklearn-color-fitted-level-0);\n",
       "}\n",
       "\n",
       "/* on hover */\n",
       "#sk-container-id-2 div.sk-estimator:hover {\n",
       "  /* unfitted */\n",
       "  background-color: var(--sklearn-color-unfitted-level-2);\n",
       "}\n",
       "\n",
       "#sk-container-id-2 div.sk-estimator.fitted:hover {\n",
       "  /* fitted */\n",
       "  background-color: var(--sklearn-color-fitted-level-2);\n",
       "}\n",
       "\n",
       "/* Specification for estimator info (e.g. \"i\" and \"?\") */\n",
       "\n",
       "/* Common style for \"i\" and \"?\" */\n",
       "\n",
       ".sk-estimator-doc-link,\n",
       "a:link.sk-estimator-doc-link,\n",
       "a:visited.sk-estimator-doc-link {\n",
       "  float: right;\n",
       "  font-size: smaller;\n",
       "  line-height: 1em;\n",
       "  font-family: monospace;\n",
       "  background-color: var(--sklearn-color-background);\n",
       "  border-radius: 1em;\n",
       "  height: 1em;\n",
       "  width: 1em;\n",
       "  text-decoration: none !important;\n",
       "  margin-left: 1ex;\n",
       "  /* unfitted */\n",
       "  border: var(--sklearn-color-unfitted-level-1) 1pt solid;\n",
       "  color: var(--sklearn-color-unfitted-level-1);\n",
       "}\n",
       "\n",
       ".sk-estimator-doc-link.fitted,\n",
       "a:link.sk-estimator-doc-link.fitted,\n",
       "a:visited.sk-estimator-doc-link.fitted {\n",
       "  /* fitted */\n",
       "  border: var(--sklearn-color-fitted-level-1) 1pt solid;\n",
       "  color: var(--sklearn-color-fitted-level-1);\n",
       "}\n",
       "\n",
       "/* On hover */\n",
       "div.sk-estimator:hover .sk-estimator-doc-link:hover,\n",
       ".sk-estimator-doc-link:hover,\n",
       "div.sk-label-container:hover .sk-estimator-doc-link:hover,\n",
       ".sk-estimator-doc-link:hover {\n",
       "  /* unfitted */\n",
       "  background-color: var(--sklearn-color-unfitted-level-3);\n",
       "  color: var(--sklearn-color-background);\n",
       "  text-decoration: none;\n",
       "}\n",
       "\n",
       "div.sk-estimator.fitted:hover .sk-estimator-doc-link.fitted:hover,\n",
       ".sk-estimator-doc-link.fitted:hover,\n",
       "div.sk-label-container:hover .sk-estimator-doc-link.fitted:hover,\n",
       ".sk-estimator-doc-link.fitted:hover {\n",
       "  /* fitted */\n",
       "  background-color: var(--sklearn-color-fitted-level-3);\n",
       "  color: var(--sklearn-color-background);\n",
       "  text-decoration: none;\n",
       "}\n",
       "\n",
       "/* Span, style for the box shown on hovering the info icon */\n",
       ".sk-estimator-doc-link span {\n",
       "  display: none;\n",
       "  z-index: 9999;\n",
       "  position: relative;\n",
       "  font-weight: normal;\n",
       "  right: .2ex;\n",
       "  padding: .5ex;\n",
       "  margin: .5ex;\n",
       "  width: min-content;\n",
       "  min-width: 20ex;\n",
       "  max-width: 50ex;\n",
       "  color: var(--sklearn-color-text);\n",
       "  box-shadow: 2pt 2pt 4pt #999;\n",
       "  /* unfitted */\n",
       "  background: var(--sklearn-color-unfitted-level-0);\n",
       "  border: .5pt solid var(--sklearn-color-unfitted-level-3);\n",
       "}\n",
       "\n",
       ".sk-estimator-doc-link.fitted span {\n",
       "  /* fitted */\n",
       "  background: var(--sklearn-color-fitted-level-0);\n",
       "  border: var(--sklearn-color-fitted-level-3);\n",
       "}\n",
       "\n",
       ".sk-estimator-doc-link:hover span {\n",
       "  display: block;\n",
       "}\n",
       "\n",
       "/* \"?\"-specific style due to the `<a>` HTML tag */\n",
       "\n",
       "#sk-container-id-2 a.estimator_doc_link {\n",
       "  float: right;\n",
       "  font-size: 1rem;\n",
       "  line-height: 1em;\n",
       "  font-family: monospace;\n",
       "  background-color: var(--sklearn-color-background);\n",
       "  border-radius: 1rem;\n",
       "  height: 1rem;\n",
       "  width: 1rem;\n",
       "  text-decoration: none;\n",
       "  /* unfitted */\n",
       "  color: var(--sklearn-color-unfitted-level-1);\n",
       "  border: var(--sklearn-color-unfitted-level-1) 1pt solid;\n",
       "}\n",
       "\n",
       "#sk-container-id-2 a.estimator_doc_link.fitted {\n",
       "  /* fitted */\n",
       "  border: var(--sklearn-color-fitted-level-1) 1pt solid;\n",
       "  color: var(--sklearn-color-fitted-level-1);\n",
       "}\n",
       "\n",
       "/* On hover */\n",
       "#sk-container-id-2 a.estimator_doc_link:hover {\n",
       "  /* unfitted */\n",
       "  background-color: var(--sklearn-color-unfitted-level-3);\n",
       "  color: var(--sklearn-color-background);\n",
       "  text-decoration: none;\n",
       "}\n",
       "\n",
       "#sk-container-id-2 a.estimator_doc_link.fitted:hover {\n",
       "  /* fitted */\n",
       "  background-color: var(--sklearn-color-fitted-level-3);\n",
       "}\n",
       "</style><div id=\"sk-container-id-2\" class=\"sk-top-container\"><div class=\"sk-text-repr-fallback\"><pre> ARIMA(2,0,0)(0,1,1)[12] intercept</pre><b>In a Jupyter environment, please rerun this cell to show the HTML representation or trust the notebook. <br />On GitHub, the HTML representation is unable to render, please try loading this page with nbviewer.org.</b></div><div class=\"sk-container\" hidden><div class=\"sk-item\"><div class=\"sk-estimator fitted sk-toggleable\"><input class=\"sk-toggleable__control sk-hidden--visually\" id=\"sk-estimator-id-2\" type=\"checkbox\" checked><label for=\"sk-estimator-id-2\" class=\"sk-toggleable__label fitted sk-toggleable__label-arrow fitted\">&nbsp;ARIMA<span class=\"sk-estimator-doc-link fitted\">i<span>Fitted</span></span></label><div class=\"sk-toggleable__content fitted\"><pre> ARIMA(2,0,0)(0,1,1)[12] intercept</pre></div> </div></div></div></div>"
      ],
      "text/plain": [
       "ARIMA(order=(2, 0, 0), seasonal_order=(0, 1, 1, 12), suppress_warnings=True)"
      ]
     },
     "execution_count": 84,
     "metadata": {},
     "output_type": "execute_result"
    }
   ],
   "source": [
    "# reentrena el módelo incluyendo el argumento m=12\n",
    "\n",
    "model = ARIMA(order=(2, 0, 0), seasonal_order=(0, 1, 1, 12), suppress_warnings=True)\n",
    "model.fit(df['log_value'])"
   ]
  },
  {
   "cell_type": "code",
   "execution_count": 85,
   "metadata": {},
   "outputs": [
    {
     "data": {
      "text/plain": [
       "1961-01-01    452.315165\n",
       "1961-02-01    429.544491\n",
       "1961-03-01    485.883669\n",
       "1961-04-01    501.768358\n",
       "1961-05-01    520.798023\n",
       "1961-06-01    598.816191\n",
       "1961-07-01    689.898250\n",
       "1961-08-01    688.658209\n",
       "1961-09-01    577.533150\n",
       "1961-10-01    515.502815\n",
       "1961-11-01    446.447813\n",
       "1961-12-01    496.394113\n",
       "1962-01-01    517.497708\n",
       "1962-02-01    490.709515\n",
       "1962-03-01    553.966261\n",
       "1962-04-01    571.197182\n",
       "1962-05-01    592.026577\n",
       "1962-06-01    679.890619\n",
       "1962-07-01    782.470265\n",
       "1962-08-01    780.337642\n",
       "Freq: MS, dtype: float64"
      ]
     },
     "execution_count": 85,
     "metadata": {},
     "output_type": "execute_result"
    }
   ],
   "source": [
    "# vuelve a predecir 20 valores y obtén MAE test y MAPE test\n",
    "\n",
    "# compara con los valores previos\n",
    "\n",
    "predictions= model.predict(n_periods=20)\n",
    "predictions_sc_original  = np.exp(predictions)\n",
    "predictions_sc_original"
   ]
  },
  {
   "cell_type": "code",
   "execution_count": 86,
   "metadata": {},
   "outputs": [
    {
     "name": "stdout",
     "output_type": "stream",
     "text": [
      "MAE: 0.24992024758967965\n",
      "MAPE: 0.04129544655022639\n"
     ]
    }
   ],
   "source": [
    "print(\"MAE:\", mean_absolute_error(test, predictions))\n",
    "print(\"MAPE:\", mean_absolute_percentage_error(test, predictions))"
   ]
  },
  {
   "cell_type": "code",
   "execution_count": 95,
   "metadata": {},
   "outputs": [
    {
     "data": {
      "text/plain": [
       "ARIMA(order=(2, 0, 0), scoring_args={}, seasonal_order=(0, 1, 1, 12),\n",
       "      suppress_warnings=True)"
      ]
     },
     "execution_count": 95,
     "metadata": {},
     "output_type": "execute_result"
    }
   ],
   "source": [
    "# reentrena el módelo incluyendo el argumento m=12"
   ]
  },
  {
   "cell_type": "code",
   "execution_count": 96,
   "metadata": {},
   "outputs": [
    {
     "name": "stdout",
     "output_type": "stream",
     "text": [
      "MAE 0.02702695363004102\n",
      "MAPE 0.004412233526458519\n"
     ]
    }
   ],
   "source": []
  },
  {
   "cell_type": "markdown",
   "metadata": {},
   "source": [
    "## 7. Representa en una gráfica los datos de test y tus predicciones."
   ]
  },
  {
   "cell_type": "code",
   "execution_count": 89,
   "metadata": {},
   "outputs": [
    {
     "data": {
      "text/plain": [
       "<matplotlib.legend.Legend at 0x2b09267a900>"
      ]
     },
     "execution_count": 89,
     "metadata": {},
     "output_type": "execute_result"
    },
    {
     "data": {
      "image/png": "[encoded data removed]",
      "text/plain": [
       "<Figure size 1000x600 with 1 Axes>"
      ]
     },
     "metadata": {},
     "output_type": "display_data"
    }
   ],
   "source": [
    "test_values = df['value'][-20:]\n",
    "\n",
    "# Plot the test values and predictions\n",
    "plt.figure(figsize=(10,6))\n",
    "plt.plot(test_values, color='blue', label='Test Values')\n",
    "plt.plot(test_values.index, predictions_sc_original, color='red', label='Predicted Values')\n",
    "plt.legend(loc='best')"
   ]
  },
  {
   "cell_type": "code",
   "execution_count": 97,
   "metadata": {},
   "outputs": [
    {
     "data": {
      "image/png": "[encoded data removed]",
      "text/plain": [
       "<Figure size 432x288 with 1 Axes>"
      ]
     },
     "metadata": {
      "needs_background": "light"
     },
     "output_type": "display_data"
    }
   ],
   "source": []
  },
  {
   "cell_type": "markdown",
   "metadata": {},
   "source": [
    "## 8. Prueba otros modelos, a ver qué performance presentan."
   ]
  },
  {
   "cell_type": "code",
   "execution_count": 98,
   "metadata": {},
   "outputs": [
    {
     "data": {
      "text/html": [
       "<div>\n",
       "<style scoped>\n",
       "    .dataframe tbody tr th:only-of-type {\n",
       "        vertical-align: middle;\n",
       "    }\n",
       "\n",
       "    .dataframe tbody tr th {\n",
       "        vertical-align: top;\n",
       "    }\n",
       "\n",
       "    .dataframe thead th {\n",
       "        text-align: right;\n",
       "    }\n",
       "</style>\n",
       "<table border=\"1\" class=\"dataframe\">\n",
       "  <thead>\n",
       "    <tr style=\"text-align: right;\">\n",
       "      <th></th>\n",
       "      <th>value</th>\n",
       "      <th>t-12</th>\n",
       "      <th>t-11</th>\n",
       "      <th>t-10</th>\n",
       "      <th>t-9</th>\n",
       "      <th>t-8</th>\n",
       "      <th>t-7</th>\n",
       "      <th>t-6</th>\n",
       "      <th>t-5</th>\n",
       "      <th>t-4</th>\n",
       "      <th>t-3</th>\n",
       "      <th>t-2</th>\n",
       "      <th>t-1</th>\n",
       "    </tr>\n",
       "    <tr>\n",
       "      <th>date</th>\n",
       "      <th></th>\n",
       "      <th></th>\n",
       "      <th></th>\n",
       "      <th></th>\n",
       "      <th></th>\n",
       "      <th></th>\n",
       "      <th></th>\n",
       "      <th></th>\n",
       "      <th></th>\n",
       "      <th></th>\n",
       "      <th></th>\n",
       "      <th></th>\n",
       "      <th></th>\n",
       "    </tr>\n",
       "  </thead>\n",
       "  <tbody>\n",
       "    <tr>\n",
       "      <th>1950-01-01</th>\n",
       "      <td>4.744932</td>\n",
       "      <td>4.718499</td>\n",
       "      <td>4.770685</td>\n",
       "      <td>4.882802</td>\n",
       "      <td>4.859812</td>\n",
       "      <td>4.795791</td>\n",
       "      <td>4.905275</td>\n",
       "      <td>4.997212</td>\n",
       "      <td>4.997212</td>\n",
       "      <td>4.912655</td>\n",
       "      <td>4.779123</td>\n",
       "      <td>4.644391</td>\n",
       "      <td>4.770685</td>\n",
       "    </tr>\n",
       "    <tr>\n",
       "      <th>1950-02-01</th>\n",
       "      <td>4.836282</td>\n",
       "      <td>4.770685</td>\n",
       "      <td>4.882802</td>\n",
       "      <td>4.859812</td>\n",
       "      <td>4.795791</td>\n",
       "      <td>4.905275</td>\n",
       "      <td>4.997212</td>\n",
       "      <td>4.997212</td>\n",
       "      <td>4.912655</td>\n",
       "      <td>4.779123</td>\n",
       "      <td>4.644391</td>\n",
       "      <td>4.770685</td>\n",
       "      <td>4.744932</td>\n",
       "    </tr>\n",
       "    <tr>\n",
       "      <th>1950-03-01</th>\n",
       "      <td>4.948760</td>\n",
       "      <td>4.882802</td>\n",
       "      <td>4.859812</td>\n",
       "      <td>4.795791</td>\n",
       "      <td>4.905275</td>\n",
       "      <td>4.997212</td>\n",
       "      <td>4.997212</td>\n",
       "      <td>4.912655</td>\n",
       "      <td>4.779123</td>\n",
       "      <td>4.644391</td>\n",
       "      <td>4.770685</td>\n",
       "      <td>4.744932</td>\n",
       "      <td>4.836282</td>\n",
       "    </tr>\n",
       "    <tr>\n",
       "      <th>1950-04-01</th>\n",
       "      <td>4.905275</td>\n",
       "      <td>4.859812</td>\n",
       "      <td>4.795791</td>\n",
       "      <td>4.905275</td>\n",
       "      <td>4.997212</td>\n",
       "      <td>4.997212</td>\n",
       "      <td>4.912655</td>\n",
       "      <td>4.779123</td>\n",
       "      <td>4.644391</td>\n",
       "      <td>4.770685</td>\n",
       "      <td>4.744932</td>\n",
       "      <td>4.836282</td>\n",
       "      <td>4.948760</td>\n",
       "    </tr>\n",
       "    <tr>\n",
       "      <th>1950-05-01</th>\n",
       "      <td>4.828314</td>\n",
       "      <td>4.795791</td>\n",
       "      <td>4.905275</td>\n",
       "      <td>4.997212</td>\n",
       "      <td>4.997212</td>\n",
       "      <td>4.912655</td>\n",
       "      <td>4.779123</td>\n",
       "      <td>4.644391</td>\n",
       "      <td>4.770685</td>\n",
       "      <td>4.744932</td>\n",
       "      <td>4.836282</td>\n",
       "      <td>4.948760</td>\n",
       "      <td>4.905275</td>\n",
       "    </tr>\n",
       "    <tr>\n",
       "      <th>...</th>\n",
       "      <td>...</td>\n",
       "      <td>...</td>\n",
       "      <td>...</td>\n",
       "      <td>...</td>\n",
       "      <td>...</td>\n",
       "      <td>...</td>\n",
       "      <td>...</td>\n",
       "      <td>...</td>\n",
       "      <td>...</td>\n",
       "      <td>...</td>\n",
       "      <td>...</td>\n",
       "      <td>...</td>\n",
       "      <td>...</td>\n",
       "    </tr>\n",
       "    <tr>\n",
       "      <th>1960-08-01</th>\n",
       "      <td>6.406880</td>\n",
       "      <td>6.326149</td>\n",
       "      <td>6.137727</td>\n",
       "      <td>6.008813</td>\n",
       "      <td>5.891644</td>\n",
       "      <td>6.003887</td>\n",
       "      <td>6.033086</td>\n",
       "      <td>5.968708</td>\n",
       "      <td>6.037871</td>\n",
       "      <td>6.133398</td>\n",
       "      <td>6.156979</td>\n",
       "      <td>6.282267</td>\n",
       "      <td>6.432940</td>\n",
       "    </tr>\n",
       "    <tr>\n",
       "      <th>1960-09-01</th>\n",
       "      <td>6.230481</td>\n",
       "      <td>6.137727</td>\n",
       "      <td>6.008813</td>\n",
       "      <td>5.891644</td>\n",
       "      <td>6.003887</td>\n",
       "      <td>6.033086</td>\n",
       "      <td>5.968708</td>\n",
       "      <td>6.037871</td>\n",
       "      <td>6.133398</td>\n",
       "      <td>6.156979</td>\n",
       "      <td>6.282267</td>\n",
       "      <td>6.432940</td>\n",
       "      <td>6.406880</td>\n",
       "    </tr>\n",
       "    <tr>\n",
       "      <th>1960-10-01</th>\n",
       "      <td>6.133398</td>\n",
       "      <td>6.008813</td>\n",
       "      <td>5.891644</td>\n",
       "      <td>6.003887</td>\n",
       "      <td>6.033086</td>\n",
       "      <td>5.968708</td>\n",
       "      <td>6.037871</td>\n",
       "      <td>6.133398</td>\n",
       "      <td>6.156979</td>\n",
       "      <td>6.282267</td>\n",
       "      <td>6.432940</td>\n",
       "      <td>6.406880</td>\n",
       "      <td>6.230481</td>\n",
       "    </tr>\n",
       "    <tr>\n",
       "      <th>1960-11-01</th>\n",
       "      <td>5.966147</td>\n",
       "      <td>5.891644</td>\n",
       "      <td>6.003887</td>\n",
       "      <td>6.033086</td>\n",
       "      <td>5.968708</td>\n",
       "      <td>6.037871</td>\n",
       "      <td>6.133398</td>\n",
       "      <td>6.156979</td>\n",
       "      <td>6.282267</td>\n",
       "      <td>6.432940</td>\n",
       "      <td>6.406880</td>\n",
       "      <td>6.230481</td>\n",
       "      <td>6.133398</td>\n",
       "    </tr>\n",
       "    <tr>\n",
       "      <th>1960-12-01</th>\n",
       "      <td>6.068426</td>\n",
       "      <td>6.003887</td>\n",
       "      <td>6.033086</td>\n",
       "      <td>5.968708</td>\n",
       "      <td>6.037871</td>\n",
       "      <td>6.133398</td>\n",
       "      <td>6.156979</td>\n",
       "      <td>6.282267</td>\n",
       "      <td>6.432940</td>\n",
       "      <td>6.406880</td>\n",
       "      <td>6.230481</td>\n",
       "      <td>6.133398</td>\n",
       "      <td>5.966147</td>\n",
       "    </tr>\n",
       "  </tbody>\n",
       "</table>\n",
       "<p>132 rows × 13 columns</p>\n",
       "</div>"
      ],
      "text/plain": [
       "               value      t-12      t-11      t-10       t-9       t-8  \\\n",
       "date                                                                     \n",
       "1950-01-01  4.744932  4.718499  4.770685  4.882802  4.859812  4.795791   \n",
       "1950-02-01  4.836282  4.770685  4.882802  4.859812  4.795791  4.905275   \n",
       "1950-03-01  4.948760  4.882802  4.859812  4.795791  4.905275  4.997212   \n",
       "1950-04-01  4.905275  4.859812  4.795791  4.905275  4.997212  4.997212   \n",
       "1950-05-01  4.828314  4.795791  4.905275  4.997212  4.997212  4.912655   \n",
       "...              ...       ...       ...       ...       ...       ...   \n",
       "1960-08-01  6.406880  6.326149  6.137727  6.008813  5.891644  6.003887   \n",
       "1960-09-01  6.230481  6.137727  6.008813  5.891644  6.003887  6.033086   \n",
       "1960-10-01  6.133398  6.008813  5.891644  6.003887  6.033086  5.968708   \n",
       "1960-11-01  5.966147  5.891644  6.003887  6.033086  5.968708  6.037871   \n",
       "1960-12-01  6.068426  6.003887  6.033086  5.968708  6.037871  6.133398   \n",
       "\n",
       "                 t-7       t-6       t-5       t-4       t-3       t-2  \\\n",
       "date                                                                     \n",
       "1950-01-01  4.905275  4.997212  4.997212  4.912655  4.779123  4.644391   \n",
       "1950-02-01  4.997212  4.997212  4.912655  4.779123  4.644391  4.770685   \n",
       "1950-03-01  4.997212  4.912655  4.779123  4.644391  4.770685  4.744932   \n",
       "1950-04-01  4.912655  4.779123  4.644391  4.770685  4.744932  4.836282   \n",
       "1950-05-01  4.779123  4.644391  4.770685  4.744932  4.836282  4.948760   \n",
       "...              ...       ...       ...       ...       ...       ...   \n",
       "1960-08-01  6.033086  5.968708  6.037871  6.133398  6.156979  6.282267   \n",
       "1960-09-01  5.968708  6.037871  6.133398  6.156979  6.282267  6.432940   \n",
       "1960-10-01  6.037871  6.133398  6.156979  6.282267  6.432940  6.406880   \n",
       "1960-11-01  6.133398  6.156979  6.282267  6.432940  6.406880  6.230481   \n",
       "1960-12-01  6.156979  6.282267  6.432940  6.406880  6.230481  6.133398   \n",
       "\n",
       "                 t-1  \n",
       "date                  \n",
       "1950-01-01  4.770685  \n",
       "1950-02-01  4.744932  \n",
       "1950-03-01  4.836282  \n",
       "1950-04-01  4.948760  \n",
       "1950-05-01  4.905275  \n",
       "...              ...  \n",
       "1960-08-01  6.432940  \n",
       "1960-09-01  6.406880  \n",
       "1960-10-01  6.230481  \n",
       "1960-11-01  6.133398  \n",
       "1960-12-01  5.966147  \n",
       "\n",
       "[132 rows x 13 columns]"
      ]
     },
     "execution_count": 98,
     "metadata": {},
     "output_type": "execute_result"
    }
   ],
   "source": [
    "# Transforma el df para poder usarlo con otros módelos"
   ]
  },
  {
   "cell_type": "code",
   "execution_count": null,
   "metadata": {},
   "outputs": [
    {
     "name": "stdout",
     "output_type": "stream",
     "text": [
      "(112, 12)\n",
      "(20, 12)\n",
      "(112,)\n",
      "(20,)\n"
     ]
    }
   ],
   "source": [
    "# Divide en X e y, en train/test y muestra los shapes obtenidos"
   ]
  },
  {
   "cell_type": "code",
   "execution_count": 107,
   "metadata": {},
   "outputs": [
    {
     "data": {
      "text/html": [
       "<div>\n",
       "<style scoped>\n",
       "    .dataframe tbody tr th:only-of-type {\n",
       "        vertical-align: middle;\n",
       "    }\n",
       "\n",
       "    .dataframe tbody tr th {\n",
       "        vertical-align: top;\n",
       "    }\n",
       "\n",
       "    .dataframe thead th {\n",
       "        text-align: right;\n",
       "    }\n",
       "</style>\n",
       "<table border=\"1\" class=\"dataframe\">\n",
       "  <thead>\n",
       "    <tr style=\"text-align: right;\">\n",
       "      <th></th>\n",
       "      <th>t-12</th>\n",
       "      <th>t-11</th>\n",
       "      <th>t-10</th>\n",
       "      <th>t-9</th>\n",
       "      <th>t-8</th>\n",
       "      <th>t-7</th>\n",
       "      <th>t-6</th>\n",
       "      <th>t-5</th>\n",
       "      <th>t-4</th>\n",
       "      <th>t-3</th>\n",
       "      <th>t-2</th>\n",
       "      <th>t-1</th>\n",
       "    </tr>\n",
       "    <tr>\n",
       "      <th>date</th>\n",
       "      <th></th>\n",
       "      <th></th>\n",
       "      <th></th>\n",
       "      <th></th>\n",
       "      <th></th>\n",
       "      <th></th>\n",
       "      <th></th>\n",
       "      <th></th>\n",
       "      <th></th>\n",
       "      <th></th>\n",
       "      <th></th>\n",
       "      <th></th>\n",
       "    </tr>\n",
       "  </thead>\n",
       "  <tbody>\n",
       "    <tr>\n",
       "      <th>1959-05-01</th>\n",
       "      <td>5.894403</td>\n",
       "      <td>6.075346</td>\n",
       "      <td>6.196444</td>\n",
       "      <td>6.224558</td>\n",
       "      <td>6.001415</td>\n",
       "      <td>5.883322</td>\n",
       "      <td>5.736572</td>\n",
       "      <td>5.820083</td>\n",
       "      <td>5.886104</td>\n",
       "      <td>5.834811</td>\n",
       "      <td>6.006353</td>\n",
       "      <td>5.981414</td>\n",
       "    </tr>\n",
       "    <tr>\n",
       "      <th>1959-06-01</th>\n",
       "      <td>6.075346</td>\n",
       "      <td>6.196444</td>\n",
       "      <td>6.224558</td>\n",
       "      <td>6.001415</td>\n",
       "      <td>5.883322</td>\n",
       "      <td>5.736572</td>\n",
       "      <td>5.820083</td>\n",
       "      <td>5.886104</td>\n",
       "      <td>5.834811</td>\n",
       "      <td>6.006353</td>\n",
       "      <td>5.981414</td>\n",
       "      <td>6.040255</td>\n",
       "    </tr>\n",
       "    <tr>\n",
       "      <th>1959-07-01</th>\n",
       "      <td>6.196444</td>\n",
       "      <td>6.224558</td>\n",
       "      <td>6.001415</td>\n",
       "      <td>5.883322</td>\n",
       "      <td>5.736572</td>\n",
       "      <td>5.820083</td>\n",
       "      <td>5.886104</td>\n",
       "      <td>5.834811</td>\n",
       "      <td>6.006353</td>\n",
       "      <td>5.981414</td>\n",
       "      <td>6.040255</td>\n",
       "      <td>6.156979</td>\n",
       "    </tr>\n",
       "    <tr>\n",
       "      <th>1959-08-01</th>\n",
       "      <td>6.224558</td>\n",
       "      <td>6.001415</td>\n",
       "      <td>5.883322</td>\n",
       "      <td>5.736572</td>\n",
       "      <td>5.820083</td>\n",
       "      <td>5.886104</td>\n",
       "      <td>5.834811</td>\n",
       "      <td>6.006353</td>\n",
       "      <td>5.981414</td>\n",
       "      <td>6.040255</td>\n",
       "      <td>6.156979</td>\n",
       "      <td>6.306275</td>\n",
       "    </tr>\n",
       "    <tr>\n",
       "      <th>1959-09-01</th>\n",
       "      <td>6.001415</td>\n",
       "      <td>5.883322</td>\n",
       "      <td>5.736572</td>\n",
       "      <td>5.820083</td>\n",
       "      <td>5.886104</td>\n",
       "      <td>5.834811</td>\n",
       "      <td>6.006353</td>\n",
       "      <td>5.981414</td>\n",
       "      <td>6.040255</td>\n",
       "      <td>6.156979</td>\n",
       "      <td>6.306275</td>\n",
       "      <td>6.326149</td>\n",
       "    </tr>\n",
       "    <tr>\n",
       "      <th>1959-10-01</th>\n",
       "      <td>5.883322</td>\n",
       "      <td>5.736572</td>\n",
       "      <td>5.820083</td>\n",
       "      <td>5.886104</td>\n",
       "      <td>5.834811</td>\n",
       "      <td>6.006353</td>\n",
       "      <td>5.981414</td>\n",
       "      <td>6.040255</td>\n",
       "      <td>6.156979</td>\n",
       "      <td>6.306275</td>\n",
       "      <td>6.326149</td>\n",
       "      <td>6.137727</td>\n",
       "    </tr>\n",
       "    <tr>\n",
       "      <th>1959-11-01</th>\n",
       "      <td>5.736572</td>\n",
       "      <td>5.820083</td>\n",
       "      <td>5.886104</td>\n",
       "      <td>5.834811</td>\n",
       "      <td>6.006353</td>\n",
       "      <td>5.981414</td>\n",
       "      <td>6.040255</td>\n",
       "      <td>6.156979</td>\n",
       "      <td>6.306275</td>\n",
       "      <td>6.326149</td>\n",
       "      <td>6.137727</td>\n",
       "      <td>6.008813</td>\n",
       "    </tr>\n",
       "    <tr>\n",
       "      <th>1959-12-01</th>\n",
       "      <td>5.820083</td>\n",
       "      <td>5.886104</td>\n",
       "      <td>5.834811</td>\n",
       "      <td>6.006353</td>\n",
       "      <td>5.981414</td>\n",
       "      <td>6.040255</td>\n",
       "      <td>6.156979</td>\n",
       "      <td>6.306275</td>\n",
       "      <td>6.326149</td>\n",
       "      <td>6.137727</td>\n",
       "      <td>6.008813</td>\n",
       "      <td>5.891644</td>\n",
       "    </tr>\n",
       "    <tr>\n",
       "      <th>1960-01-01</th>\n",
       "      <td>5.886104</td>\n",
       "      <td>5.834811</td>\n",
       "      <td>6.006353</td>\n",
       "      <td>5.981414</td>\n",
       "      <td>6.040255</td>\n",
       "      <td>6.156979</td>\n",
       "      <td>6.306275</td>\n",
       "      <td>6.326149</td>\n",
       "      <td>6.137727</td>\n",
       "      <td>6.008813</td>\n",
       "      <td>5.891644</td>\n",
       "      <td>6.003887</td>\n",
       "    </tr>\n",
       "    <tr>\n",
       "      <th>1960-02-01</th>\n",
       "      <td>5.834811</td>\n",
       "      <td>6.006353</td>\n",
       "      <td>5.981414</td>\n",
       "      <td>6.040255</td>\n",
       "      <td>6.156979</td>\n",
       "      <td>6.306275</td>\n",
       "      <td>6.326149</td>\n",
       "      <td>6.137727</td>\n",
       "      <td>6.008813</td>\n",
       "      <td>5.891644</td>\n",
       "      <td>6.003887</td>\n",
       "      <td>6.033086</td>\n",
       "    </tr>\n",
       "    <tr>\n",
       "      <th>1960-03-01</th>\n",
       "      <td>6.006353</td>\n",
       "      <td>5.981414</td>\n",
       "      <td>6.040255</td>\n",
       "      <td>6.156979</td>\n",
       "      <td>6.306275</td>\n",
       "      <td>6.326149</td>\n",
       "      <td>6.137727</td>\n",
       "      <td>6.008813</td>\n",
       "      <td>5.891644</td>\n",
       "      <td>6.003887</td>\n",
       "      <td>6.033086</td>\n",
       "      <td>5.968708</td>\n",
       "    </tr>\n",
       "    <tr>\n",
       "      <th>1960-04-01</th>\n",
       "      <td>5.981414</td>\n",
       "      <td>6.040255</td>\n",
       "      <td>6.156979</td>\n",
       "      <td>6.306275</td>\n",
       "      <td>6.326149</td>\n",
       "      <td>6.137727</td>\n",
       "      <td>6.008813</td>\n",
       "      <td>5.891644</td>\n",
       "      <td>6.003887</td>\n",
       "      <td>6.033086</td>\n",
       "      <td>5.968708</td>\n",
       "      <td>6.037871</td>\n",
       "    </tr>\n",
       "    <tr>\n",
       "      <th>1960-05-01</th>\n",
       "      <td>6.040255</td>\n",
       "      <td>6.156979</td>\n",
       "      <td>6.306275</td>\n",
       "      <td>6.326149</td>\n",
       "      <td>6.137727</td>\n",
       "      <td>6.008813</td>\n",
       "      <td>5.891644</td>\n",
       "      <td>6.003887</td>\n",
       "      <td>6.033086</td>\n",
       "      <td>5.968708</td>\n",
       "      <td>6.037871</td>\n",
       "      <td>6.133398</td>\n",
       "    </tr>\n",
       "    <tr>\n",
       "      <th>1960-06-01</th>\n",
       "      <td>6.156979</td>\n",
       "      <td>6.306275</td>\n",
       "      <td>6.326149</td>\n",
       "      <td>6.137727</td>\n",
       "      <td>6.008813</td>\n",
       "      <td>5.891644</td>\n",
       "      <td>6.003887</td>\n",
       "      <td>6.033086</td>\n",
       "      <td>5.968708</td>\n",
       "      <td>6.037871</td>\n",
       "      <td>6.133398</td>\n",
       "      <td>6.156979</td>\n",
       "    </tr>\n",
       "    <tr>\n",
       "      <th>1960-07-01</th>\n",
       "      <td>6.306275</td>\n",
       "      <td>6.326149</td>\n",
       "      <td>6.137727</td>\n",
       "      <td>6.008813</td>\n",
       "      <td>5.891644</td>\n",
       "      <td>6.003887</td>\n",
       "      <td>6.033086</td>\n",
       "      <td>5.968708</td>\n",
       "      <td>6.037871</td>\n",
       "      <td>6.133398</td>\n",
       "      <td>6.156979</td>\n",
       "      <td>6.282267</td>\n",
       "    </tr>\n",
       "    <tr>\n",
       "      <th>1960-08-01</th>\n",
       "      <td>6.326149</td>\n",
       "      <td>6.137727</td>\n",
       "      <td>6.008813</td>\n",
       "      <td>5.891644</td>\n",
       "      <td>6.003887</td>\n",
       "      <td>6.033086</td>\n",
       "      <td>5.968708</td>\n",
       "      <td>6.037871</td>\n",
       "      <td>6.133398</td>\n",
       "      <td>6.156979</td>\n",
       "      <td>6.282267</td>\n",
       "      <td>6.432940</td>\n",
       "    </tr>\n",
       "    <tr>\n",
       "      <th>1960-09-01</th>\n",
       "      <td>6.137727</td>\n",
       "      <td>6.008813</td>\n",
       "      <td>5.891644</td>\n",
       "      <td>6.003887</td>\n",
       "      <td>6.033086</td>\n",
       "      <td>5.968708</td>\n",
       "      <td>6.037871</td>\n",
       "      <td>6.133398</td>\n",
       "      <td>6.156979</td>\n",
       "      <td>6.282267</td>\n",
       "      <td>6.432940</td>\n",
       "      <td>6.406880</td>\n",
       "    </tr>\n",
       "    <tr>\n",
       "      <th>1960-10-01</th>\n",
       "      <td>6.008813</td>\n",
       "      <td>5.891644</td>\n",
       "      <td>6.003887</td>\n",
       "      <td>6.033086</td>\n",
       "      <td>5.968708</td>\n",
       "      <td>6.037871</td>\n",
       "      <td>6.133398</td>\n",
       "      <td>6.156979</td>\n",
       "      <td>6.282267</td>\n",
       "      <td>6.432940</td>\n",
       "      <td>6.406880</td>\n",
       "      <td>6.230481</td>\n",
       "    </tr>\n",
       "    <tr>\n",
       "      <th>1960-11-01</th>\n",
       "      <td>5.891644</td>\n",
       "      <td>6.003887</td>\n",
       "      <td>6.033086</td>\n",
       "      <td>5.968708</td>\n",
       "      <td>6.037871</td>\n",
       "      <td>6.133398</td>\n",
       "      <td>6.156979</td>\n",
       "      <td>6.282267</td>\n",
       "      <td>6.432940</td>\n",
       "      <td>6.406880</td>\n",
       "      <td>6.230481</td>\n",
       "      <td>6.133398</td>\n",
       "    </tr>\n",
       "    <tr>\n",
       "      <th>1960-12-01</th>\n",
       "      <td>6.003887</td>\n",
       "      <td>6.033086</td>\n",
       "      <td>5.968708</td>\n",
       "      <td>6.037871</td>\n",
       "      <td>6.133398</td>\n",
       "      <td>6.156979</td>\n",
       "      <td>6.282267</td>\n",
       "      <td>6.432940</td>\n",
       "      <td>6.406880</td>\n",
       "      <td>6.230481</td>\n",
       "      <td>6.133398</td>\n",
       "      <td>5.966147</td>\n",
       "    </tr>\n",
       "  </tbody>\n",
       "</table>\n",
       "</div>"
      ],
      "text/plain": [
       "                t-12      t-11      t-10       t-9       t-8       t-7  \\\n",
       "date                                                                     \n",
       "1959-05-01  5.894403  6.075346  6.196444  6.224558  6.001415  5.883322   \n",
       "1959-06-01  6.075346  6.196444  6.224558  6.001415  5.883322  5.736572   \n",
       "1959-07-01  6.196444  6.224558  6.001415  5.883322  5.736572  5.820083   \n",
       "1959-08-01  6.224558  6.001415  5.883322  5.736572  5.820083  5.886104   \n",
       "1959-09-01  6.001415  5.883322  5.736572  5.820083  5.886104  5.834811   \n",
       "1959-10-01  5.883322  5.736572  5.820083  5.886104  5.834811  6.006353   \n",
       "1959-11-01  5.736572  5.820083  5.886104  5.834811  6.006353  5.981414   \n",
       "1959-12-01  5.820083  5.886104  5.834811  6.006353  5.981414  6.040255   \n",
       "1960-01-01  5.886104  5.834811  6.006353  5.981414  6.040255  6.156979   \n",
       "1960-02-01  5.834811  6.006353  5.981414  6.040255  6.156979  6.306275   \n",
       "1960-03-01  6.006353  5.981414  6.040255  6.156979  6.306275  6.326149   \n",
       "1960-04-01  5.981414  6.040255  6.156979  6.306275  6.326149  6.137727   \n",
       "1960-05-01  6.040255  6.156979  6.306275  6.326149  6.137727  6.008813   \n",
       "1960-06-01  6.156979  6.306275  6.326149  6.137727  6.008813  5.891644   \n",
       "1960-07-01  6.306275  6.326149  6.137727  6.008813  5.891644  6.003887   \n",
       "1960-08-01  6.326149  6.137727  6.008813  5.891644  6.003887  6.033086   \n",
       "1960-09-01  6.137727  6.008813  5.891644  6.003887  6.033086  5.968708   \n",
       "1960-10-01  6.008813  5.891644  6.003887  6.033086  5.968708  6.037871   \n",
       "1960-11-01  5.891644  6.003887  6.033086  5.968708  6.037871  6.133398   \n",
       "1960-12-01  6.003887  6.033086  5.968708  6.037871  6.133398  6.156979   \n",
       "\n",
       "                 t-6       t-5       t-4       t-3       t-2       t-1  \n",
       "date                                                                    \n",
       "1959-05-01  5.736572  5.820083  5.886104  5.834811  6.006353  5.981414  \n",
       "1959-06-01  5.820083  5.886104  5.834811  6.006353  5.981414  6.040255  \n",
       "1959-07-01  5.886104  5.834811  6.006353  5.981414  6.040255  6.156979  \n",
       "1959-08-01  5.834811  6.006353  5.981414  6.040255  6.156979  6.306275  \n",
       "1959-09-01  6.006353  5.981414  6.040255  6.156979  6.306275  6.326149  \n",
       "1959-10-01  5.981414  6.040255  6.156979  6.306275  6.326149  6.137727  \n",
       "1959-11-01  6.040255  6.156979  6.306275  6.326149  6.137727  6.008813  \n",
       "1959-12-01  6.156979  6.306275  6.326149  6.137727  6.008813  5.891644  \n",
       "1960-01-01  6.306275  6.326149  6.137727  6.008813  5.891644  6.003887  \n",
       "1960-02-01  6.326149  6.137727  6.008813  5.891644  6.003887  6.033086  \n",
       "1960-03-01  6.137727  6.008813  5.891644  6.003887  6.033086  5.968708  \n",
       "1960-04-01  6.008813  5.891644  6.003887  6.033086  5.968708  6.037871  \n",
       "1960-05-01  5.891644  6.003887  6.033086  5.968708  6.037871  6.133398  \n",
       "1960-06-01  6.003887  6.033086  5.968708  6.037871  6.133398  6.156979  \n",
       "1960-07-01  6.033086  5.968708  6.037871  6.133398  6.156979  6.282267  \n",
       "1960-08-01  5.968708  6.037871  6.133398  6.156979  6.282267  6.432940  \n",
       "1960-09-01  6.037871  6.133398  6.156979  6.282267  6.432940  6.406880  \n",
       "1960-10-01  6.133398  6.156979  6.282267  6.432940  6.406880  6.230481  \n",
       "1960-11-01  6.156979  6.282267  6.432940  6.406880  6.230481  6.133398  \n",
       "1960-12-01  6.282267  6.432940  6.406880  6.230481  6.133398  5.966147  "
      ]
     },
     "execution_count": 107,
     "metadata": {},
     "output_type": "execute_result"
    }
   ],
   "source": [
    "X_test"
   ]
  },
  {
   "cell_type": "code",
   "execution_count": 106,
   "metadata": {},
   "outputs": [
    {
     "data": {
      "text/plain": [
       "date\n",
       "1959-05-01    6.040255\n",
       "1959-06-01    6.156979\n",
       "1959-07-01    6.306275\n",
       "1959-08-01    6.326149\n",
       "1959-09-01    6.137727\n",
       "1959-10-01    6.008813\n",
       "1959-11-01    5.891644\n",
       "1959-12-01    6.003887\n",
       "1960-01-01    6.033086\n",
       "1960-02-01    5.968708\n",
       "1960-03-01    6.037871\n",
       "1960-04-01    6.133398\n",
       "1960-05-01    6.156979\n",
       "1960-06-01    6.282267\n",
       "1960-07-01    6.432940\n",
       "1960-08-01    6.406880\n",
       "1960-09-01    6.230481\n",
       "1960-10-01    6.133398\n",
       "1960-11-01    5.966147\n",
       "1960-12-01    6.068426\n",
       "Name: value, dtype: float64"
      ]
     },
     "execution_count": 106,
     "metadata": {},
     "output_type": "execute_result"
    }
   ],
   "source": [
    "y_test"
   ]
  },
  {
   "cell_type": "code",
   "execution_count": 102,
   "metadata": {},
   "outputs": [],
   "source": [
    "from sklearn.ensemble import RandomForestRegressor"
   ]
  },
  {
   "cell_type": "code",
   "execution_count": 104,
   "metadata": {},
   "outputs": [
    {
     "data": {
      "text/plain": [
       "0.013769863496171658"
      ]
     },
     "execution_count": 104,
     "metadata": {},
     "output_type": "execute_result"
    }
   ],
   "source": [
    "# entrena el random forest\n",
    "\n",
    "# muestra el mean_absolute_percentage_error de test"
   ]
  },
  {
   "cell_type": "code",
   "execution_count": 109,
   "metadata": {},
   "outputs": [
    {
     "data": {
      "image/png": "[encoded data removed]",
      "text/plain": [
       "<Figure size 432x288 with 1 Axes>"
      ]
     },
     "metadata": {
      "needs_background": "light"
     },
     "output_type": "display_data"
    }
   ],
   "source": []
  },
  {
   "cell_type": "code",
   "execution_count": 111,
   "metadata": {},
   "outputs": [
    {
     "data": {
      "text/plain": [
       "array([0.89574548, 0.01420781, 0.00129769, 0.00172738, 0.00228326,\n",
       "       0.00155955, 0.00120087, 0.00176066, 0.00192478, 0.00514753,\n",
       "       0.00241009, 0.07073491])"
      ]
     },
     "execution_count": 111,
     "metadata": {},
     "output_type": "execute_result"
    }
   ],
   "source": [
    "# feature_importances_"
   ]
  },
  {
   "cell_type": "markdown",
   "metadata": {},
   "source": [
    "Prueba otro enfoque, esta vez que la fecha NO sea el índice"
   ]
  },
  {
   "cell_type": "code",
   "execution_count": 114,
   "metadata": {},
   "outputs": [
    {
     "data": {
      "text/html": [
       "<div>\n",
       "<style scoped>\n",
       "    .dataframe tbody tr th:only-of-type {\n",
       "        vertical-align: middle;\n",
       "    }\n",
       "\n",
       "    .dataframe tbody tr th {\n",
       "        vertical-align: top;\n",
       "    }\n",
       "\n",
       "    .dataframe thead th {\n",
       "        text-align: right;\n",
       "    }\n",
       "</style>\n",
       "<table border=\"1\" class=\"dataframe\">\n",
       "  <thead>\n",
       "    <tr style=\"text-align: right;\">\n",
       "      <th></th>\n",
       "      <th>date</th>\n",
       "      <th>value</th>\n",
       "      <th>t-1</th>\n",
       "      <th>t-11</th>\n",
       "      <th>t-12</th>\n",
       "      <th>t-13</th>\n",
       "    </tr>\n",
       "  </thead>\n",
       "  <tbody>\n",
       "    <tr>\n",
       "      <th>0</th>\n",
       "      <td>1949-01-01</td>\n",
       "      <td>4.718499</td>\n",
       "      <td>NaN</td>\n",
       "      <td>NaN</td>\n",
       "      <td>NaN</td>\n",
       "      <td>NaN</td>\n",
       "    </tr>\n",
       "    <tr>\n",
       "      <th>1</th>\n",
       "      <td>1949-02-01</td>\n",
       "      <td>4.770685</td>\n",
       "      <td>4.718499</td>\n",
       "      <td>NaN</td>\n",
       "      <td>NaN</td>\n",
       "      <td>NaN</td>\n",
       "    </tr>\n",
       "    <tr>\n",
       "      <th>2</th>\n",
       "      <td>1949-03-01</td>\n",
       "      <td>4.882802</td>\n",
       "      <td>4.770685</td>\n",
       "      <td>NaN</td>\n",
       "      <td>NaN</td>\n",
       "      <td>NaN</td>\n",
       "    </tr>\n",
       "    <tr>\n",
       "      <th>3</th>\n",
       "      <td>1949-04-01</td>\n",
       "      <td>4.859812</td>\n",
       "      <td>4.882802</td>\n",
       "      <td>NaN</td>\n",
       "      <td>NaN</td>\n",
       "      <td>NaN</td>\n",
       "    </tr>\n",
       "    <tr>\n",
       "      <th>4</th>\n",
       "      <td>1949-05-01</td>\n",
       "      <td>4.795791</td>\n",
       "      <td>4.859812</td>\n",
       "      <td>NaN</td>\n",
       "      <td>NaN</td>\n",
       "      <td>NaN</td>\n",
       "    </tr>\n",
       "    <tr>\n",
       "      <th>...</th>\n",
       "      <td>...</td>\n",
       "      <td>...</td>\n",
       "      <td>...</td>\n",
       "      <td>...</td>\n",
       "      <td>...</td>\n",
       "      <td>...</td>\n",
       "    </tr>\n",
       "    <tr>\n",
       "      <th>139</th>\n",
       "      <td>1960-08-01</td>\n",
       "      <td>6.406880</td>\n",
       "      <td>6.432940</td>\n",
       "      <td>6.137727</td>\n",
       "      <td>6.326149</td>\n",
       "      <td>6.306275</td>\n",
       "    </tr>\n",
       "    <tr>\n",
       "      <th>140</th>\n",
       "      <td>1960-09-01</td>\n",
       "      <td>6.230481</td>\n",
       "      <td>6.406880</td>\n",
       "      <td>6.008813</td>\n",
       "      <td>6.137727</td>\n",
       "      <td>6.326149</td>\n",
       "    </tr>\n",
       "    <tr>\n",
       "      <th>141</th>\n",
       "      <td>1960-10-01</td>\n",
       "      <td>6.133398</td>\n",
       "      <td>6.230481</td>\n",
       "      <td>5.891644</td>\n",
       "      <td>6.008813</td>\n",
       "      <td>6.137727</td>\n",
       "    </tr>\n",
       "    <tr>\n",
       "      <th>142</th>\n",
       "      <td>1960-11-01</td>\n",
       "      <td>5.966147</td>\n",
       "      <td>6.133398</td>\n",
       "      <td>6.003887</td>\n",
       "      <td>5.891644</td>\n",
       "      <td>6.008813</td>\n",
       "    </tr>\n",
       "    <tr>\n",
       "      <th>143</th>\n",
       "      <td>1960-12-01</td>\n",
       "      <td>6.068426</td>\n",
       "      <td>5.966147</td>\n",
       "      <td>6.033086</td>\n",
       "      <td>6.003887</td>\n",
       "      <td>5.891644</td>\n",
       "    </tr>\n",
       "  </tbody>\n",
       "</table>\n",
       "<p>144 rows × 6 columns</p>\n",
       "</div>"
      ],
      "text/plain": [
       "           date     value       t-1      t-11      t-12      t-13\n",
       "0    1949-01-01  4.718499       NaN       NaN       NaN       NaN\n",
       "1    1949-02-01  4.770685  4.718499       NaN       NaN       NaN\n",
       "2    1949-03-01  4.882802  4.770685       NaN       NaN       NaN\n",
       "3    1949-04-01  4.859812  4.882802       NaN       NaN       NaN\n",
       "4    1949-05-01  4.795791  4.859812       NaN       NaN       NaN\n",
       "..          ...       ...       ...       ...       ...       ...\n",
       "139  1960-08-01  6.406880  6.432940  6.137727  6.326149  6.306275\n",
       "140  1960-09-01  6.230481  6.406880  6.008813  6.137727  6.326149\n",
       "141  1960-10-01  6.133398  6.230481  5.891644  6.008813  6.137727\n",
       "142  1960-11-01  5.966147  6.133398  6.003887  5.891644  6.008813\n",
       "143  1960-12-01  6.068426  5.966147  6.033086  6.003887  5.891644\n",
       "\n",
       "[144 rows x 6 columns]"
      ]
     },
     "execution_count": 114,
     "metadata": {},
     "output_type": "execute_result"
    }
   ],
   "source": [
    "# Crea nuevas columnas con shifts de 1, 11, 12, 13"
   ]
  },
  {
   "cell_type": "code",
   "execution_count": 120,
   "metadata": {},
   "outputs": [
    {
     "name": "stdout",
     "output_type": "stream",
     "text": [
      "(112, 4)\n",
      "(19, 4)\n",
      "(112,)\n",
      "(19,)\n"
     ]
    }
   ],
   "source": [
    "# Divide en X e y, en train/test y muestra los shapes obtenidos"
   ]
  },
  {
   "cell_type": "code",
   "execution_count": 128,
   "metadata": {},
   "outputs": [
    {
     "name": "stdout",
     "output_type": "stream",
     "text": [
      "0.01174169752011279\n",
      "0.0035352065840446485\n"
     ]
    }
   ],
   "source": [
    "# entrena el random forest\n",
    "\n",
    "# muestra el mean_absolute_percentage_error de test y train"
   ]
  },
  {
   "cell_type": "code",
   "execution_count": 122,
   "metadata": {},
   "outputs": [
    {
     "data": {
      "image/png": "[encoded data removed]",
      "text/plain": [
       "<Figure size 432x288 with 1 Axes>"
      ]
     },
     "metadata": {
      "needs_background": "light"
     },
     "output_type": "display_data"
    }
   ],
   "source": []
  },
  {
   "cell_type": "code",
   "execution_count": null,
   "metadata": {},
   "outputs": [],
   "source": []
  }
 ],
 "metadata": {
  "kernelspec": {
   "display_name": "Python 3",
   "language": "python",
   "name": "python3"
  },
  "language_info": {
   "codemirror_mode": {
    "name": "ipython",
    "version": 3
   },
   "file_extension": ".py",
   "mimetype": "text/x-python",
   "name": "python",
   "nbconvert_exporter": "python",
   "pygments_lexer": "ipython3",
   "version": "3.12.3"
  }
 },
 "nbformat": 4,
 "nbformat_minor": 4
}
